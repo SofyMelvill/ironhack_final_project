{
 "cells": [
  {
   "cell_type": "markdown",
   "id": "b7d4327d",
   "metadata": {},
   "source": [
    "Agronomic caracteristics"
   ]
  },
  {
   "cell_type": "code",
   "execution_count": 1,
   "id": "e33e252e",
   "metadata": {},
   "outputs": [],
   "source": [
    "import pandas as pd"
   ]
  },
  {
   "cell_type": "code",
   "execution_count": 17,
   "id": "4185b790",
   "metadata": {},
   "outputs": [],
   "source": [
    "species_df = pd.read_csv(r\"C:\\Users\\sofia\\Documents\\Data_Analytics_Ironhack\\Projects\\ironhack_final_project\\Datasets\\Species_data\\Caracteristicas_plantas.csv\", sep=\";\", encoding=\"cp1252\")"
   ]
  },
  {
   "cell_type": "code",
   "execution_count": 18,
   "id": "b0f46ce1",
   "metadata": {},
   "outputs": [
    {
     "data": {
      "text/html": [
       "<div>\n",
       "<style scoped>\n",
       "    .dataframe tbody tr th:only-of-type {\n",
       "        vertical-align: middle;\n",
       "    }\n",
       "\n",
       "    .dataframe tbody tr th {\n",
       "        vertical-align: top;\n",
       "    }\n",
       "\n",
       "    .dataframe thead th {\n",
       "        text-align: right;\n",
       "    }\n",
       "</style>\n",
       "<table border=\"1\" class=\"dataframe\">\n",
       "  <thead>\n",
       "    <tr style=\"text-align: right;\">\n",
       "      <th></th>\n",
       "      <th>nome_comum</th>\n",
       "      <th>nome_científico</th>\n",
       "      <th>família</th>\n",
       "      <th>germinacao_Tmin</th>\n",
       "      <th>germinacao_Totima</th>\n",
       "      <th>germincacao_Tmáxima</th>\n",
       "      <th>vegetacao_Tmin</th>\n",
       "      <th>vegetacao_Toptima</th>\n",
       "      <th>vegetacao_Tmax</th>\n",
       "      <th>tolerancia_salinidade</th>\n",
       "      <th>intervalo_otimp_pH</th>\n",
       "      <th>tolerancia_acidez</th>\n",
       "      <th>solo_preferido</th>\n",
       "      <th>sol_fotoperíodo</th>\n",
       "      <th>clima_ideal _°C</th>\n",
       "      <th>necessidade_hidrica</th>\n",
       "      <th>notas_principais</th>\n",
       "    </tr>\n",
       "  </thead>\n",
       "  <tbody>\n",
       "    <tr>\n",
       "      <th>0</th>\n",
       "      <td>Abóbora</td>\n",
       "      <td>Curcubita sp.</td>\n",
       "      <td>Curcubitaceae</td>\n",
       "      <td>7,5</td>\n",
       "      <td>32,5</td>\n",
       "      <td>38</td>\n",
       "      <td>10</td>\n",
       "      <td>22,5</td>\n",
       "      <td>32</td>\n",
       "      <td>Moderada a Elevada</td>\n",
       "      <td>6–6,8</td>\n",
       "      <td>Moderada</td>\n",
       "      <td>Franco-arenoso, fértil, bem drenado</td>\n",
       "      <td>Pleno sol (? 6–8h)</td>\n",
       "      <td>20–30 °C</td>\n",
       "      <td>Moderada (rega regular)</td>\n",
       "      <td>Não tolera geadas; gosta de calor</td>\n",
       "    </tr>\n",
       "    <tr>\n",
       "      <th>1</th>\n",
       "      <td>Banana</td>\n",
       "      <td>Musa acuminata × Musa balbisiana (AA–AAA, etc.)</td>\n",
       "      <td>Musaceae</td>\n",
       "      <td>— (propagação vegetativa)</td>\n",
       "      <td>—</td>\n",
       "      <td>—</td>\n",
       "      <td>15</td>\n",
       "      <td>28</td>\n",
       "      <td>35</td>\n",
       "      <td>Moderada a elevada (algumas variedades toleram...</td>\n",
       "      <td>5,5–7,5</td>\n",
       "      <td>Moderada</td>\n",
       "      <td>Franco-argiloso, rico em matéria orgânica</td>\n",
       "      <td>Pleno sol (? 8h)</td>\n",
       "      <td>26–30 °C</td>\n",
       "      <td>Alta (rega constante)</td>\n",
       "      <td>Sensível ao vento forte</td>\n",
       "    </tr>\n",
       "    <tr>\n",
       "      <th>2</th>\n",
       "      <td>Batata</td>\n",
       "      <td>Solanum tuberosum</td>\n",
       "      <td>Solanaceae</td>\n",
       "      <td>3,5</td>\n",
       "      <td>19</td>\n",
       "      <td>NaN</td>\n",
       "      <td>7</td>\n",
       "      <td>20</td>\n",
       "      <td>32,5</td>\n",
       "      <td>Moderada</td>\n",
       "      <td>5,5–6</td>\n",
       "      <td>Elevada</td>\n",
       "      <td>Franco-arenoso, solto, bem drenado</td>\n",
       "      <td>6–8h sol</td>\n",
       "      <td>15–20 °C</td>\n",
       "      <td>Moderada</td>\n",
       "      <td>Não gosta de solos encharcados</td>\n",
       "    </tr>\n",
       "    <tr>\n",
       "      <th>3</th>\n",
       "      <td>Batata-doce</td>\n",
       "      <td>Ipomoea batatas</td>\n",
       "      <td>Convolvulaceae</td>\n",
       "      <td>15</td>\n",
       "      <td>27,5</td>\n",
       "      <td>38</td>\n",
       "      <td>15</td>\n",
       "      <td>23,5</td>\n",
       "      <td>35</td>\n",
       "      <td>Moderada</td>\n",
       "      <td>5,5–6,5</td>\n",
       "      <td>Moderada</td>\n",
       "      <td>Arenoso a franco-arenoso, solto</td>\n",
       "      <td>Pleno sol (? 6h)</td>\n",
       "      <td>21–26 °C</td>\n",
       "      <td>Baixa a moderada</td>\n",
       "      <td>Tolerante à seca, mas prefere calor</td>\n",
       "    </tr>\n",
       "    <tr>\n",
       "      <th>4</th>\n",
       "      <td>Cana-de-açúcar</td>\n",
       "      <td>Saccharum officinarum</td>\n",
       "      <td>Poaceae</td>\n",
       "      <td>18</td>\n",
       "      <td>30</td>\n",
       "      <td>38</td>\n",
       "      <td>18</td>\n",
       "      <td>27,5</td>\n",
       "      <td>36,5</td>\n",
       "      <td>Elevada (resiste a EC 1,7–2,5 dS/m)</td>\n",
       "      <td>6–7,5</td>\n",
       "      <td>Baixa</td>\n",
       "      <td>Profundos, férteis, franco-argilosos</td>\n",
       "      <td>Pleno sol (? 8h)</td>\n",
       "      <td>20–30 °C (ótimo 25–28 °C)</td>\n",
       "      <td>Muito alta</td>\n",
       "      <td>Cultura de clima tropical/subtropical</td>\n",
       "    </tr>\n",
       "  </tbody>\n",
       "</table>\n",
       "</div>"
      ],
      "text/plain": [
       "       nome_comum                                  nome_científico  \\\n",
       "0         Abóbora                                    Curcubita sp.   \n",
       "1          Banana  Musa acuminata × Musa balbisiana (AA–AAA, etc.)   \n",
       "2          Batata                                Solanum tuberosum   \n",
       "3     Batata-doce                                  Ipomoea batatas   \n",
       "4  Cana-de-açúcar                            Saccharum officinarum   \n",
       "\n",
       "          família            germinacao_Tmin germinacao_Totima  \\\n",
       "0   Curcubitaceae                        7,5              32,5   \n",
       "1        Musaceae  — (propagação vegetativa)                 —   \n",
       "2      Solanaceae                        3,5                19   \n",
       "3  Convolvulaceae                         15              27,5   \n",
       "4         Poaceae                         18                30   \n",
       "\n",
       "  germincacao_Tmáxima  vegetacao_Tmin vegetacao_Toptima vegetacao_Tmax  \\\n",
       "0                  38              10              22,5             32   \n",
       "1                   —              15                28             35   \n",
       "2                 NaN               7                20           32,5   \n",
       "3                  38              15              23,5             35   \n",
       "4                  38              18              27,5           36,5   \n",
       "\n",
       "                               tolerancia_salinidade intervalo_otimp_pH  \\\n",
       "0                                 Moderada a Elevada              6–6,8   \n",
       "1  Moderada a elevada (algumas variedades toleram...            5,5–7,5   \n",
       "2                                           Moderada              5,5–6   \n",
       "3                                           Moderada            5,5–6,5   \n",
       "4                Elevada (resiste a EC 1,7–2,5 dS/m)              6–7,5   \n",
       "\n",
       "  tolerancia_acidez                             solo_preferido  \\\n",
       "0          Moderada        Franco-arenoso, fértil, bem drenado   \n",
       "1          Moderada  Franco-argiloso, rico em matéria orgânica   \n",
       "2           Elevada         Franco-arenoso, solto, bem drenado   \n",
       "3          Moderada            Arenoso a franco-arenoso, solto   \n",
       "4             Baixa       Profundos, férteis, franco-argilosos   \n",
       "\n",
       "      sol_fotoperíodo            clima_ideal _°C      necessidade_hidrica  \\\n",
       "0  Pleno sol (? 6–8h)                   20–30 °C  Moderada (rega regular)   \n",
       "1    Pleno sol (? 8h)                   26–30 °C    Alta (rega constante)   \n",
       "2            6–8h sol                   15–20 °C                 Moderada   \n",
       "3    Pleno sol (? 6h)                   21–26 °C         Baixa a moderada   \n",
       "4    Pleno sol (? 8h)  20–30 °C (ótimo 25–28 °C)               Muito alta   \n",
       "\n",
       "                        notas_principais  \n",
       "0      Não tolera geadas; gosta de calor  \n",
       "1                Sensível ao vento forte  \n",
       "2         Não gosta de solos encharcados  \n",
       "3    Tolerante à seca, mas prefere calor  \n",
       "4  Cultura de clima tropical/subtropical  "
      ]
     },
     "execution_count": 18,
     "metadata": {},
     "output_type": "execute_result"
    }
   ],
   "source": [
    "species_df.head()"
   ]
  },
  {
   "cell_type": "code",
   "execution_count": 19,
   "id": "a3be766a",
   "metadata": {},
   "outputs": [
    {
     "data": {
      "text/html": [
       "<div>\n",
       "<style scoped>\n",
       "    .dataframe tbody tr th:only-of-type {\n",
       "        vertical-align: middle;\n",
       "    }\n",
       "\n",
       "    .dataframe tbody tr th {\n",
       "        vertical-align: top;\n",
       "    }\n",
       "\n",
       "    .dataframe thead th {\n",
       "        text-align: right;\n",
       "    }\n",
       "</style>\n",
       "<table border=\"1\" class=\"dataframe\">\n",
       "  <thead>\n",
       "    <tr style=\"text-align: right;\">\n",
       "      <th></th>\n",
       "      <th>nome_comum</th>\n",
       "      <th>nome_científico</th>\n",
       "      <th>família</th>\n",
       "      <th>germinacao_Tmin</th>\n",
       "      <th>germinacao_Totima</th>\n",
       "      <th>germincacao_Tmáxima</th>\n",
       "      <th>vegetacao_Tmin</th>\n",
       "      <th>vegetacao_Toptima</th>\n",
       "      <th>vegetacao_Tmax</th>\n",
       "      <th>tolerancia_salinidade</th>\n",
       "      <th>intervalo_otimp_pH</th>\n",
       "      <th>tolerancia_acidez</th>\n",
       "      <th>solo_preferido</th>\n",
       "      <th>sol_fotoperíodo</th>\n",
       "      <th>clima_ideal _°C</th>\n",
       "      <th>necessidade_hidrica</th>\n",
       "      <th>notas_principais</th>\n",
       "    </tr>\n",
       "  </thead>\n",
       "  <tbody>\n",
       "    <tr>\n",
       "      <th>22</th>\n",
       "      <td>Limão</td>\n",
       "      <td>Citrus limon</td>\n",
       "      <td>Rutaceae</td>\n",
       "      <td>12</td>\n",
       "      <td>26,5</td>\n",
       "      <td>35</td>\n",
       "      <td>12</td>\n",
       "      <td>24</td>\n",
       "      <td>35</td>\n",
       "      <td>Moderada</td>\n",
       "      <td>5,5–7,0</td>\n",
       "      <td>Moderada</td>\n",
       "      <td>franco-arenoso, profundo, fértil</td>\n",
       "      <td>pleno sol (? 8 h)</td>\n",
       "      <td>20–30 °C</td>\n",
       "      <td>elevada</td>\n",
       "      <td>NaN</td>\n",
       "    </tr>\n",
       "    <tr>\n",
       "      <th>23</th>\n",
       "      <td>Abacate</td>\n",
       "      <td>Persea americana</td>\n",
       "      <td>Lauraceae</td>\n",
       "      <td>15</td>\n",
       "      <td>26,5</td>\n",
       "      <td>35</td>\n",
       "      <td>12</td>\n",
       "      <td>22,5</td>\n",
       "      <td>35</td>\n",
       "      <td>Moderada</td>\n",
       "      <td>5,5–7,0</td>\n",
       "      <td>Moderada</td>\n",
       "      <td>franco-arenoso a franco-argiloso, bem drenado</td>\n",
       "      <td>pleno sol (? 6–8 h)</td>\n",
       "      <td>18–26 °C</td>\n",
       "      <td>moderada a elevada</td>\n",
       "      <td>NaN</td>\n",
       "    </tr>\n",
       "    <tr>\n",
       "      <th>24</th>\n",
       "      <td>Anona</td>\n",
       "      <td>Annona cherimola</td>\n",
       "      <td>Annonaceae</td>\n",
       "      <td>15</td>\n",
       "      <td>26,5</td>\n",
       "      <td>35</td>\n",
       "      <td>12</td>\n",
       "      <td>22,5</td>\n",
       "      <td>35</td>\n",
       "      <td>Reduzida</td>\n",
       "      <td>5,5–7,0</td>\n",
       "      <td>Moderada</td>\n",
       "      <td>franco-arenoso, fértil, profundo, bem drenado.</td>\n",
       "      <td>pleno sol (? 6 h)</td>\n",
       "      <td>18–26 °C</td>\n",
       "      <td>moderada</td>\n",
       "      <td>NaN</td>\n",
       "    </tr>\n",
       "    <tr>\n",
       "      <th>25</th>\n",
       "      <td>Uva (Vitis)</td>\n",
       "      <td>Vitis vinifera</td>\n",
       "      <td>Vitaceae</td>\n",
       "      <td>10</td>\n",
       "      <td>26,5</td>\n",
       "      <td>35</td>\n",
       "      <td>10</td>\n",
       "      <td>24</td>\n",
       "      <td>35</td>\n",
       "      <td>Moderada</td>\n",
       "      <td>6,0–7,5</td>\n",
       "      <td>Reduzida</td>\n",
       "      <td>Pobres, pedregosos, bem drenados</td>\n",
       "      <td>Pleno sol (? 8h)</td>\n",
       "      <td>18–25 °C</td>\n",
       "      <td>Baixa a moderada</td>\n",
       "      <td>NaN</td>\n",
       "    </tr>\n",
       "    <tr>\n",
       "      <th>26</th>\n",
       "      <td>Inhame</td>\n",
       "      <td>Colocasia esculenta</td>\n",
       "      <td>Araceae</td>\n",
       "      <td>20</td>\n",
       "      <td>27,5</td>\n",
       "      <td>35</td>\n",
       "      <td>18</td>\n",
       "      <td>27,5</td>\n",
       "      <td>35</td>\n",
       "      <td>Elevada</td>\n",
       "      <td>5,5–6,5</td>\n",
       "      <td>Elevada</td>\n",
       "      <td>Solos argilo-arenosos, húmidos, bem drenados</td>\n",
       "      <td>12 h</td>\n",
       "      <td>25–30 °C</td>\n",
       "      <td>Elevada (planta de clima húmido)</td>\n",
       "      <td>NaN</td>\n",
       "    </tr>\n",
       "  </tbody>\n",
       "</table>\n",
       "</div>"
      ],
      "text/plain": [
       "     nome_comum      nome_científico     família germinacao_Tmin  \\\n",
       "22        Limão         Citrus limon    Rutaceae              12   \n",
       "23      Abacate     Persea americana   Lauraceae              15   \n",
       "24        Anona     Annona cherimola  Annonaceae              15   \n",
       "25  Uva (Vitis)       Vitis vinifera    Vitaceae              10   \n",
       "26       Inhame  Colocasia esculenta     Araceae              20   \n",
       "\n",
       "   germinacao_Totima germincacao_Tmáxima  vegetacao_Tmin vegetacao_Toptima  \\\n",
       "22              26,5                  35              12                24   \n",
       "23              26,5                  35              12              22,5   \n",
       "24              26,5                  35              12              22,5   \n",
       "25              26,5                  35              10                24   \n",
       "26              27,5                  35              18              27,5   \n",
       "\n",
       "   vegetacao_Tmax tolerancia_salinidade intervalo_otimp_pH tolerancia_acidez  \\\n",
       "22             35              Moderada            5,5–7,0          Moderada   \n",
       "23             35              Moderada            5,5–7,0          Moderada   \n",
       "24             35              Reduzida            5,5–7,0          Moderada   \n",
       "25             35              Moderada            6,0–7,5          Reduzida   \n",
       "26             35               Elevada            5,5–6,5           Elevada   \n",
       "\n",
       "                                    solo_preferido      sol_fotoperíodo  \\\n",
       "22                franco-arenoso, profundo, fértil    pleno sol (? 8 h)   \n",
       "23   franco-arenoso a franco-argiloso, bem drenado  pleno sol (? 6–8 h)   \n",
       "24  franco-arenoso, fértil, profundo, bem drenado.    pleno sol (? 6 h)   \n",
       "25                Pobres, pedregosos, bem drenados     Pleno sol (? 8h)   \n",
       "26    Solos argilo-arenosos, húmidos, bem drenados                 12 h   \n",
       "\n",
       "   clima_ideal _°C               necessidade_hidrica notas_principais  \n",
       "22        20–30 °C                           elevada              NaN  \n",
       "23        18–26 °C                moderada a elevada              NaN  \n",
       "24        18–26 °C                          moderada              NaN  \n",
       "25        18–25 °C                  Baixa a moderada              NaN  \n",
       "26        25–30 °C  Elevada (planta de clima húmido)              NaN  "
      ]
     },
     "execution_count": 19,
     "metadata": {},
     "output_type": "execute_result"
    }
   ],
   "source": [
    "species_df.tail()"
   ]
  },
  {
   "cell_type": "code",
   "execution_count": 22,
   "id": "956523ac",
   "metadata": {},
   "outputs": [],
   "source": [
    "# df_values.columns = df_values.columns.str.strip().str.replace(\" \", \"_\").str.replace(\"-\", \"_\").str.lower()\n",
    "\n",
    "# rename first column\n",
    "species_df = species_df.rename(columns={species_df.columns[0]: \"cultura\"})"
   ]
  },
  {
   "cell_type": "code",
   "execution_count": 23,
   "id": "f1ca678b",
   "metadata": {},
   "outputs": [
    {
     "data": {
      "text/html": [
       "<div>\n",
       "<style scoped>\n",
       "    .dataframe tbody tr th:only-of-type {\n",
       "        vertical-align: middle;\n",
       "    }\n",
       "\n",
       "    .dataframe tbody tr th {\n",
       "        vertical-align: top;\n",
       "    }\n",
       "\n",
       "    .dataframe thead th {\n",
       "        text-align: right;\n",
       "    }\n",
       "</style>\n",
       "<table border=\"1\" class=\"dataframe\">\n",
       "  <thead>\n",
       "    <tr style=\"text-align: right;\">\n",
       "      <th></th>\n",
       "      <th>cultura</th>\n",
       "      <th>nome_científico</th>\n",
       "      <th>família</th>\n",
       "      <th>germinacao_Tmin</th>\n",
       "      <th>germinacao_Totima</th>\n",
       "      <th>germincacao_Tmáxima</th>\n",
       "      <th>vegetacao_Tmin</th>\n",
       "      <th>vegetacao_Toptima</th>\n",
       "      <th>vegetacao_Tmax</th>\n",
       "      <th>tolerancia_salinidade</th>\n",
       "      <th>intervalo_otimp_pH</th>\n",
       "      <th>tolerancia_acidez</th>\n",
       "      <th>solo_preferido</th>\n",
       "      <th>sol_fotoperíodo</th>\n",
       "      <th>clima_ideal _°C</th>\n",
       "      <th>necessidade_hidrica</th>\n",
       "      <th>notas_principais</th>\n",
       "    </tr>\n",
       "  </thead>\n",
       "  <tbody>\n",
       "    <tr>\n",
       "      <th>0</th>\n",
       "      <td>Abóbora</td>\n",
       "      <td>Curcubita sp.</td>\n",
       "      <td>Curcubitaceae</td>\n",
       "      <td>7,5</td>\n",
       "      <td>32,5</td>\n",
       "      <td>38</td>\n",
       "      <td>10</td>\n",
       "      <td>22,5</td>\n",
       "      <td>32</td>\n",
       "      <td>Moderada a Elevada</td>\n",
       "      <td>6–6,8</td>\n",
       "      <td>Moderada</td>\n",
       "      <td>Franco-arenoso, fértil, bem drenado</td>\n",
       "      <td>Pleno sol (? 6–8h)</td>\n",
       "      <td>20–30 °C</td>\n",
       "      <td>Moderada (rega regular)</td>\n",
       "      <td>Não tolera geadas; gosta de calor</td>\n",
       "    </tr>\n",
       "    <tr>\n",
       "      <th>1</th>\n",
       "      <td>Banana</td>\n",
       "      <td>Musa acuminata × Musa balbisiana (AA–AAA, etc.)</td>\n",
       "      <td>Musaceae</td>\n",
       "      <td>— (propagação vegetativa)</td>\n",
       "      <td>—</td>\n",
       "      <td>—</td>\n",
       "      <td>15</td>\n",
       "      <td>28</td>\n",
       "      <td>35</td>\n",
       "      <td>Moderada a elevada (algumas variedades toleram...</td>\n",
       "      <td>5,5–7,5</td>\n",
       "      <td>Moderada</td>\n",
       "      <td>Franco-argiloso, rico em matéria orgânica</td>\n",
       "      <td>Pleno sol (? 8h)</td>\n",
       "      <td>26–30 °C</td>\n",
       "      <td>Alta (rega constante)</td>\n",
       "      <td>Sensível ao vento forte</td>\n",
       "    </tr>\n",
       "    <tr>\n",
       "      <th>2</th>\n",
       "      <td>Batata</td>\n",
       "      <td>Solanum tuberosum</td>\n",
       "      <td>Solanaceae</td>\n",
       "      <td>3,5</td>\n",
       "      <td>19</td>\n",
       "      <td>NaN</td>\n",
       "      <td>7</td>\n",
       "      <td>20</td>\n",
       "      <td>32,5</td>\n",
       "      <td>Moderada</td>\n",
       "      <td>5,5–6</td>\n",
       "      <td>Elevada</td>\n",
       "      <td>Franco-arenoso, solto, bem drenado</td>\n",
       "      <td>6–8h sol</td>\n",
       "      <td>15–20 °C</td>\n",
       "      <td>Moderada</td>\n",
       "      <td>Não gosta de solos encharcados</td>\n",
       "    </tr>\n",
       "    <tr>\n",
       "      <th>3</th>\n",
       "      <td>Batata-doce</td>\n",
       "      <td>Ipomoea batatas</td>\n",
       "      <td>Convolvulaceae</td>\n",
       "      <td>15</td>\n",
       "      <td>27,5</td>\n",
       "      <td>38</td>\n",
       "      <td>15</td>\n",
       "      <td>23,5</td>\n",
       "      <td>35</td>\n",
       "      <td>Moderada</td>\n",
       "      <td>5,5–6,5</td>\n",
       "      <td>Moderada</td>\n",
       "      <td>Arenoso a franco-arenoso, solto</td>\n",
       "      <td>Pleno sol (? 6h)</td>\n",
       "      <td>21–26 °C</td>\n",
       "      <td>Baixa a moderada</td>\n",
       "      <td>Tolerante à seca, mas prefere calor</td>\n",
       "    </tr>\n",
       "    <tr>\n",
       "      <th>4</th>\n",
       "      <td>Cana-de-açúcar</td>\n",
       "      <td>Saccharum officinarum</td>\n",
       "      <td>Poaceae</td>\n",
       "      <td>18</td>\n",
       "      <td>30</td>\n",
       "      <td>38</td>\n",
       "      <td>18</td>\n",
       "      <td>27,5</td>\n",
       "      <td>36,5</td>\n",
       "      <td>Elevada (resiste a EC 1,7–2,5 dS/m)</td>\n",
       "      <td>6–7,5</td>\n",
       "      <td>Baixa</td>\n",
       "      <td>Profundos, férteis, franco-argilosos</td>\n",
       "      <td>Pleno sol (? 8h)</td>\n",
       "      <td>20–30 °C (ótimo 25–28 °C)</td>\n",
       "      <td>Muito alta</td>\n",
       "      <td>Cultura de clima tropical/subtropical</td>\n",
       "    </tr>\n",
       "  </tbody>\n",
       "</table>\n",
       "</div>"
      ],
      "text/plain": [
       "          cultura                                  nome_científico  \\\n",
       "0         Abóbora                                    Curcubita sp.   \n",
       "1          Banana  Musa acuminata × Musa balbisiana (AA–AAA, etc.)   \n",
       "2          Batata                                Solanum tuberosum   \n",
       "3     Batata-doce                                  Ipomoea batatas   \n",
       "4  Cana-de-açúcar                            Saccharum officinarum   \n",
       "\n",
       "          família            germinacao_Tmin germinacao_Totima  \\\n",
       "0   Curcubitaceae                        7,5              32,5   \n",
       "1        Musaceae  — (propagação vegetativa)                 —   \n",
       "2      Solanaceae                        3,5                19   \n",
       "3  Convolvulaceae                         15              27,5   \n",
       "4         Poaceae                         18                30   \n",
       "\n",
       "  germincacao_Tmáxima  vegetacao_Tmin vegetacao_Toptima vegetacao_Tmax  \\\n",
       "0                  38              10              22,5             32   \n",
       "1                   —              15                28             35   \n",
       "2                 NaN               7                20           32,5   \n",
       "3                  38              15              23,5             35   \n",
       "4                  38              18              27,5           36,5   \n",
       "\n",
       "                               tolerancia_salinidade intervalo_otimp_pH  \\\n",
       "0                                 Moderada a Elevada              6–6,8   \n",
       "1  Moderada a elevada (algumas variedades toleram...            5,5–7,5   \n",
       "2                                           Moderada              5,5–6   \n",
       "3                                           Moderada            5,5–6,5   \n",
       "4                Elevada (resiste a EC 1,7–2,5 dS/m)              6–7,5   \n",
       "\n",
       "  tolerancia_acidez                             solo_preferido  \\\n",
       "0          Moderada        Franco-arenoso, fértil, bem drenado   \n",
       "1          Moderada  Franco-argiloso, rico em matéria orgânica   \n",
       "2           Elevada         Franco-arenoso, solto, bem drenado   \n",
       "3          Moderada            Arenoso a franco-arenoso, solto   \n",
       "4             Baixa       Profundos, férteis, franco-argilosos   \n",
       "\n",
       "      sol_fotoperíodo            clima_ideal _°C      necessidade_hidrica  \\\n",
       "0  Pleno sol (? 6–8h)                   20–30 °C  Moderada (rega regular)   \n",
       "1    Pleno sol (? 8h)                   26–30 °C    Alta (rega constante)   \n",
       "2            6–8h sol                   15–20 °C                 Moderada   \n",
       "3    Pleno sol (? 6h)                   21–26 °C         Baixa a moderada   \n",
       "4    Pleno sol (? 8h)  20–30 °C (ótimo 25–28 °C)               Muito alta   \n",
       "\n",
       "                        notas_principais  \n",
       "0      Não tolera geadas; gosta de calor  \n",
       "1                Sensível ao vento forte  \n",
       "2         Não gosta de solos encharcados  \n",
       "3    Tolerante à seca, mas prefere calor  \n",
       "4  Cultura de clima tropical/subtropical  "
      ]
     },
     "execution_count": 23,
     "metadata": {},
     "output_type": "execute_result"
    }
   ],
   "source": [
    "species_df.head()"
   ]
  },
  {
   "cell_type": "code",
   "execution_count": 24,
   "id": "4ecb5cab",
   "metadata": {},
   "outputs": [
    {
     "name": "stdout",
     "output_type": "stream",
     "text": [
      "<class 'pandas.core.frame.DataFrame'>\n",
      "RangeIndex: 27 entries, 0 to 26\n",
      "Data columns (total 17 columns):\n",
      " #   Column                 Non-Null Count  Dtype \n",
      "---  ------                 --------------  ----- \n",
      " 0   cultura                27 non-null     object\n",
      " 1   nome_científico        27 non-null     object\n",
      " 2   família                27 non-null     object\n",
      " 3   germinacao_Tmin        27 non-null     object\n",
      " 4   germinacao_Totima      27 non-null     object\n",
      " 5   germincacao_Tmáxima    26 non-null     object\n",
      " 6   vegetacao_Tmin         27 non-null     int64 \n",
      " 7   vegetacao_Toptima      27 non-null     object\n",
      " 8   vegetacao_Tmax         27 non-null     object\n",
      " 9   tolerancia_salinidade  27 non-null     object\n",
      " 10  intervalo_otimp_pH     27 non-null     object\n",
      " 11  tolerancia_acidez      27 non-null     object\n",
      " 12  solo_preferido         27 non-null     object\n",
      " 13  sol_fotoperíodo        27 non-null     object\n",
      " 14  clima_ideal _°C        27 non-null     object\n",
      " 15  necessidade_hidrica    27 non-null     object\n",
      " 16  notas_principais       10 non-null     object\n",
      "dtypes: int64(1), object(16)\n",
      "memory usage: 3.7+ KB\n"
     ]
    }
   ],
   "source": [
    "species_df.info()"
   ]
  },
  {
   "cell_type": "code",
   "execution_count": 25,
   "id": "8c4a97de",
   "metadata": {},
   "outputs": [
    {
     "data": {
      "text/plain": [
       "cultura\n",
       "Abacate                   1\n",
       "Feijão-verde              1\n",
       "Uva (Vitis)               1\n",
       "Tomate                    1\n",
       "Tangerina                 1\n",
       "Pimpinela (Chuchu)        1\n",
       "Pimento                   1\n",
       "Pepino                    1\n",
       "Nabo                      1\n",
       "Milho p/ maçaroca         1\n",
       "Maçã                      1\n",
       "Limão                     1\n",
       "Inhame                    1\n",
       "Couve-repolho             1\n",
       "Abóbora                   1\n",
       "Courgette                 1\n",
       "Cereja                    1\n",
       "Cenoura                   1\n",
       "Cebola                    1\n",
       "Cana-de-açúcar            1\n",
       "Batata-doce               1\n",
       "Batata                    1\n",
       "Banana                    1\n",
       "Anona                     1\n",
       "Alface                    1\n",
       "Acelga                    1\n",
       "Vinha (Vitis vinifera)    1\n",
       "Name: count, dtype: int64"
      ]
     },
     "execution_count": 25,
     "metadata": {},
     "output_type": "execute_result"
    }
   ],
   "source": [
    "species_df.value_counts(\"cultura\")"
   ]
  },
  {
   "cell_type": "code",
   "execution_count": 35,
   "id": "8d1af6b7",
   "metadata": {},
   "outputs": [
    {
     "name": "stdout",
     "output_type": "stream",
     "text": [
      "Collecting unidecode\n",
      "  Downloading Unidecode-1.4.0-py3-none-any.whl.metadata (13 kB)\n",
      "Downloading Unidecode-1.4.0-py3-none-any.whl (235 kB)\n",
      "Installing collected packages: unidecode\n",
      "Successfully installed unidecode-1.4.0\n",
      "Note: you may need to restart the kernel to use updated packages.\n"
     ]
    }
   ],
   "source": [
    "pip install unidecode"
   ]
  },
  {
   "cell_type": "code",
   "execution_count": 36,
   "id": "c3ed14e4",
   "metadata": {},
   "outputs": [
    {
     "name": "stdout",
     "output_type": "stream",
     "text": [
      "          cultura                             solo_preferido  solo_pref_cat  \\\n",
      "0         Abóbora        Franco-arenoso, fértil, bem drenado            1.0   \n",
      "1          Banana  Franco-argiloso, rico em matéria orgânica            2.0   \n",
      "2          Batata         Franco-arenoso, solto, bem drenado            1.0   \n",
      "3     Batata-doce            Arenoso a franco-arenoso, solto            1.0   \n",
      "4  Cana-de-açúcar       Profundos, férteis, franco-argilosos            2.0   \n",
      "\n",
      "      sol_fotoperíodo  sol_fotoperiodo_cat  \n",
      "0  Pleno sol (? 6–8h)                  3.0  \n",
      "1    Pleno sol (? 8h)                  3.0  \n",
      "2            6–8h sol                  NaN  \n",
      "3    Pleno sol (? 6h)                  3.0  \n",
      "4    Pleno sol (? 8h)                  3.0  \n"
     ]
    }
   ],
   "source": [
    "import unidecode\n",
    "\n",
    "# 1. Mapas qualitativos\n",
    "map_solo = {\n",
    "    \"arenoso\": 1,\n",
    "    \"franco\": 2,\n",
    "    \"argiloso\": 3\n",
    "}\n",
    "\n",
    "map_sol = {\n",
    "    \"sombra\": 1,\n",
    "    \"meia\": 2,        # meia-sombra\n",
    "    \"pleno\": 3        # pleno sol\n",
    "}\n",
    "\n",
    "# 2. Função para normalizar texto e mapear\n",
    "def mapear_categoria(texto, mapa):\n",
    "    if pd.isna(texto):\n",
    "        return None\n",
    "    t = unidecode.unidecode(str(texto).lower())\n",
    "    for k, v in mapa.items():\n",
    "        if k in t:\n",
    "            return v\n",
    "    return None\n",
    "\n",
    "# 3. Aplicar ao dataset\n",
    "species_df[\"solo_pref_cat\"] = species_df[\"solo_preferido\"].apply(lambda x: mapear_categoria(x, map_solo))\n",
    "species_df[\"sol_fotoperiodo_cat\"] = species_df[\"sol_fotoperíodo\"].apply(lambda x: mapear_categoria(x, map_sol))\n",
    "\n",
    "print(species_df[[\"cultura\", \"solo_preferido\", \"solo_pref_cat\", \"sol_fotoperíodo\", \"sol_fotoperiodo_cat\"]].head())\n"
   ]
  },
  {
   "cell_type": "code",
   "execution_count": 41,
   "id": "1cd58b91",
   "metadata": {},
   "outputs": [
    {
     "name": "stdout",
     "output_type": "stream",
     "text": [
      "   necessidade_hidrica_num  tolerancia_acidez_num  tolerancia_salinidade_num  \\\n",
      "0                      1.0                    1.0                        1.0   \n",
      "1                      0.0                    1.0                        1.0   \n",
      "2                      1.0                    0.0                        1.0   \n",
      "3                      0.5                    1.0                        1.0   \n",
      "4                      0.0                    0.5                        0.0   \n",
      "\n",
      "   solo_pref_cat  sol_fotoperiodo_cat         cultura  score_global  \\\n",
      "0            0.5                  1.0         Abóbora           0.9   \n",
      "1            1.0                  1.0          Banana           0.8   \n",
      "2            0.5                  0.0          Batata           0.5   \n",
      "3            0.5                  1.0     Batata-doce           0.8   \n",
      "4            1.0                  1.0  Cana-de-açúcar           0.5   \n",
      "\n",
      "  classificacao  \n",
      "0         Green  \n",
      "1         Green  \n",
      "2        Yellow  \n",
      "3         Green  \n",
      "4        Yellow  \n"
     ]
    }
   ],
   "source": [
    "import pandas as pd\n",
    "import unidecode\n",
    "\n",
    "# ===== Escalas qualitativas =====\n",
    "escala = {\"baixa\": 1, \"moderada\": 2, \"elevada\": 3}\n",
    "\n",
    "map_solo = {\n",
    "    \"arenoso\": 1,\n",
    "    \"franco\": 2,\n",
    "    \"argiloso\": 3\n",
    "}\n",
    "\n",
    "map_sol = {\n",
    "    \"sombra\": 1,\n",
    "    \"meia\": 2,        # meia-sombra\n",
    "    \"pleno\": 3        # pleno sol\n",
    "}\n",
    "\n",
    "# ===== Funções auxiliares =====\n",
    "def comparar(req, local):\n",
    "    \"\"\"Compara requisito vs condição local e retorna score [0, 1].\"\"\"\n",
    "    if req is None or local is None:\n",
    "        return None\n",
    "    if req == local:\n",
    "        return 1.0\n",
    "    elif abs(req - local) == 1:\n",
    "        return 0.5\n",
    "    else:\n",
    "        return 0.0\n",
    "\n",
    "def mapear_categoria(texto, mapa):\n",
    "    \"\"\"Normaliza e mapeia strings para categorias numéricas.\"\"\"\n",
    "    if pd.isna(texto):\n",
    "        return None\n",
    "    t = unidecode.unidecode(str(texto).lower())\n",
    "    for k, v in mapa.items():\n",
    "        if k in t:\n",
    "            return v\n",
    "    return None\n",
    "\n",
    "# ===== Preparar dataset =====\n",
    "species_df[\"solo_pref_cat\"] = species_df[\"solo_preferido\"].apply(lambda x: mapear_categoria(x, map_solo))\n",
    "species_df[\"sol_fotoperiodo_cat\"] = species_df[\"sol_fotoperíodo\"].apply(lambda x: mapear_categoria(x, map_sol))\n",
    "\n",
    "# Normalizar necessidade_hidrica, tolerancia_acidez, tolerancia_salinidade → numéricos\n",
    "for col in [\"necessidade_hidrica\", \"tolerancia_acidez\", \"tolerancia_salinidade\"]:\n",
    "    species_df[col + \"_num\"] = species_df[col].astype(str).str.extract(\"(baixa|moderada|elevada)\", expand=False)\n",
    "    species_df[col + \"_num\"] = species_df[col + \"_num\"].str.lower().map(escala)\n",
    "\n",
    "# ===== Condições locais (exemplo) =====\n",
    "condicoes_locais = {\n",
    "    \"necessidade_hidrica_num\": 2,   # moderada\n",
    "    \"tolerancia_acidez_num\": 2,     # moderada\n",
    "    \"tolerancia_salinidade_num\": 2, # moderada\n",
    "    \"solo_pref_cat\": 2,             # franco\n",
    "    \"sol_fotoperiodo_cat\": 3        # pleno sol\n",
    "}\n",
    "\n",
    "# ===== Calcular scores =====\n",
    "scores = []\n",
    "for _, row in species_df.iterrows():\n",
    "    cultura = row[\"nome_comum\"] if \"nome_comum\" in row else row[\"cultura\"]\n",
    "    resultados = {}\n",
    "    for fator, local_val in condicoes_locais.items():\n",
    "        req = row.get(fator, None)\n",
    "        resultados[fator] = comparar(req, local_val)\n",
    "    # Score global (média)\n",
    "    score_global = sum([v for v in resultados.values() if v is not None]) / len([v for v in resultados.values() if v is not None])\n",
    "    resultados[\"cultura\"] = cultura\n",
    "    resultados[\"score_global\"] = score_global\n",
    "    scores.append(resultados)\n",
    "\n",
    "\n",
    "def classificar(score):\n",
    "    if score >= 0.75:\n",
    "        return \"Green\"\n",
    "    elif score >= 0.5:\n",
    "        return \"Yellow\"\n",
    "    else:\n",
    "        return \"Red\"\n",
    "\n",
    "\n",
    "df_scores = pd.DataFrame(scores)\n",
    "\n",
    "df_scores[\"classificacao\"] = df_scores[\"score_global\"].apply(classificar)\n",
    "\n",
    "print(df_scores.head())\n",
    "\n",
    "\n"
   ]
  },
  {
   "cell_type": "code",
   "execution_count": 42,
   "id": "c7417c36",
   "metadata": {},
   "outputs": [
    {
     "data": {
      "text/html": [
       "<div>\n",
       "<style scoped>\n",
       "    .dataframe tbody tr th:only-of-type {\n",
       "        vertical-align: middle;\n",
       "    }\n",
       "\n",
       "    .dataframe tbody tr th {\n",
       "        vertical-align: top;\n",
       "    }\n",
       "\n",
       "    .dataframe thead th {\n",
       "        text-align: right;\n",
       "    }\n",
       "</style>\n",
       "<table border=\"1\" class=\"dataframe\">\n",
       "  <thead>\n",
       "    <tr style=\"text-align: right;\">\n",
       "      <th></th>\n",
       "      <th>necessidade_hidrica_num</th>\n",
       "      <th>tolerancia_acidez_num</th>\n",
       "      <th>tolerancia_salinidade_num</th>\n",
       "      <th>solo_pref_cat</th>\n",
       "      <th>sol_fotoperiodo_cat</th>\n",
       "      <th>cultura</th>\n",
       "      <th>score_global</th>\n",
       "      <th>classificacao</th>\n",
       "    </tr>\n",
       "  </thead>\n",
       "  <tbody>\n",
       "    <tr>\n",
       "      <th>0</th>\n",
       "      <td>1.0</td>\n",
       "      <td>1.0</td>\n",
       "      <td>1.0</td>\n",
       "      <td>0.5</td>\n",
       "      <td>1.0</td>\n",
       "      <td>Abóbora</td>\n",
       "      <td>0.9</td>\n",
       "      <td>Green</td>\n",
       "    </tr>\n",
       "    <tr>\n",
       "      <th>1</th>\n",
       "      <td>0.0</td>\n",
       "      <td>1.0</td>\n",
       "      <td>1.0</td>\n",
       "      <td>1.0</td>\n",
       "      <td>1.0</td>\n",
       "      <td>Banana</td>\n",
       "      <td>0.8</td>\n",
       "      <td>Green</td>\n",
       "    </tr>\n",
       "    <tr>\n",
       "      <th>2</th>\n",
       "      <td>1.0</td>\n",
       "      <td>0.0</td>\n",
       "      <td>1.0</td>\n",
       "      <td>0.5</td>\n",
       "      <td>0.0</td>\n",
       "      <td>Batata</td>\n",
       "      <td>0.5</td>\n",
       "      <td>Yellow</td>\n",
       "    </tr>\n",
       "    <tr>\n",
       "      <th>3</th>\n",
       "      <td>0.5</td>\n",
       "      <td>1.0</td>\n",
       "      <td>1.0</td>\n",
       "      <td>0.5</td>\n",
       "      <td>1.0</td>\n",
       "      <td>Batata-doce</td>\n",
       "      <td>0.8</td>\n",
       "      <td>Green</td>\n",
       "    </tr>\n",
       "    <tr>\n",
       "      <th>4</th>\n",
       "      <td>0.0</td>\n",
       "      <td>0.5</td>\n",
       "      <td>0.0</td>\n",
       "      <td>1.0</td>\n",
       "      <td>1.0</td>\n",
       "      <td>Cana-de-açúcar</td>\n",
       "      <td>0.5</td>\n",
       "      <td>Yellow</td>\n",
       "    </tr>\n",
       "  </tbody>\n",
       "</table>\n",
       "</div>"
      ],
      "text/plain": [
       "   necessidade_hidrica_num  tolerancia_acidez_num  tolerancia_salinidade_num  \\\n",
       "0                      1.0                    1.0                        1.0   \n",
       "1                      0.0                    1.0                        1.0   \n",
       "2                      1.0                    0.0                        1.0   \n",
       "3                      0.5                    1.0                        1.0   \n",
       "4                      0.0                    0.5                        0.0   \n",
       "\n",
       "   solo_pref_cat  sol_fotoperiodo_cat         cultura  score_global  \\\n",
       "0            0.5                  1.0         Abóbora           0.9   \n",
       "1            1.0                  1.0          Banana           0.8   \n",
       "2            0.5                  0.0          Batata           0.5   \n",
       "3            0.5                  1.0     Batata-doce           0.8   \n",
       "4            1.0                  1.0  Cana-de-açúcar           0.5   \n",
       "\n",
       "  classificacao  \n",
       "0         Green  \n",
       "1         Green  \n",
       "2        Yellow  \n",
       "3         Green  \n",
       "4        Yellow  "
      ]
     },
     "execution_count": 42,
     "metadata": {},
     "output_type": "execute_result"
    }
   ],
   "source": [
    "df_scores.head()"
   ]
  },
  {
   "cell_type": "code",
   "execution_count": 43,
   "id": "782aa875",
   "metadata": {},
   "outputs": [
    {
     "data": {
      "text/html": [
       "<div>\n",
       "<style scoped>\n",
       "    .dataframe tbody tr th:only-of-type {\n",
       "        vertical-align: middle;\n",
       "    }\n",
       "\n",
       "    .dataframe tbody tr th {\n",
       "        vertical-align: top;\n",
       "    }\n",
       "\n",
       "    .dataframe thead th {\n",
       "        text-align: right;\n",
       "    }\n",
       "</style>\n",
       "<table border=\"1\" class=\"dataframe\">\n",
       "  <thead>\n",
       "    <tr style=\"text-align: right;\">\n",
       "      <th></th>\n",
       "      <th>necessidade_hidrica_num</th>\n",
       "      <th>tolerancia_acidez_num</th>\n",
       "      <th>tolerancia_salinidade_num</th>\n",
       "      <th>solo_pref_cat</th>\n",
       "      <th>sol_fotoperiodo_cat</th>\n",
       "      <th>cultura</th>\n",
       "      <th>score_global</th>\n",
       "      <th>classificacao</th>\n",
       "    </tr>\n",
       "  </thead>\n",
       "  <tbody>\n",
       "    <tr>\n",
       "      <th>22</th>\n",
       "      <td>0.0</td>\n",
       "      <td>1.0</td>\n",
       "      <td>1.0</td>\n",
       "      <td>0.5</td>\n",
       "      <td>1.0</td>\n",
       "      <td>Limão</td>\n",
       "      <td>0.7</td>\n",
       "      <td>Yellow</td>\n",
       "    </tr>\n",
       "    <tr>\n",
       "      <th>23</th>\n",
       "      <td>1.0</td>\n",
       "      <td>1.0</td>\n",
       "      <td>1.0</td>\n",
       "      <td>0.5</td>\n",
       "      <td>1.0</td>\n",
       "      <td>Abacate</td>\n",
       "      <td>0.9</td>\n",
       "      <td>Green</td>\n",
       "    </tr>\n",
       "    <tr>\n",
       "      <th>24</th>\n",
       "      <td>1.0</td>\n",
       "      <td>1.0</td>\n",
       "      <td>0.0</td>\n",
       "      <td>0.5</td>\n",
       "      <td>1.0</td>\n",
       "      <td>Anona</td>\n",
       "      <td>0.7</td>\n",
       "      <td>Yellow</td>\n",
       "    </tr>\n",
       "    <tr>\n",
       "      <th>25</th>\n",
       "      <td>0.5</td>\n",
       "      <td>0.0</td>\n",
       "      <td>1.0</td>\n",
       "      <td>0.0</td>\n",
       "      <td>1.0</td>\n",
       "      <td>Uva (Vitis)</td>\n",
       "      <td>0.5</td>\n",
       "      <td>Yellow</td>\n",
       "    </tr>\n",
       "    <tr>\n",
       "      <th>26</th>\n",
       "      <td>0.0</td>\n",
       "      <td>0.0</td>\n",
       "      <td>0.0</td>\n",
       "      <td>0.5</td>\n",
       "      <td>0.0</td>\n",
       "      <td>Inhame</td>\n",
       "      <td>0.1</td>\n",
       "      <td>Red</td>\n",
       "    </tr>\n",
       "  </tbody>\n",
       "</table>\n",
       "</div>"
      ],
      "text/plain": [
       "    necessidade_hidrica_num  tolerancia_acidez_num  tolerancia_salinidade_num  \\\n",
       "22                      0.0                    1.0                        1.0   \n",
       "23                      1.0                    1.0                        1.0   \n",
       "24                      1.0                    1.0                        0.0   \n",
       "25                      0.5                    0.0                        1.0   \n",
       "26                      0.0                    0.0                        0.0   \n",
       "\n",
       "    solo_pref_cat  sol_fotoperiodo_cat      cultura  score_global  \\\n",
       "22            0.5                  1.0        Limão           0.7   \n",
       "23            0.5                  1.0      Abacate           0.9   \n",
       "24            0.5                  1.0        Anona           0.7   \n",
       "25            0.0                  1.0  Uva (Vitis)           0.5   \n",
       "26            0.5                  0.0       Inhame           0.1   \n",
       "\n",
       "   classificacao  \n",
       "22        Yellow  \n",
       "23         Green  \n",
       "24        Yellow  \n",
       "25        Yellow  \n",
       "26           Red  "
      ]
     },
     "execution_count": 43,
     "metadata": {},
     "output_type": "execute_result"
    }
   ],
   "source": [
    "df_scores.tail()"
   ]
  },
  {
   "cell_type": "code",
   "execution_count": 46,
   "id": "3817ad33",
   "metadata": {},
   "outputs": [
    {
     "name": "stdout",
     "output_type": "stream",
     "text": [
      "          cultura  score_global  necessidade_hidrica_num  \\\n",
      "0         Abóbora           0.9                      1.0   \n",
      "1          Banana           0.8                      0.0   \n",
      "2          Batata           0.5                      1.0   \n",
      "3     Batata-doce           0.8                      0.5   \n",
      "4  Cana-de-açúcar           0.5                      0.0   \n",
      "\n",
      "   tolerancia_acidez_num  tolerancia_salinidade_num  solo_pref_cat  \\\n",
      "0                    1.0                        1.0            0.5   \n",
      "1                    1.0                        1.0            1.0   \n",
      "2                    0.0                        1.0            0.5   \n",
      "3                    1.0                        1.0            0.5   \n",
      "4                    0.5                        0.0            1.0   \n",
      "\n",
      "   sol_fotoperiodo_cat classificacao  \n",
      "0                  1.0         Green  \n",
      "1                  1.0         Green  \n",
      "2                  0.0        Yellow  \n",
      "3                  1.0         Green  \n",
      "4                  1.0        Yellow  \n"
     ]
    }
   ],
   "source": [
    "cols = [\"cultura\", \"score_global\"] + [\n",
    "    c for c in df_scores.columns if c not in [\"cultura\", \"score_global\"]\n",
    "]\n",
    "df_scores = df_scores[cols]\n",
    "\n",
    "print(df_scores.head())"
   ]
  },
  {
   "cell_type": "code",
   "execution_count": 47,
   "id": "eedd1b9d",
   "metadata": {},
   "outputs": [],
   "source": [
    "df_scores.to_csv(r\"C:\\Users\\sofia\\Documents\\Data_Analytics_Ironhack\\Projects\\ironhack_final_project\\Worked_datasets\\species_scores.csv\", index=False)\n",
    "# --- IGNORE ---"
   ]
  },
  {
   "cell_type": "code",
   "execution_count": 48,
   "id": "a18ca3bb",
   "metadata": {},
   "outputs": [],
   "source": [
    "df_scores_cpy = df_scores.copy()"
   ]
  },
  {
   "cell_type": "code",
   "execution_count": 49,
   "id": "01fde5d8",
   "metadata": {},
   "outputs": [
    {
     "data": {
      "text/html": [
       "<div>\n",
       "<style scoped>\n",
       "    .dataframe tbody tr th:only-of-type {\n",
       "        vertical-align: middle;\n",
       "    }\n",
       "\n",
       "    .dataframe tbody tr th {\n",
       "        vertical-align: top;\n",
       "    }\n",
       "\n",
       "    .dataframe thead th {\n",
       "        text-align: right;\n",
       "    }\n",
       "</style>\n",
       "<table border=\"1\" class=\"dataframe\">\n",
       "  <thead>\n",
       "    <tr style=\"text-align: right;\">\n",
       "      <th></th>\n",
       "      <th>mês</th>\n",
       "      <th>rumo_predominante_ vento</th>\n",
       "      <th>velocidade_médi_Vento(km/h)</th>\n",
       "      <th>maior _valor_velocidade_máxima_instantânea_vento_rajada(km/h)</th>\n",
       "      <th>humidade_relativa_média</th>\n",
       "      <th>número_horas_de_sol</th>\n",
       "    </tr>\n",
       "  </thead>\n",
       "  <tbody>\n",
       "    <tr>\n",
       "      <th>0</th>\n",
       "      <td>Janeiro</td>\n",
       "      <td>NE</td>\n",
       "      <td>6.5</td>\n",
       "      <td>65</td>\n",
       "      <td>68</td>\n",
       "      <td>142.3</td>\n",
       "    </tr>\n",
       "    <tr>\n",
       "      <th>1</th>\n",
       "      <td>Fevereiro</td>\n",
       "      <td>E</td>\n",
       "      <td>6.7</td>\n",
       "      <td>59</td>\n",
       "      <td>64</td>\n",
       "      <td>189.3</td>\n",
       "    </tr>\n",
       "    <tr>\n",
       "      <th>2</th>\n",
       "      <td>Março</td>\n",
       "      <td>W</td>\n",
       "      <td>7.2</td>\n",
       "      <td>68</td>\n",
       "      <td>63</td>\n",
       "      <td>208.1</td>\n",
       "    </tr>\n",
       "    <tr>\n",
       "      <th>3</th>\n",
       "      <td>Abril</td>\n",
       "      <td>SW</td>\n",
       "      <td>5.5</td>\n",
       "      <td>49</td>\n",
       "      <td>61</td>\n",
       "      <td>253.1</td>\n",
       "    </tr>\n",
       "    <tr>\n",
       "      <th>4</th>\n",
       "      <td>Maio</td>\n",
       "      <td>SW</td>\n",
       "      <td>4.8</td>\n",
       "      <td>45</td>\n",
       "      <td>65</td>\n",
       "      <td>186.6</td>\n",
       "    </tr>\n",
       "  </tbody>\n",
       "</table>\n",
       "</div>"
      ],
      "text/plain": [
       "         mês rumo_predominante_ vento  velocidade_médi_Vento(km/h)  \\\n",
       "0    Janeiro                       NE                          6.5   \n",
       "1  Fevereiro                        E                          6.7   \n",
       "2      Março                        W                          7.2   \n",
       "3      Abril                       SW                          5.5   \n",
       "4       Maio                       SW                          4.8   \n",
       "\n",
       "   maior _valor_velocidade_máxima_instantânea_vento_rajada(km/h)  \\\n",
       "0                                                 65               \n",
       "1                                                 59               \n",
       "2                                                 68               \n",
       "3                                                 49               \n",
       "4                                                 45               \n",
       "\n",
       "   humidade_relativa_média  número_horas_de_sol  \n",
       "0                       68                142.3  \n",
       "1                       64                189.3  \n",
       "2                       63                208.1  \n",
       "3                       61                253.1  \n",
       "4                       65                186.6  "
      ]
     },
     "execution_count": 49,
     "metadata": {},
     "output_type": "execute_result"
    }
   ],
   "source": [
    "df_clima_2024 = pd.read_excel(r\"C:\\Users\\sofia\\Documents\\Data_Analytics_Ironhack\\Projects\\ironhack_final_project\\Datasets\\Climate_data\\outros_dados_meteorologicos.xlsx\")\n",
    "\n",
    "df_clima_2024.head()"
   ]
  },
  {
   "cell_type": "code",
   "execution_count": 52,
   "id": "90678092",
   "metadata": {},
   "outputs": [
    {
     "name": "stdout",
     "output_type": "stream",
     "text": [
      "{'humidade_media_2024': np.float64(65.58333333333333), 'horas_sol_ano_2024': np.float64(2294.7000000000003), 'horas_sol_media_2024': np.float64(6.374166666666667), 'vento_medio_2024': np.float64(5.741666666666667)}\n"
     ]
    }
   ],
   "source": [
    "clima_madeira_2024 = {\n",
    "    \"humidade_media_2024\": df_clima_2024[\"humidade_relativa_média\"].mean(),\n",
    "    \"horas_sol_ano_2024\": df_clima_2024[\"número_horas_de_sol\"].sum(),   # total anual\n",
    "    \"horas_sol_media_2024\": df_clima_2024[\"número_horas_de_sol\"].mean() / 30,  # ~ h/dia\n",
    "    \"vento_medio_2024\": df_clima_2024[\"velocidade_médi_Vento(km/h)\"].mean(),\n",
    "}\n",
    "print(clima_madeira_2024)"
   ]
  },
  {
   "cell_type": "code",
   "execution_count": 53,
   "id": "a9a2b9f2",
   "metadata": {},
   "outputs": [
    {
     "data": {
      "text/html": [
       "<div>\n",
       "<style scoped>\n",
       "    .dataframe tbody tr th:only-of-type {\n",
       "        vertical-align: middle;\n",
       "    }\n",
       "\n",
       "    .dataframe tbody tr th {\n",
       "        vertical-align: top;\n",
       "    }\n",
       "\n",
       "    .dataframe thead th {\n",
       "        text-align: right;\n",
       "    }\n",
       "</style>\n",
       "<table border=\"1\" class=\"dataframe\">\n",
       "  <thead>\n",
       "    <tr style=\"text-align: right;\">\n",
       "      <th></th>\n",
       "      <th>humidade_media_2024</th>\n",
       "      <th>horas_sol_ano_2024</th>\n",
       "      <th>horas_sol_media_2024</th>\n",
       "      <th>vento_medio_2024</th>\n",
       "    </tr>\n",
       "  </thead>\n",
       "  <tbody>\n",
       "    <tr>\n",
       "      <th>0</th>\n",
       "      <td>65.583333</td>\n",
       "      <td>2294.7</td>\n",
       "      <td>6.374167</td>\n",
       "      <td>5.741667</td>\n",
       "    </tr>\n",
       "  </tbody>\n",
       "</table>\n",
       "</div>"
      ],
      "text/plain": [
       "   humidade_media_2024  horas_sol_ano_2024  horas_sol_media_2024  \\\n",
       "0            65.583333              2294.7              6.374167   \n",
       "\n",
       "   vento_medio_2024  \n",
       "0          5.741667  "
      ]
     },
     "execution_count": 53,
     "metadata": {},
     "output_type": "execute_result"
    }
   ],
   "source": [
    "# transformar em dataframe\n",
    "clima_madeira_2024 = pd.DataFrame([clima_madeira_2024])\n",
    "\n",
    "clima_madeira_2024"
   ]
  },
  {
   "cell_type": "code",
   "execution_count": 56,
   "id": "e3d99daa",
   "metadata": {},
   "outputs": [
    {
     "data": {
      "text/html": [
       "<div>\n",
       "<style scoped>\n",
       "    .dataframe tbody tr th:only-of-type {\n",
       "        vertical-align: middle;\n",
       "    }\n",
       "\n",
       "    .dataframe tbody tr th {\n",
       "        vertical-align: top;\n",
       "    }\n",
       "\n",
       "    .dataframe thead th {\n",
       "        text-align: right;\n",
       "    }\n",
       "</style>\n",
       "<table border=\"1\" class=\"dataframe\">\n",
       "  <thead>\n",
       "    <tr style=\"text-align: right;\">\n",
       "      <th></th>\n",
       "      <th>cultura</th>\n",
       "      <th>nome_científico</th>\n",
       "      <th>família</th>\n",
       "      <th>germinacao_Tmin</th>\n",
       "      <th>germinacao_Totima</th>\n",
       "      <th>germincacao_Tmáxima</th>\n",
       "      <th>vegetacao_Tmin</th>\n",
       "      <th>vegetacao_Toptima</th>\n",
       "      <th>vegetacao_Tmax</th>\n",
       "      <th>tolerancia_salinidade</th>\n",
       "      <th>...</th>\n",
       "      <th>clima_ideal _°C</th>\n",
       "      <th>necessidade_hidrica</th>\n",
       "      <th>notas_principais</th>\n",
       "      <th>solo_pref_cat</th>\n",
       "      <th>sol_fotoperiodo_cat</th>\n",
       "      <th>necessidade_hidrica_num</th>\n",
       "      <th>tolerancia_acidez_num</th>\n",
       "      <th>tolerancia_salinidade_num</th>\n",
       "      <th>ph_min</th>\n",
       "      <th>ph_max</th>\n",
       "    </tr>\n",
       "  </thead>\n",
       "  <tbody>\n",
       "    <tr>\n",
       "      <th>0</th>\n",
       "      <td>Abóbora</td>\n",
       "      <td>Curcubita sp.</td>\n",
       "      <td>Curcubitaceae</td>\n",
       "      <td>7,5</td>\n",
       "      <td>32,5</td>\n",
       "      <td>38</td>\n",
       "      <td>10</td>\n",
       "      <td>22,5</td>\n",
       "      <td>32</td>\n",
       "      <td>moderada</td>\n",
       "      <td>...</td>\n",
       "      <td>20–30 °C</td>\n",
       "      <td>moderada</td>\n",
       "      <td>Não tolera geadas; gosta de calor</td>\n",
       "      <td>1.0</td>\n",
       "      <td>3.0</td>\n",
       "      <td>2.0</td>\n",
       "      <td>2.0</td>\n",
       "      <td>2.0</td>\n",
       "      <td>6.0</td>\n",
       "      <td>6.8</td>\n",
       "    </tr>\n",
       "    <tr>\n",
       "      <th>1</th>\n",
       "      <td>Banana</td>\n",
       "      <td>Musa acuminata × Musa balbisiana (AA–AAA, etc.)</td>\n",
       "      <td>Musaceae</td>\n",
       "      <td>— (propagação vegetativa)</td>\n",
       "      <td>—</td>\n",
       "      <td>—</td>\n",
       "      <td>15</td>\n",
       "      <td>28</td>\n",
       "      <td>35</td>\n",
       "      <td>moderada</td>\n",
       "      <td>...</td>\n",
       "      <td>26–30 °C</td>\n",
       "      <td>None</td>\n",
       "      <td>Sensível ao vento forte</td>\n",
       "      <td>2.0</td>\n",
       "      <td>3.0</td>\n",
       "      <td>NaN</td>\n",
       "      <td>2.0</td>\n",
       "      <td>2.0</td>\n",
       "      <td>5.5</td>\n",
       "      <td>7.5</td>\n",
       "    </tr>\n",
       "    <tr>\n",
       "      <th>2</th>\n",
       "      <td>Batata</td>\n",
       "      <td>Solanum tuberosum</td>\n",
       "      <td>Solanaceae</td>\n",
       "      <td>3,5</td>\n",
       "      <td>19</td>\n",
       "      <td>NaN</td>\n",
       "      <td>7</td>\n",
       "      <td>20</td>\n",
       "      <td>32,5</td>\n",
       "      <td>moderada</td>\n",
       "      <td>...</td>\n",
       "      <td>15–20 °C</td>\n",
       "      <td>moderada</td>\n",
       "      <td>Não gosta de solos encharcados</td>\n",
       "      <td>1.0</td>\n",
       "      <td>NaN</td>\n",
       "      <td>2.0</td>\n",
       "      <td>NaN</td>\n",
       "      <td>2.0</td>\n",
       "      <td>5.5</td>\n",
       "      <td>6.0</td>\n",
       "    </tr>\n",
       "    <tr>\n",
       "      <th>3</th>\n",
       "      <td>Batata-doce</td>\n",
       "      <td>Ipomoea batatas</td>\n",
       "      <td>Convolvulaceae</td>\n",
       "      <td>15</td>\n",
       "      <td>27,5</td>\n",
       "      <td>38</td>\n",
       "      <td>15</td>\n",
       "      <td>23,5</td>\n",
       "      <td>35</td>\n",
       "      <td>moderada</td>\n",
       "      <td>...</td>\n",
       "      <td>21–26 °C</td>\n",
       "      <td>baixa</td>\n",
       "      <td>Tolerante à seca, mas prefere calor</td>\n",
       "      <td>1.0</td>\n",
       "      <td>3.0</td>\n",
       "      <td>1.0</td>\n",
       "      <td>2.0</td>\n",
       "      <td>2.0</td>\n",
       "      <td>5.5</td>\n",
       "      <td>6.5</td>\n",
       "    </tr>\n",
       "    <tr>\n",
       "      <th>4</th>\n",
       "      <td>Cana-de-açúcar</td>\n",
       "      <td>Saccharum officinarum</td>\n",
       "      <td>Poaceae</td>\n",
       "      <td>18</td>\n",
       "      <td>30</td>\n",
       "      <td>38</td>\n",
       "      <td>18</td>\n",
       "      <td>27,5</td>\n",
       "      <td>36,5</td>\n",
       "      <td>None</td>\n",
       "      <td>...</td>\n",
       "      <td>20–30 °C (ótimo 25–28 °C)</td>\n",
       "      <td>None</td>\n",
       "      <td>Cultura de clima tropical/subtropical</td>\n",
       "      <td>2.0</td>\n",
       "      <td>3.0</td>\n",
       "      <td>NaN</td>\n",
       "      <td>1.0</td>\n",
       "      <td>NaN</td>\n",
       "      <td>6.0</td>\n",
       "      <td>7.5</td>\n",
       "    </tr>\n",
       "  </tbody>\n",
       "</table>\n",
       "<p>5 rows × 24 columns</p>\n",
       "</div>"
      ],
      "text/plain": [
       "          cultura                                  nome_científico  \\\n",
       "0         Abóbora                                    Curcubita sp.   \n",
       "1          Banana  Musa acuminata × Musa balbisiana (AA–AAA, etc.)   \n",
       "2          Batata                                Solanum tuberosum   \n",
       "3     Batata-doce                                  Ipomoea batatas   \n",
       "4  Cana-de-açúcar                            Saccharum officinarum   \n",
       "\n",
       "          família            germinacao_Tmin germinacao_Totima  \\\n",
       "0   Curcubitaceae                        7,5              32,5   \n",
       "1        Musaceae  — (propagação vegetativa)                 —   \n",
       "2      Solanaceae                        3,5                19   \n",
       "3  Convolvulaceae                         15              27,5   \n",
       "4         Poaceae                         18                30   \n",
       "\n",
       "  germincacao_Tmáxima  vegetacao_Tmin vegetacao_Toptima vegetacao_Tmax  \\\n",
       "0                  38              10              22,5             32   \n",
       "1                   —              15                28             35   \n",
       "2                 NaN               7                20           32,5   \n",
       "3                  38              15              23,5             35   \n",
       "4                  38              18              27,5           36,5   \n",
       "\n",
       "  tolerancia_salinidade  ...            clima_ideal _°C necessidade_hidrica  \\\n",
       "0              moderada  ...                   20–30 °C            moderada   \n",
       "1              moderada  ...                   26–30 °C                None   \n",
       "2              moderada  ...                   15–20 °C            moderada   \n",
       "3              moderada  ...                   21–26 °C               baixa   \n",
       "4                  None  ...  20–30 °C (ótimo 25–28 °C)                None   \n",
       "\n",
       "                        notas_principais solo_pref_cat sol_fotoperiodo_cat  \\\n",
       "0      Não tolera geadas; gosta de calor           1.0                 3.0   \n",
       "1                Sensível ao vento forte           2.0                 3.0   \n",
       "2         Não gosta de solos encharcados           1.0                 NaN   \n",
       "3    Tolerante à seca, mas prefere calor           1.0                 3.0   \n",
       "4  Cultura de clima tropical/subtropical           2.0                 3.0   \n",
       "\n",
       "  necessidade_hidrica_num tolerancia_acidez_num  tolerancia_salinidade_num  \\\n",
       "0                     2.0                   2.0                        2.0   \n",
       "1                     NaN                   2.0                        2.0   \n",
       "2                     2.0                   NaN                        2.0   \n",
       "3                     1.0                   2.0                        2.0   \n",
       "4                     NaN                   1.0                        NaN   \n",
       "\n",
       "   ph_min  ph_max  \n",
       "0     6.0     6.8  \n",
       "1     5.5     7.5  \n",
       "2     5.5     6.0  \n",
       "3     5.5     6.5  \n",
       "4     6.0     7.5  \n",
       "\n",
       "[5 rows x 24 columns]"
      ]
     },
     "execution_count": 56,
     "metadata": {},
     "output_type": "execute_result"
    }
   ],
   "source": [
    "import re\n",
    "import pandas as pd\n",
    "\n",
    "def parse_range(text):\n",
    "    if pd.isna(text):\n",
    "        return (None, None)\n",
    "    # normalizar traços e vírgulas\n",
    "    s = str(text).replace(\"–\", \"-\").replace(\"—\", \"-\").replace(\"to\", \"-\").replace(\",\", \".\")\n",
    "    # procurar números\n",
    "    nums = re.findall(r\"\\d+(?:\\.\\d+)?\", s)\n",
    "    if len(nums) >= 2:\n",
    "        return float(nums[0]), float(nums[1])\n",
    "    elif len(nums) == 1:\n",
    "        return float(nums[0]), float(nums[0])\n",
    "    return (None, None)\n",
    "\n",
    "species_df[[\"ph_min\", \"ph_max\"]] = species_df[\"intervalo_otimp_pH\"].apply(parse_range).apply(pd.Series)\n",
    "\n",
    "species_df.head()\n"
   ]
  },
  {
   "cell_type": "code",
   "execution_count": 58,
   "id": "cda717e2",
   "metadata": {},
   "outputs": [
    {
     "data": {
      "text/html": [
       "<div>\n",
       "<style scoped>\n",
       "    .dataframe tbody tr th:only-of-type {\n",
       "        vertical-align: middle;\n",
       "    }\n",
       "\n",
       "    .dataframe tbody tr th {\n",
       "        vertical-align: top;\n",
       "    }\n",
       "\n",
       "    .dataframe thead th {\n",
       "        text-align: right;\n",
       "    }\n",
       "</style>\n",
       "<table border=\"1\" class=\"dataframe\">\n",
       "  <thead>\n",
       "    <tr style=\"text-align: right;\">\n",
       "      <th></th>\n",
       "      <th>cultura</th>\n",
       "      <th>nome_científico</th>\n",
       "      <th>família</th>\n",
       "      <th>germinacao_Tmin</th>\n",
       "      <th>germinacao_Totima</th>\n",
       "      <th>germincacao_Tmáxima</th>\n",
       "      <th>vegetacao_Tmin</th>\n",
       "      <th>vegetacao_Toptima</th>\n",
       "      <th>vegetacao_Tmax</th>\n",
       "      <th>tolerancia_salinidade</th>\n",
       "      <th>...</th>\n",
       "      <th>necessidade_hidrica</th>\n",
       "      <th>notas_principais</th>\n",
       "      <th>solo_pref_cat</th>\n",
       "      <th>sol_fotoperiodo_cat</th>\n",
       "      <th>necessidade_hidrica_num</th>\n",
       "      <th>tolerancia_acidez_num</th>\n",
       "      <th>tolerancia_salinidade_num</th>\n",
       "      <th>ph_min</th>\n",
       "      <th>ph_max</th>\n",
       "      <th>sol_min</th>\n",
       "    </tr>\n",
       "  </thead>\n",
       "  <tbody>\n",
       "    <tr>\n",
       "      <th>0</th>\n",
       "      <td>Abóbora</td>\n",
       "      <td>Curcubita sp.</td>\n",
       "      <td>Curcubitaceae</td>\n",
       "      <td>7,5</td>\n",
       "      <td>32,5</td>\n",
       "      <td>38</td>\n",
       "      <td>10</td>\n",
       "      <td>22,5</td>\n",
       "      <td>32</td>\n",
       "      <td>moderada</td>\n",
       "      <td>...</td>\n",
       "      <td>moderada</td>\n",
       "      <td>Não tolera geadas; gosta de calor</td>\n",
       "      <td>1.0</td>\n",
       "      <td>3.0</td>\n",
       "      <td>2.0</td>\n",
       "      <td>2.0</td>\n",
       "      <td>2.0</td>\n",
       "      <td>6.0</td>\n",
       "      <td>6.8</td>\n",
       "      <td>6.0</td>\n",
       "    </tr>\n",
       "    <tr>\n",
       "      <th>1</th>\n",
       "      <td>Banana</td>\n",
       "      <td>Musa acuminata × Musa balbisiana (AA–AAA, etc.)</td>\n",
       "      <td>Musaceae</td>\n",
       "      <td>— (propagação vegetativa)</td>\n",
       "      <td>—</td>\n",
       "      <td>—</td>\n",
       "      <td>15</td>\n",
       "      <td>28</td>\n",
       "      <td>35</td>\n",
       "      <td>moderada</td>\n",
       "      <td>...</td>\n",
       "      <td>None</td>\n",
       "      <td>Sensível ao vento forte</td>\n",
       "      <td>2.0</td>\n",
       "      <td>3.0</td>\n",
       "      <td>NaN</td>\n",
       "      <td>2.0</td>\n",
       "      <td>2.0</td>\n",
       "      <td>5.5</td>\n",
       "      <td>7.5</td>\n",
       "      <td>8.0</td>\n",
       "    </tr>\n",
       "    <tr>\n",
       "      <th>2</th>\n",
       "      <td>Batata</td>\n",
       "      <td>Solanum tuberosum</td>\n",
       "      <td>Solanaceae</td>\n",
       "      <td>3,5</td>\n",
       "      <td>19</td>\n",
       "      <td>NaN</td>\n",
       "      <td>7</td>\n",
       "      <td>20</td>\n",
       "      <td>32,5</td>\n",
       "      <td>moderada</td>\n",
       "      <td>...</td>\n",
       "      <td>moderada</td>\n",
       "      <td>Não gosta de solos encharcados</td>\n",
       "      <td>1.0</td>\n",
       "      <td>NaN</td>\n",
       "      <td>2.0</td>\n",
       "      <td>NaN</td>\n",
       "      <td>2.0</td>\n",
       "      <td>5.5</td>\n",
       "      <td>6.0</td>\n",
       "      <td>6.0</td>\n",
       "    </tr>\n",
       "    <tr>\n",
       "      <th>3</th>\n",
       "      <td>Batata-doce</td>\n",
       "      <td>Ipomoea batatas</td>\n",
       "      <td>Convolvulaceae</td>\n",
       "      <td>15</td>\n",
       "      <td>27,5</td>\n",
       "      <td>38</td>\n",
       "      <td>15</td>\n",
       "      <td>23,5</td>\n",
       "      <td>35</td>\n",
       "      <td>moderada</td>\n",
       "      <td>...</td>\n",
       "      <td>baixa</td>\n",
       "      <td>Tolerante à seca, mas prefere calor</td>\n",
       "      <td>1.0</td>\n",
       "      <td>3.0</td>\n",
       "      <td>1.0</td>\n",
       "      <td>2.0</td>\n",
       "      <td>2.0</td>\n",
       "      <td>5.5</td>\n",
       "      <td>6.5</td>\n",
       "      <td>6.0</td>\n",
       "    </tr>\n",
       "    <tr>\n",
       "      <th>4</th>\n",
       "      <td>Cana-de-açúcar</td>\n",
       "      <td>Saccharum officinarum</td>\n",
       "      <td>Poaceae</td>\n",
       "      <td>18</td>\n",
       "      <td>30</td>\n",
       "      <td>38</td>\n",
       "      <td>18</td>\n",
       "      <td>27,5</td>\n",
       "      <td>36,5</td>\n",
       "      <td>None</td>\n",
       "      <td>...</td>\n",
       "      <td>None</td>\n",
       "      <td>Cultura de clima tropical/subtropical</td>\n",
       "      <td>2.0</td>\n",
       "      <td>3.0</td>\n",
       "      <td>NaN</td>\n",
       "      <td>1.0</td>\n",
       "      <td>NaN</td>\n",
       "      <td>6.0</td>\n",
       "      <td>7.5</td>\n",
       "      <td>8.0</td>\n",
       "    </tr>\n",
       "  </tbody>\n",
       "</table>\n",
       "<p>5 rows × 25 columns</p>\n",
       "</div>"
      ],
      "text/plain": [
       "          cultura                                  nome_científico  \\\n",
       "0         Abóbora                                    Curcubita sp.   \n",
       "1          Banana  Musa acuminata × Musa balbisiana (AA–AAA, etc.)   \n",
       "2          Batata                                Solanum tuberosum   \n",
       "3     Batata-doce                                  Ipomoea batatas   \n",
       "4  Cana-de-açúcar                            Saccharum officinarum   \n",
       "\n",
       "          família            germinacao_Tmin germinacao_Totima  \\\n",
       "0   Curcubitaceae                        7,5              32,5   \n",
       "1        Musaceae  — (propagação vegetativa)                 —   \n",
       "2      Solanaceae                        3,5                19   \n",
       "3  Convolvulaceae                         15              27,5   \n",
       "4         Poaceae                         18                30   \n",
       "\n",
       "  germincacao_Tmáxima  vegetacao_Tmin vegetacao_Toptima vegetacao_Tmax  \\\n",
       "0                  38              10              22,5             32   \n",
       "1                   —              15                28             35   \n",
       "2                 NaN               7                20           32,5   \n",
       "3                  38              15              23,5             35   \n",
       "4                  38              18              27,5           36,5   \n",
       "\n",
       "  tolerancia_salinidade  ... necessidade_hidrica  \\\n",
       "0              moderada  ...            moderada   \n",
       "1              moderada  ...                None   \n",
       "2              moderada  ...            moderada   \n",
       "3              moderada  ...               baixa   \n",
       "4                  None  ...                None   \n",
       "\n",
       "                        notas_principais solo_pref_cat sol_fotoperiodo_cat  \\\n",
       "0      Não tolera geadas; gosta de calor           1.0                 3.0   \n",
       "1                Sensível ao vento forte           2.0                 3.0   \n",
       "2         Não gosta de solos encharcados           1.0                 NaN   \n",
       "3    Tolerante à seca, mas prefere calor           1.0                 3.0   \n",
       "4  Cultura de clima tropical/subtropical           2.0                 3.0   \n",
       "\n",
       "  necessidade_hidrica_num tolerancia_acidez_num tolerancia_salinidade_num  \\\n",
       "0                     2.0                   2.0                       2.0   \n",
       "1                     NaN                   2.0                       2.0   \n",
       "2                     2.0                   NaN                       2.0   \n",
       "3                     1.0                   2.0                       2.0   \n",
       "4                     NaN                   1.0                       NaN   \n",
       "\n",
       "   ph_min  ph_max  sol_min  \n",
       "0     6.0     6.8      6.0  \n",
       "1     5.5     7.5      8.0  \n",
       "2     5.5     6.0      6.0  \n",
       "3     5.5     6.5      6.0  \n",
       "4     6.0     7.5      8.0  \n",
       "\n",
       "[5 rows x 25 columns]"
      ]
     },
     "execution_count": 58,
     "metadata": {},
     "output_type": "execute_result"
    }
   ],
   "source": [
    "def parse_sol(text):\n",
    "    if pd.isna(text):\n",
    "        return None\n",
    "    m = re.search(r\"(\\d+)[–-]?(\\d+)?h\", text)\n",
    "    if m:\n",
    "        return float(m.group(1))  # mínimo\n",
    "    return None\n",
    "\n",
    "species_df[\"sol_min\"] = species_df[\"sol_fotoperíodo\"].apply(parse_sol)\n",
    "species_df.head()"
   ]
  },
  {
   "cell_type": "code",
   "execution_count": 59,
   "id": "4f9b2125",
   "metadata": {},
   "outputs": [
    {
     "data": {
      "text/html": [
       "<div>\n",
       "<style scoped>\n",
       "    .dataframe tbody tr th:only-of-type {\n",
       "        vertical-align: middle;\n",
       "    }\n",
       "\n",
       "    .dataframe tbody tr th {\n",
       "        vertical-align: top;\n",
       "    }\n",
       "\n",
       "    .dataframe thead th {\n",
       "        text-align: right;\n",
       "    }\n",
       "</style>\n",
       "<table border=\"1\" class=\"dataframe\">\n",
       "  <thead>\n",
       "    <tr style=\"text-align: right;\">\n",
       "      <th></th>\n",
       "      <th>cultura</th>\n",
       "      <th>nome_científico</th>\n",
       "      <th>família</th>\n",
       "      <th>germinacao_Tmin</th>\n",
       "      <th>germinacao_Totima</th>\n",
       "      <th>germincacao_Tmáxima</th>\n",
       "      <th>vegetacao_Tmin</th>\n",
       "      <th>vegetacao_Toptima</th>\n",
       "      <th>vegetacao_Tmax</th>\n",
       "      <th>tolerancia_salinidade</th>\n",
       "      <th>...</th>\n",
       "      <th>notas_principais</th>\n",
       "      <th>solo_pref_cat</th>\n",
       "      <th>sol_fotoperiodo_cat</th>\n",
       "      <th>necessidade_hidrica_num</th>\n",
       "      <th>tolerancia_acidez_num</th>\n",
       "      <th>tolerancia_salinidade_num</th>\n",
       "      <th>ph_min</th>\n",
       "      <th>ph_max</th>\n",
       "      <th>sol_min</th>\n",
       "      <th>necessidade_hidrica_cat</th>\n",
       "    </tr>\n",
       "  </thead>\n",
       "  <tbody>\n",
       "    <tr>\n",
       "      <th>0</th>\n",
       "      <td>Abóbora</td>\n",
       "      <td>Curcubita sp.</td>\n",
       "      <td>Curcubitaceae</td>\n",
       "      <td>7,5</td>\n",
       "      <td>32,5</td>\n",
       "      <td>38</td>\n",
       "      <td>10</td>\n",
       "      <td>22,5</td>\n",
       "      <td>32</td>\n",
       "      <td>moderada</td>\n",
       "      <td>...</td>\n",
       "      <td>Não tolera geadas; gosta de calor</td>\n",
       "      <td>1.0</td>\n",
       "      <td>3.0</td>\n",
       "      <td>2.0</td>\n",
       "      <td>2.0</td>\n",
       "      <td>2.0</td>\n",
       "      <td>6.0</td>\n",
       "      <td>6.8</td>\n",
       "      <td>6.0</td>\n",
       "      <td>2.0</td>\n",
       "    </tr>\n",
       "    <tr>\n",
       "      <th>1</th>\n",
       "      <td>Banana</td>\n",
       "      <td>Musa acuminata × Musa balbisiana (AA–AAA, etc.)</td>\n",
       "      <td>Musaceae</td>\n",
       "      <td>— (propagação vegetativa)</td>\n",
       "      <td>—</td>\n",
       "      <td>—</td>\n",
       "      <td>15</td>\n",
       "      <td>28</td>\n",
       "      <td>35</td>\n",
       "      <td>moderada</td>\n",
       "      <td>...</td>\n",
       "      <td>Sensível ao vento forte</td>\n",
       "      <td>2.0</td>\n",
       "      <td>3.0</td>\n",
       "      <td>NaN</td>\n",
       "      <td>2.0</td>\n",
       "      <td>2.0</td>\n",
       "      <td>5.5</td>\n",
       "      <td>7.5</td>\n",
       "      <td>8.0</td>\n",
       "      <td>NaN</td>\n",
       "    </tr>\n",
       "    <tr>\n",
       "      <th>2</th>\n",
       "      <td>Batata</td>\n",
       "      <td>Solanum tuberosum</td>\n",
       "      <td>Solanaceae</td>\n",
       "      <td>3,5</td>\n",
       "      <td>19</td>\n",
       "      <td>NaN</td>\n",
       "      <td>7</td>\n",
       "      <td>20</td>\n",
       "      <td>32,5</td>\n",
       "      <td>moderada</td>\n",
       "      <td>...</td>\n",
       "      <td>Não gosta de solos encharcados</td>\n",
       "      <td>1.0</td>\n",
       "      <td>NaN</td>\n",
       "      <td>2.0</td>\n",
       "      <td>NaN</td>\n",
       "      <td>2.0</td>\n",
       "      <td>5.5</td>\n",
       "      <td>6.0</td>\n",
       "      <td>6.0</td>\n",
       "      <td>2.0</td>\n",
       "    </tr>\n",
       "    <tr>\n",
       "      <th>3</th>\n",
       "      <td>Batata-doce</td>\n",
       "      <td>Ipomoea batatas</td>\n",
       "      <td>Convolvulaceae</td>\n",
       "      <td>15</td>\n",
       "      <td>27,5</td>\n",
       "      <td>38</td>\n",
       "      <td>15</td>\n",
       "      <td>23,5</td>\n",
       "      <td>35</td>\n",
       "      <td>moderada</td>\n",
       "      <td>...</td>\n",
       "      <td>Tolerante à seca, mas prefere calor</td>\n",
       "      <td>1.0</td>\n",
       "      <td>3.0</td>\n",
       "      <td>1.0</td>\n",
       "      <td>2.0</td>\n",
       "      <td>2.0</td>\n",
       "      <td>5.5</td>\n",
       "      <td>6.5</td>\n",
       "      <td>6.0</td>\n",
       "      <td>1.0</td>\n",
       "    </tr>\n",
       "    <tr>\n",
       "      <th>4</th>\n",
       "      <td>Cana-de-açúcar</td>\n",
       "      <td>Saccharum officinarum</td>\n",
       "      <td>Poaceae</td>\n",
       "      <td>18</td>\n",
       "      <td>30</td>\n",
       "      <td>38</td>\n",
       "      <td>18</td>\n",
       "      <td>27,5</td>\n",
       "      <td>36,5</td>\n",
       "      <td>None</td>\n",
       "      <td>...</td>\n",
       "      <td>Cultura de clima tropical/subtropical</td>\n",
       "      <td>2.0</td>\n",
       "      <td>3.0</td>\n",
       "      <td>NaN</td>\n",
       "      <td>1.0</td>\n",
       "      <td>NaN</td>\n",
       "      <td>6.0</td>\n",
       "      <td>7.5</td>\n",
       "      <td>8.0</td>\n",
       "      <td>NaN</td>\n",
       "    </tr>\n",
       "  </tbody>\n",
       "</table>\n",
       "<p>5 rows × 26 columns</p>\n",
       "</div>"
      ],
      "text/plain": [
       "          cultura                                  nome_científico  \\\n",
       "0         Abóbora                                    Curcubita sp.   \n",
       "1          Banana  Musa acuminata × Musa balbisiana (AA–AAA, etc.)   \n",
       "2          Batata                                Solanum tuberosum   \n",
       "3     Batata-doce                                  Ipomoea batatas   \n",
       "4  Cana-de-açúcar                            Saccharum officinarum   \n",
       "\n",
       "          família            germinacao_Tmin germinacao_Totima  \\\n",
       "0   Curcubitaceae                        7,5              32,5   \n",
       "1        Musaceae  — (propagação vegetativa)                 —   \n",
       "2      Solanaceae                        3,5                19   \n",
       "3  Convolvulaceae                         15              27,5   \n",
       "4         Poaceae                         18                30   \n",
       "\n",
       "  germincacao_Tmáxima  vegetacao_Tmin vegetacao_Toptima vegetacao_Tmax  \\\n",
       "0                  38              10              22,5             32   \n",
       "1                   —              15                28             35   \n",
       "2                 NaN               7                20           32,5   \n",
       "3                  38              15              23,5             35   \n",
       "4                  38              18              27,5           36,5   \n",
       "\n",
       "  tolerancia_salinidade  ...                       notas_principais  \\\n",
       "0              moderada  ...      Não tolera geadas; gosta de calor   \n",
       "1              moderada  ...                Sensível ao vento forte   \n",
       "2              moderada  ...         Não gosta de solos encharcados   \n",
       "3              moderada  ...    Tolerante à seca, mas prefere calor   \n",
       "4                  None  ...  Cultura de clima tropical/subtropical   \n",
       "\n",
       "  solo_pref_cat sol_fotoperiodo_cat necessidade_hidrica_num  \\\n",
       "0           1.0                 3.0                     2.0   \n",
       "1           2.0                 3.0                     NaN   \n",
       "2           1.0                 NaN                     2.0   \n",
       "3           1.0                 3.0                     1.0   \n",
       "4           2.0                 3.0                     NaN   \n",
       "\n",
       "  tolerancia_acidez_num tolerancia_salinidade_num ph_min  ph_max  sol_min  \\\n",
       "0                   2.0                       2.0    6.0     6.8      6.0   \n",
       "1                   2.0                       2.0    5.5     7.5      8.0   \n",
       "2                   NaN                       2.0    5.5     6.0      6.0   \n",
       "3                   2.0                       2.0    5.5     6.5      6.0   \n",
       "4                   1.0                       NaN    6.0     7.5      8.0   \n",
       "\n",
       "   necessidade_hidrica_cat  \n",
       "0                      2.0  \n",
       "1                      NaN  \n",
       "2                      2.0  \n",
       "3                      1.0  \n",
       "4                      NaN  \n",
       "\n",
       "[5 rows x 26 columns]"
      ]
     },
     "execution_count": 59,
     "metadata": {},
     "output_type": "execute_result"
    }
   ],
   "source": [
    "escala = {\"baixa\":1, \"moderada\":2, \"alta\":3, \"muito alta\":3}\n",
    "species_df[\"necessidade_hidrica_cat\"] = species_df[\"necessidade_hidrica\"].str.lower().map(escala)\n",
    "species_df.head()\n"
   ]
  },
  {
   "cell_type": "code",
   "execution_count": 60,
   "id": "4a40eb63",
   "metadata": {},
   "outputs": [
    {
     "data": {
      "text/html": [
       "<div>\n",
       "<style scoped>\n",
       "    .dataframe tbody tr th:only-of-type {\n",
       "        vertical-align: middle;\n",
       "    }\n",
       "\n",
       "    .dataframe tbody tr th {\n",
       "        vertical-align: top;\n",
       "    }\n",
       "\n",
       "    .dataframe thead th {\n",
       "        text-align: right;\n",
       "    }\n",
       "</style>\n",
       "<table border=\"1\" class=\"dataframe\">\n",
       "  <thead>\n",
       "    <tr style=\"text-align: right;\">\n",
       "      <th></th>\n",
       "      <th>cultura</th>\n",
       "      <th>nome_científico</th>\n",
       "      <th>família</th>\n",
       "      <th>germinacao_Tmin</th>\n",
       "      <th>germinacao_Totima</th>\n",
       "      <th>germincacao_Tmáxima</th>\n",
       "      <th>vegetacao_Tmin</th>\n",
       "      <th>vegetacao_Toptima</th>\n",
       "      <th>vegetacao_Tmax</th>\n",
       "      <th>tolerancia_salinidade</th>\n",
       "      <th>...</th>\n",
       "      <th>necessidade_hidrica</th>\n",
       "      <th>notas_principais</th>\n",
       "      <th>solo_pref_cat</th>\n",
       "      <th>sol_fotoperiodo_cat</th>\n",
       "      <th>necessidade_hidrica_num</th>\n",
       "      <th>tolerancia_acidez_num</th>\n",
       "      <th>tolerancia_salinidade_num</th>\n",
       "      <th>ph_min</th>\n",
       "      <th>ph_max</th>\n",
       "      <th>sol_min</th>\n",
       "    </tr>\n",
       "  </thead>\n",
       "  <tbody>\n",
       "    <tr>\n",
       "      <th>0</th>\n",
       "      <td>Abóbora</td>\n",
       "      <td>Curcubita sp.</td>\n",
       "      <td>Curcubitaceae</td>\n",
       "      <td>7,5</td>\n",
       "      <td>32,5</td>\n",
       "      <td>38</td>\n",
       "      <td>10</td>\n",
       "      <td>22,5</td>\n",
       "      <td>32</td>\n",
       "      <td>moderada</td>\n",
       "      <td>...</td>\n",
       "      <td>moderada</td>\n",
       "      <td>Não tolera geadas; gosta de calor</td>\n",
       "      <td>1.0</td>\n",
       "      <td>3.0</td>\n",
       "      <td>2.0</td>\n",
       "      <td>2.0</td>\n",
       "      <td>2.0</td>\n",
       "      <td>6.0</td>\n",
       "      <td>6.8</td>\n",
       "      <td>6.0</td>\n",
       "    </tr>\n",
       "    <tr>\n",
       "      <th>1</th>\n",
       "      <td>Banana</td>\n",
       "      <td>Musa acuminata × Musa balbisiana (AA–AAA, etc.)</td>\n",
       "      <td>Musaceae</td>\n",
       "      <td>— (propagação vegetativa)</td>\n",
       "      <td>—</td>\n",
       "      <td>—</td>\n",
       "      <td>15</td>\n",
       "      <td>28</td>\n",
       "      <td>35</td>\n",
       "      <td>moderada</td>\n",
       "      <td>...</td>\n",
       "      <td>None</td>\n",
       "      <td>Sensível ao vento forte</td>\n",
       "      <td>2.0</td>\n",
       "      <td>3.0</td>\n",
       "      <td>NaN</td>\n",
       "      <td>2.0</td>\n",
       "      <td>2.0</td>\n",
       "      <td>5.5</td>\n",
       "      <td>7.5</td>\n",
       "      <td>8.0</td>\n",
       "    </tr>\n",
       "    <tr>\n",
       "      <th>2</th>\n",
       "      <td>Batata</td>\n",
       "      <td>Solanum tuberosum</td>\n",
       "      <td>Solanaceae</td>\n",
       "      <td>3,5</td>\n",
       "      <td>19</td>\n",
       "      <td>NaN</td>\n",
       "      <td>7</td>\n",
       "      <td>20</td>\n",
       "      <td>32,5</td>\n",
       "      <td>moderada</td>\n",
       "      <td>...</td>\n",
       "      <td>moderada</td>\n",
       "      <td>Não gosta de solos encharcados</td>\n",
       "      <td>1.0</td>\n",
       "      <td>NaN</td>\n",
       "      <td>2.0</td>\n",
       "      <td>NaN</td>\n",
       "      <td>2.0</td>\n",
       "      <td>5.5</td>\n",
       "      <td>6.0</td>\n",
       "      <td>6.0</td>\n",
       "    </tr>\n",
       "    <tr>\n",
       "      <th>3</th>\n",
       "      <td>Batata-doce</td>\n",
       "      <td>Ipomoea batatas</td>\n",
       "      <td>Convolvulaceae</td>\n",
       "      <td>15</td>\n",
       "      <td>27,5</td>\n",
       "      <td>38</td>\n",
       "      <td>15</td>\n",
       "      <td>23,5</td>\n",
       "      <td>35</td>\n",
       "      <td>moderada</td>\n",
       "      <td>...</td>\n",
       "      <td>baixa</td>\n",
       "      <td>Tolerante à seca, mas prefere calor</td>\n",
       "      <td>1.0</td>\n",
       "      <td>3.0</td>\n",
       "      <td>1.0</td>\n",
       "      <td>2.0</td>\n",
       "      <td>2.0</td>\n",
       "      <td>5.5</td>\n",
       "      <td>6.5</td>\n",
       "      <td>6.0</td>\n",
       "    </tr>\n",
       "    <tr>\n",
       "      <th>4</th>\n",
       "      <td>Cana-de-açúcar</td>\n",
       "      <td>Saccharum officinarum</td>\n",
       "      <td>Poaceae</td>\n",
       "      <td>18</td>\n",
       "      <td>30</td>\n",
       "      <td>38</td>\n",
       "      <td>18</td>\n",
       "      <td>27,5</td>\n",
       "      <td>36,5</td>\n",
       "      <td>None</td>\n",
       "      <td>...</td>\n",
       "      <td>None</td>\n",
       "      <td>Cultura de clima tropical/subtropical</td>\n",
       "      <td>2.0</td>\n",
       "      <td>3.0</td>\n",
       "      <td>NaN</td>\n",
       "      <td>1.0</td>\n",
       "      <td>NaN</td>\n",
       "      <td>6.0</td>\n",
       "      <td>7.5</td>\n",
       "      <td>8.0</td>\n",
       "    </tr>\n",
       "  </tbody>\n",
       "</table>\n",
       "<p>5 rows × 25 columns</p>\n",
       "</div>"
      ],
      "text/plain": [
       "          cultura                                  nome_científico  \\\n",
       "0         Abóbora                                    Curcubita sp.   \n",
       "1          Banana  Musa acuminata × Musa balbisiana (AA–AAA, etc.)   \n",
       "2          Batata                                Solanum tuberosum   \n",
       "3     Batata-doce                                  Ipomoea batatas   \n",
       "4  Cana-de-açúcar                            Saccharum officinarum   \n",
       "\n",
       "          família            germinacao_Tmin germinacao_Totima  \\\n",
       "0   Curcubitaceae                        7,5              32,5   \n",
       "1        Musaceae  — (propagação vegetativa)                 —   \n",
       "2      Solanaceae                        3,5                19   \n",
       "3  Convolvulaceae                         15              27,5   \n",
       "4         Poaceae                         18                30   \n",
       "\n",
       "  germincacao_Tmáxima  vegetacao_Tmin vegetacao_Toptima vegetacao_Tmax  \\\n",
       "0                  38              10              22,5             32   \n",
       "1                   —              15                28             35   \n",
       "2                 NaN               7                20           32,5   \n",
       "3                  38              15              23,5             35   \n",
       "4                  38              18              27,5           36,5   \n",
       "\n",
       "  tolerancia_salinidade  ... necessidade_hidrica  \\\n",
       "0              moderada  ...            moderada   \n",
       "1              moderada  ...                None   \n",
       "2              moderada  ...            moderada   \n",
       "3              moderada  ...               baixa   \n",
       "4                  None  ...                None   \n",
       "\n",
       "                        notas_principais solo_pref_cat sol_fotoperiodo_cat  \\\n",
       "0      Não tolera geadas; gosta de calor           1.0                 3.0   \n",
       "1                Sensível ao vento forte           2.0                 3.0   \n",
       "2         Não gosta de solos encharcados           1.0                 NaN   \n",
       "3    Tolerante à seca, mas prefere calor           1.0                 3.0   \n",
       "4  Cultura de clima tropical/subtropical           2.0                 3.0   \n",
       "\n",
       "  necessidade_hidrica_num tolerancia_acidez_num tolerancia_salinidade_num  \\\n",
       "0                     2.0                   2.0                       2.0   \n",
       "1                     NaN                   2.0                       2.0   \n",
       "2                     2.0                   NaN                       2.0   \n",
       "3                     1.0                   2.0                       2.0   \n",
       "4                     NaN                   1.0                       NaN   \n",
       "\n",
       "   ph_min  ph_max  sol_min  \n",
       "0     6.0     6.8      6.0  \n",
       "1     5.5     7.5      8.0  \n",
       "2     5.5     6.0      6.0  \n",
       "3     5.5     6.5      6.0  \n",
       "4     6.0     7.5      8.0  \n",
       "\n",
       "[5 rows x 25 columns]"
      ]
     },
     "execution_count": 60,
     "metadata": {},
     "output_type": "execute_result"
    }
   ],
   "source": [
    "#drop coluna necessidade_hidrica_cat\n",
    "species_df = species_df.drop(columns=[\"necessidade_hidrica_cat\"]) \n",
    "species_df.head()"
   ]
  },
  {
   "cell_type": "code",
   "execution_count": 62,
   "id": "b80d6f0d",
   "metadata": {},
   "outputs": [],
   "source": [
    "for col in [\"vegetacao_Tmin\", \"vegetacao_Toptima\", \"vegetacao_Tmax\",\n",
    "            \"germinacao_Tmin\", \"germinacao_Totima\", \"germincacao_Tmáxima\",\n",
    "            \"ph_min\", \"ph_max\"]:\n",
    "    species_df[col] = (\n",
    "        species_df[col]\n",
    "        .astype(str)\n",
    "        .str.replace(\",\", \".\", regex=False)   # trocar vírgula por ponto\n",
    "        .apply(pd.to_numeric, errors=\"coerce\")\n",
    "    )"
   ]
  },
  {
   "cell_type": "code",
   "execution_count": 64,
   "id": "57e7cc2b",
   "metadata": {},
   "outputs": [
    {
     "data": {
      "text/html": [
       "<div>\n",
       "<style scoped>\n",
       "    .dataframe tbody tr th:only-of-type {\n",
       "        vertical-align: middle;\n",
       "    }\n",
       "\n",
       "    .dataframe tbody tr th {\n",
       "        vertical-align: top;\n",
       "    }\n",
       "\n",
       "    .dataframe thead th {\n",
       "        text-align: right;\n",
       "    }\n",
       "</style>\n",
       "<table border=\"1\" class=\"dataframe\">\n",
       "  <thead>\n",
       "    <tr style=\"text-align: right;\">\n",
       "      <th></th>\n",
       "      <th>cultura</th>\n",
       "      <th>nome_científico</th>\n",
       "      <th>família</th>\n",
       "      <th>germinacao_Tmin</th>\n",
       "      <th>germinacao_Totima</th>\n",
       "      <th>germincacao_Tmáxima</th>\n",
       "      <th>vegetacao_Tmin</th>\n",
       "      <th>vegetacao_Toptima</th>\n",
       "      <th>vegetacao_Tmax</th>\n",
       "      <th>tolerancia_salinidade</th>\n",
       "      <th>...</th>\n",
       "      <th>necessidade_hidrica</th>\n",
       "      <th>notas_principais</th>\n",
       "      <th>solo_pref_cat</th>\n",
       "      <th>sol_fotoperiodo_cat</th>\n",
       "      <th>necessidade_hidrica_num</th>\n",
       "      <th>tolerancia_acidez_num</th>\n",
       "      <th>tolerancia_salinidade_num</th>\n",
       "      <th>ph_min</th>\n",
       "      <th>ph_max</th>\n",
       "      <th>sol_min</th>\n",
       "    </tr>\n",
       "  </thead>\n",
       "  <tbody>\n",
       "    <tr>\n",
       "      <th>0</th>\n",
       "      <td>Abóbora</td>\n",
       "      <td>Curcubita sp.</td>\n",
       "      <td>Curcubitaceae</td>\n",
       "      <td>7.5</td>\n",
       "      <td>32.5</td>\n",
       "      <td>38.0</td>\n",
       "      <td>10</td>\n",
       "      <td>22.5</td>\n",
       "      <td>32.0</td>\n",
       "      <td>moderada</td>\n",
       "      <td>...</td>\n",
       "      <td>moderada</td>\n",
       "      <td>Não tolera geadas; gosta de calor</td>\n",
       "      <td>1.0</td>\n",
       "      <td>3.0</td>\n",
       "      <td>2.0</td>\n",
       "      <td>2.0</td>\n",
       "      <td>2.0</td>\n",
       "      <td>6.0</td>\n",
       "      <td>6.8</td>\n",
       "      <td>6.0</td>\n",
       "    </tr>\n",
       "    <tr>\n",
       "      <th>1</th>\n",
       "      <td>Banana</td>\n",
       "      <td>Musa acuminata × Musa balbisiana (AA–AAA, etc.)</td>\n",
       "      <td>Musaceae</td>\n",
       "      <td>NaN</td>\n",
       "      <td>NaN</td>\n",
       "      <td>NaN</td>\n",
       "      <td>15</td>\n",
       "      <td>28.0</td>\n",
       "      <td>35.0</td>\n",
       "      <td>moderada</td>\n",
       "      <td>...</td>\n",
       "      <td>None</td>\n",
       "      <td>Sensível ao vento forte</td>\n",
       "      <td>2.0</td>\n",
       "      <td>3.0</td>\n",
       "      <td>NaN</td>\n",
       "      <td>2.0</td>\n",
       "      <td>2.0</td>\n",
       "      <td>5.5</td>\n",
       "      <td>7.5</td>\n",
       "      <td>8.0</td>\n",
       "    </tr>\n",
       "    <tr>\n",
       "      <th>2</th>\n",
       "      <td>Batata</td>\n",
       "      <td>Solanum tuberosum</td>\n",
       "      <td>Solanaceae</td>\n",
       "      <td>3.5</td>\n",
       "      <td>19.0</td>\n",
       "      <td>NaN</td>\n",
       "      <td>7</td>\n",
       "      <td>20.0</td>\n",
       "      <td>32.5</td>\n",
       "      <td>moderada</td>\n",
       "      <td>...</td>\n",
       "      <td>moderada</td>\n",
       "      <td>Não gosta de solos encharcados</td>\n",
       "      <td>1.0</td>\n",
       "      <td>NaN</td>\n",
       "      <td>2.0</td>\n",
       "      <td>NaN</td>\n",
       "      <td>2.0</td>\n",
       "      <td>5.5</td>\n",
       "      <td>6.0</td>\n",
       "      <td>6.0</td>\n",
       "    </tr>\n",
       "    <tr>\n",
       "      <th>3</th>\n",
       "      <td>Batata-doce</td>\n",
       "      <td>Ipomoea batatas</td>\n",
       "      <td>Convolvulaceae</td>\n",
       "      <td>15.0</td>\n",
       "      <td>27.5</td>\n",
       "      <td>38.0</td>\n",
       "      <td>15</td>\n",
       "      <td>23.5</td>\n",
       "      <td>35.0</td>\n",
       "      <td>moderada</td>\n",
       "      <td>...</td>\n",
       "      <td>baixa</td>\n",
       "      <td>Tolerante à seca, mas prefere calor</td>\n",
       "      <td>1.0</td>\n",
       "      <td>3.0</td>\n",
       "      <td>1.0</td>\n",
       "      <td>2.0</td>\n",
       "      <td>2.0</td>\n",
       "      <td>5.5</td>\n",
       "      <td>6.5</td>\n",
       "      <td>6.0</td>\n",
       "    </tr>\n",
       "    <tr>\n",
       "      <th>4</th>\n",
       "      <td>Cana-de-açúcar</td>\n",
       "      <td>Saccharum officinarum</td>\n",
       "      <td>Poaceae</td>\n",
       "      <td>18.0</td>\n",
       "      <td>30.0</td>\n",
       "      <td>38.0</td>\n",
       "      <td>18</td>\n",
       "      <td>27.5</td>\n",
       "      <td>36.5</td>\n",
       "      <td>None</td>\n",
       "      <td>...</td>\n",
       "      <td>None</td>\n",
       "      <td>Cultura de clima tropical/subtropical</td>\n",
       "      <td>2.0</td>\n",
       "      <td>3.0</td>\n",
       "      <td>NaN</td>\n",
       "      <td>1.0</td>\n",
       "      <td>NaN</td>\n",
       "      <td>6.0</td>\n",
       "      <td>7.5</td>\n",
       "      <td>8.0</td>\n",
       "    </tr>\n",
       "  </tbody>\n",
       "</table>\n",
       "<p>5 rows × 25 columns</p>\n",
       "</div>"
      ],
      "text/plain": [
       "          cultura                                  nome_científico  \\\n",
       "0         Abóbora                                    Curcubita sp.   \n",
       "1          Banana  Musa acuminata × Musa balbisiana (AA–AAA, etc.)   \n",
       "2          Batata                                Solanum tuberosum   \n",
       "3     Batata-doce                                  Ipomoea batatas   \n",
       "4  Cana-de-açúcar                            Saccharum officinarum   \n",
       "\n",
       "          família  germinacao_Tmin  germinacao_Totima  germincacao_Tmáxima  \\\n",
       "0   Curcubitaceae              7.5               32.5                 38.0   \n",
       "1        Musaceae              NaN                NaN                  NaN   \n",
       "2      Solanaceae              3.5               19.0                  NaN   \n",
       "3  Convolvulaceae             15.0               27.5                 38.0   \n",
       "4         Poaceae             18.0               30.0                 38.0   \n",
       "\n",
       "   vegetacao_Tmin  vegetacao_Toptima  vegetacao_Tmax tolerancia_salinidade  \\\n",
       "0              10               22.5            32.0              moderada   \n",
       "1              15               28.0            35.0              moderada   \n",
       "2               7               20.0            32.5              moderada   \n",
       "3              15               23.5            35.0              moderada   \n",
       "4              18               27.5            36.5                  None   \n",
       "\n",
       "   ... necessidade_hidrica                       notas_principais  \\\n",
       "0  ...            moderada      Não tolera geadas; gosta de calor   \n",
       "1  ...                None                Sensível ao vento forte   \n",
       "2  ...            moderada         Não gosta de solos encharcados   \n",
       "3  ...               baixa    Tolerante à seca, mas prefere calor   \n",
       "4  ...                None  Cultura de clima tropical/subtropical   \n",
       "\n",
       "  solo_pref_cat sol_fotoperiodo_cat necessidade_hidrica_num  \\\n",
       "0           1.0                 3.0                     2.0   \n",
       "1           2.0                 3.0                     NaN   \n",
       "2           1.0                 NaN                     2.0   \n",
       "3           1.0                 3.0                     1.0   \n",
       "4           2.0                 3.0                     NaN   \n",
       "\n",
       "  tolerancia_acidez_num tolerancia_salinidade_num  ph_min  ph_max  sol_min  \n",
       "0                   2.0                       2.0     6.0     6.8      6.0  \n",
       "1                   2.0                       2.0     5.5     7.5      8.0  \n",
       "2                   NaN                       2.0     5.5     6.0      6.0  \n",
       "3                   2.0                       2.0     5.5     6.5      6.0  \n",
       "4                   1.0                       NaN     6.0     7.5      8.0  \n",
       "\n",
       "[5 rows x 25 columns]"
      ]
     },
     "execution_count": 64,
     "metadata": {},
     "output_type": "execute_result"
    }
   ],
   "source": [
    "species_df.head()"
   ]
  },
  {
   "cell_type": "code",
   "execution_count": 65,
   "id": "380be6c2",
   "metadata": {},
   "outputs": [],
   "source": [
    "clima = {\n",
    "    \"temp_media\": 19,  # (coloca o valor médio anual de temperatura se já o tiveres noutro dataset)\n",
    "    \"ph_solo\": 6,    # valor típico da Madeira, se não tiveres dataset\n",
    "    \"horas_sol_media\": df_clima_2024[\"número_horas_de_sol\"].mean(),\n",
    "    \"humidade_media\": df_clima_2024[\"humidade_relativa_média\"].mean()\n",
    "}\n",
    "\n",
    "# 3. Função de scoring\n",
    "def agro_score(row, clima):\n",
    "    score = 0\n",
    "    total = 0\n",
    "\n",
    "    # Temperatura\n",
    "    if pd.notna(row[\"vegetacao_Tmin\"]) and pd.notna(row[\"vegetacao_Tmax\"]):\n",
    "        total += 1\n",
    "        if row[\"vegetacao_Tmin\"] <= clima[\"temp_media\"] <= row[\"vegetacao_Tmax\"]:\n",
    "            score += 1\n",
    "\n",
    "    # pH\n",
    "    if pd.notna(row[\"ph_min\"]) and pd.notna(row[\"ph_max\"]):\n",
    "        total += 1\n",
    "        if row[\"ph_min\"] <= clima[\"ph_solo\"] <= row[\"ph_max\"]:\n",
    "            score += 1\n",
    "\n",
    "    # Horas de sol\n",
    "    if pd.notna(row[\"sol_min\"]):\n",
    "        total += 1\n",
    "        if clima[\"horas_sol_media\"] >= row[\"sol_min\"]:\n",
    "            score += 1\n",
    "\n",
    "    # Humidade vs necessidade hídrica\n",
    "    if isinstance(row[\"necessidade_hidrica\"], str):\n",
    "        total += 1\n",
    "        if row[\"necessidade_hidrica\"].lower().startswith(\"elevada\") and clima[\"humidade_media\"] > 65:\n",
    "            score += 1\n",
    "        elif row[\"necessidade_hidrica\"].lower().startswith(\"moderada\") and 55 <= clima[\"humidade_media\"] <= 70:\n",
    "            score += 1\n",
    "        elif row[\"necessidade_hidrica\"].lower().startswith(\"baixa\") and clima[\"humidade_media\"] < 55:\n",
    "            score += 1\n",
    "\n",
    "    return score / total if total > 0 else None\n",
    "\n",
    "# Aplicar\n",
    "species_df[\"score_agro\"] = species_df.apply(lambda row: agro_score(row, clima), axis=1)\n"
   ]
  },
  {
   "cell_type": "code",
   "execution_count": 66,
   "id": "e5807653",
   "metadata": {},
   "outputs": [
    {
     "data": {
      "text/html": [
       "<div>\n",
       "<style scoped>\n",
       "    .dataframe tbody tr th:only-of-type {\n",
       "        vertical-align: middle;\n",
       "    }\n",
       "\n",
       "    .dataframe tbody tr th {\n",
       "        vertical-align: top;\n",
       "    }\n",
       "\n",
       "    .dataframe thead th {\n",
       "        text-align: right;\n",
       "    }\n",
       "</style>\n",
       "<table border=\"1\" class=\"dataframe\">\n",
       "  <thead>\n",
       "    <tr style=\"text-align: right;\">\n",
       "      <th></th>\n",
       "      <th>cultura</th>\n",
       "      <th>nome_científico</th>\n",
       "      <th>família</th>\n",
       "      <th>germinacao_Tmin</th>\n",
       "      <th>germinacao_Totima</th>\n",
       "      <th>germincacao_Tmáxima</th>\n",
       "      <th>vegetacao_Tmin</th>\n",
       "      <th>vegetacao_Toptima</th>\n",
       "      <th>vegetacao_Tmax</th>\n",
       "      <th>tolerancia_salinidade</th>\n",
       "      <th>...</th>\n",
       "      <th>notas_principais</th>\n",
       "      <th>solo_pref_cat</th>\n",
       "      <th>sol_fotoperiodo_cat</th>\n",
       "      <th>necessidade_hidrica_num</th>\n",
       "      <th>tolerancia_acidez_num</th>\n",
       "      <th>tolerancia_salinidade_num</th>\n",
       "      <th>ph_min</th>\n",
       "      <th>ph_max</th>\n",
       "      <th>sol_min</th>\n",
       "      <th>score_agro</th>\n",
       "    </tr>\n",
       "  </thead>\n",
       "  <tbody>\n",
       "    <tr>\n",
       "      <th>0</th>\n",
       "      <td>Abóbora</td>\n",
       "      <td>Curcubita sp.</td>\n",
       "      <td>Curcubitaceae</td>\n",
       "      <td>7.5</td>\n",
       "      <td>32.5</td>\n",
       "      <td>38.0</td>\n",
       "      <td>10</td>\n",
       "      <td>22.5</td>\n",
       "      <td>32.0</td>\n",
       "      <td>moderada</td>\n",
       "      <td>...</td>\n",
       "      <td>Não tolera geadas; gosta de calor</td>\n",
       "      <td>1.0</td>\n",
       "      <td>3.0</td>\n",
       "      <td>2.0</td>\n",
       "      <td>2.0</td>\n",
       "      <td>2.0</td>\n",
       "      <td>6.0</td>\n",
       "      <td>6.8</td>\n",
       "      <td>6.0</td>\n",
       "      <td>1.00</td>\n",
       "    </tr>\n",
       "    <tr>\n",
       "      <th>1</th>\n",
       "      <td>Banana</td>\n",
       "      <td>Musa acuminata × Musa balbisiana (AA–AAA, etc.)</td>\n",
       "      <td>Musaceae</td>\n",
       "      <td>NaN</td>\n",
       "      <td>NaN</td>\n",
       "      <td>NaN</td>\n",
       "      <td>15</td>\n",
       "      <td>28.0</td>\n",
       "      <td>35.0</td>\n",
       "      <td>moderada</td>\n",
       "      <td>...</td>\n",
       "      <td>Sensível ao vento forte</td>\n",
       "      <td>2.0</td>\n",
       "      <td>3.0</td>\n",
       "      <td>NaN</td>\n",
       "      <td>2.0</td>\n",
       "      <td>2.0</td>\n",
       "      <td>5.5</td>\n",
       "      <td>7.5</td>\n",
       "      <td>8.0</td>\n",
       "      <td>1.00</td>\n",
       "    </tr>\n",
       "    <tr>\n",
       "      <th>2</th>\n",
       "      <td>Batata</td>\n",
       "      <td>Solanum tuberosum</td>\n",
       "      <td>Solanaceae</td>\n",
       "      <td>3.5</td>\n",
       "      <td>19.0</td>\n",
       "      <td>NaN</td>\n",
       "      <td>7</td>\n",
       "      <td>20.0</td>\n",
       "      <td>32.5</td>\n",
       "      <td>moderada</td>\n",
       "      <td>...</td>\n",
       "      <td>Não gosta de solos encharcados</td>\n",
       "      <td>1.0</td>\n",
       "      <td>NaN</td>\n",
       "      <td>2.0</td>\n",
       "      <td>NaN</td>\n",
       "      <td>2.0</td>\n",
       "      <td>5.5</td>\n",
       "      <td>6.0</td>\n",
       "      <td>6.0</td>\n",
       "      <td>1.00</td>\n",
       "    </tr>\n",
       "    <tr>\n",
       "      <th>3</th>\n",
       "      <td>Batata-doce</td>\n",
       "      <td>Ipomoea batatas</td>\n",
       "      <td>Convolvulaceae</td>\n",
       "      <td>15.0</td>\n",
       "      <td>27.5</td>\n",
       "      <td>38.0</td>\n",
       "      <td>15</td>\n",
       "      <td>23.5</td>\n",
       "      <td>35.0</td>\n",
       "      <td>moderada</td>\n",
       "      <td>...</td>\n",
       "      <td>Tolerante à seca, mas prefere calor</td>\n",
       "      <td>1.0</td>\n",
       "      <td>3.0</td>\n",
       "      <td>1.0</td>\n",
       "      <td>2.0</td>\n",
       "      <td>2.0</td>\n",
       "      <td>5.5</td>\n",
       "      <td>6.5</td>\n",
       "      <td>6.0</td>\n",
       "      <td>0.75</td>\n",
       "    </tr>\n",
       "    <tr>\n",
       "      <th>4</th>\n",
       "      <td>Cana-de-açúcar</td>\n",
       "      <td>Saccharum officinarum</td>\n",
       "      <td>Poaceae</td>\n",
       "      <td>18.0</td>\n",
       "      <td>30.0</td>\n",
       "      <td>38.0</td>\n",
       "      <td>18</td>\n",
       "      <td>27.5</td>\n",
       "      <td>36.5</td>\n",
       "      <td>None</td>\n",
       "      <td>...</td>\n",
       "      <td>Cultura de clima tropical/subtropical</td>\n",
       "      <td>2.0</td>\n",
       "      <td>3.0</td>\n",
       "      <td>NaN</td>\n",
       "      <td>1.0</td>\n",
       "      <td>NaN</td>\n",
       "      <td>6.0</td>\n",
       "      <td>7.5</td>\n",
       "      <td>8.0</td>\n",
       "      <td>1.00</td>\n",
       "    </tr>\n",
       "  </tbody>\n",
       "</table>\n",
       "<p>5 rows × 26 columns</p>\n",
       "</div>"
      ],
      "text/plain": [
       "          cultura                                  nome_científico  \\\n",
       "0         Abóbora                                    Curcubita sp.   \n",
       "1          Banana  Musa acuminata × Musa balbisiana (AA–AAA, etc.)   \n",
       "2          Batata                                Solanum tuberosum   \n",
       "3     Batata-doce                                  Ipomoea batatas   \n",
       "4  Cana-de-açúcar                            Saccharum officinarum   \n",
       "\n",
       "          família  germinacao_Tmin  germinacao_Totima  germincacao_Tmáxima  \\\n",
       "0   Curcubitaceae              7.5               32.5                 38.0   \n",
       "1        Musaceae              NaN                NaN                  NaN   \n",
       "2      Solanaceae              3.5               19.0                  NaN   \n",
       "3  Convolvulaceae             15.0               27.5                 38.0   \n",
       "4         Poaceae             18.0               30.0                 38.0   \n",
       "\n",
       "   vegetacao_Tmin  vegetacao_Toptima  vegetacao_Tmax tolerancia_salinidade  \\\n",
       "0              10               22.5            32.0              moderada   \n",
       "1              15               28.0            35.0              moderada   \n",
       "2               7               20.0            32.5              moderada   \n",
       "3              15               23.5            35.0              moderada   \n",
       "4              18               27.5            36.5                  None   \n",
       "\n",
       "   ...                       notas_principais solo_pref_cat  \\\n",
       "0  ...      Não tolera geadas; gosta de calor           1.0   \n",
       "1  ...                Sensível ao vento forte           2.0   \n",
       "2  ...         Não gosta de solos encharcados           1.0   \n",
       "3  ...    Tolerante à seca, mas prefere calor           1.0   \n",
       "4  ...  Cultura de clima tropical/subtropical           2.0   \n",
       "\n",
       "  sol_fotoperiodo_cat necessidade_hidrica_num tolerancia_acidez_num  \\\n",
       "0                 3.0                     2.0                   2.0   \n",
       "1                 3.0                     NaN                   2.0   \n",
       "2                 NaN                     2.0                   NaN   \n",
       "3                 3.0                     1.0                   2.0   \n",
       "4                 3.0                     NaN                   1.0   \n",
       "\n",
       "  tolerancia_salinidade_num ph_min  ph_max  sol_min  score_agro  \n",
       "0                       2.0    6.0     6.8      6.0        1.00  \n",
       "1                       2.0    5.5     7.5      8.0        1.00  \n",
       "2                       2.0    5.5     6.0      6.0        1.00  \n",
       "3                       2.0    5.5     6.5      6.0        0.75  \n",
       "4                       NaN    6.0     7.5      8.0        1.00  \n",
       "\n",
       "[5 rows x 26 columns]"
      ]
     },
     "execution_count": 66,
     "metadata": {},
     "output_type": "execute_result"
    }
   ],
   "source": [
    "species_df.head()"
   ]
  },
  {
   "cell_type": "code",
   "execution_count": 69,
   "id": "193c6fe7",
   "metadata": {},
   "outputs": [],
   "source": [
    "species_scored = species_df.copy()"
   ]
  },
  {
   "cell_type": "code",
   "execution_count": 70,
   "id": "2c7136c4",
   "metadata": {},
   "outputs": [],
   "source": [
    "species_scored.to_csv(r\"C:\\Users\\sofia\\Documents\\Data_Analytics_Ironhack\\Projects\\ironhack_final_project\\Worked_datasets\\species_scored.csv\", index=False)"
   ]
  },
  {
   "cell_type": "code",
   "execution_count": 67,
   "id": "dbb488e1",
   "metadata": {},
   "outputs": [
    {
     "name": "stdout",
     "output_type": "stream",
     "text": [
      "    cultura  score_agro\n",
      "0   Abóbora         1.0\n",
      "1    Banana         1.0\n",
      "24    Anona         1.0\n",
      "23  Abacate         1.0\n",
      "22    Limão         1.0\n",
      "                   cultura  score_agro\n",
      "26                  Inhame    1.000000\n",
      "9   Vinha (Vitis vinifera)    0.750000\n",
      "3              Batata-doce    0.750000\n",
      "25             Uva (Vitis)    0.750000\n",
      "6            Couve-repolho    0.666667\n"
     ]
    }
   ],
   "source": [
    "# Ordenar por score decrescente\n",
    "df_ranked = species_df.sort_values(\"score_agro\", ascending=False)\n",
    "\n",
    "# Top 5 mais compatíveis\n",
    "print(df_ranked[[\"cultura\", \"score_agro\"]].head(5))\n",
    "\n",
    "# Se quiseres também ver as menos compatíveis\n",
    "print(df_ranked[[\"cultura\", \"score_agro\"]].tail(5))\n"
   ]
  },
  {
   "cell_type": "code",
   "execution_count": 72,
   "id": "d615c756",
   "metadata": {},
   "outputs": [
    {
     "data": {
      "application/vnd.plotly.v1+json": {
       "config": {
        "plotlyServerURL": "https://plot.ly"
       },
       "data": [
        {
         "hovertemplate": "cultura=%{x}<br>Score de compatibilidade=%{text}<extra></extra>",
         "legendgroup": "",
         "marker": {
          "color": "#636efa",
          "pattern": {
           "shape": ""
          }
         },
         "name": "",
         "orientation": "v",
         "showlegend": false,
         "text": {
          "bdata": "AAAAAAAA8D8AAAAAAADwPwAAAAAAAPA/AAAAAAAA8D8AAAAAAADwPwAAAAAAAPA/AAAAAAAA8D8AAAAAAADwPwAAAAAAAPA/AAAAAAAA8D8=",
          "dtype": "f8"
         },
         "textposition": "outside",
         "texttemplate": "%{text:.2f}",
         "type": "bar",
         "x": [
          "Abóbora",
          "Banana",
          "Anona",
          "Abacate",
          "Limão",
          "Tangerina",
          "Cereja",
          "Maçã",
          "Pimpinela (Chuchu)",
          "Acelga"
         ],
         "xaxis": "x",
         "y": {
          "bdata": "AAAAAAAA8D8AAAAAAADwPwAAAAAAAPA/AAAAAAAA8D8AAAAAAADwPwAAAAAAAPA/AAAAAAAA8D8AAAAAAADwPwAAAAAAAPA/AAAAAAAA8D8=",
          "dtype": "f8"
         },
         "yaxis": "y"
        }
       ],
       "layout": {
        "barmode": "relative",
        "legend": {
         "tracegroupgap": 0
        },
        "template": {
         "data": {
          "bar": [
           {
            "error_x": {
             "color": "#2a3f5f"
            },
            "error_y": {
             "color": "#2a3f5f"
            },
            "marker": {
             "line": {
              "color": "white",
              "width": 0.5
             },
             "pattern": {
              "fillmode": "overlay",
              "size": 10,
              "solidity": 0.2
             }
            },
            "type": "bar"
           }
          ],
          "barpolar": [
           {
            "marker": {
             "line": {
              "color": "white",
              "width": 0.5
             },
             "pattern": {
              "fillmode": "overlay",
              "size": 10,
              "solidity": 0.2
             }
            },
            "type": "barpolar"
           }
          ],
          "carpet": [
           {
            "aaxis": {
             "endlinecolor": "#2a3f5f",
             "gridcolor": "#C8D4E3",
             "linecolor": "#C8D4E3",
             "minorgridcolor": "#C8D4E3",
             "startlinecolor": "#2a3f5f"
            },
            "baxis": {
             "endlinecolor": "#2a3f5f",
             "gridcolor": "#C8D4E3",
             "linecolor": "#C8D4E3",
             "minorgridcolor": "#C8D4E3",
             "startlinecolor": "#2a3f5f"
            },
            "type": "carpet"
           }
          ],
          "choropleth": [
           {
            "colorbar": {
             "outlinewidth": 0,
             "ticks": ""
            },
            "type": "choropleth"
           }
          ],
          "contour": [
           {
            "colorbar": {
             "outlinewidth": 0,
             "ticks": ""
            },
            "colorscale": [
             [
              0,
              "#0d0887"
             ],
             [
              0.1111111111111111,
              "#46039f"
             ],
             [
              0.2222222222222222,
              "#7201a8"
             ],
             [
              0.3333333333333333,
              "#9c179e"
             ],
             [
              0.4444444444444444,
              "#bd3786"
             ],
             [
              0.5555555555555556,
              "#d8576b"
             ],
             [
              0.6666666666666666,
              "#ed7953"
             ],
             [
              0.7777777777777778,
              "#fb9f3a"
             ],
             [
              0.8888888888888888,
              "#fdca26"
             ],
             [
              1,
              "#f0f921"
             ]
            ],
            "type": "contour"
           }
          ],
          "contourcarpet": [
           {
            "colorbar": {
             "outlinewidth": 0,
             "ticks": ""
            },
            "type": "contourcarpet"
           }
          ],
          "heatmap": [
           {
            "colorbar": {
             "outlinewidth": 0,
             "ticks": ""
            },
            "colorscale": [
             [
              0,
              "#0d0887"
             ],
             [
              0.1111111111111111,
              "#46039f"
             ],
             [
              0.2222222222222222,
              "#7201a8"
             ],
             [
              0.3333333333333333,
              "#9c179e"
             ],
             [
              0.4444444444444444,
              "#bd3786"
             ],
             [
              0.5555555555555556,
              "#d8576b"
             ],
             [
              0.6666666666666666,
              "#ed7953"
             ],
             [
              0.7777777777777778,
              "#fb9f3a"
             ],
             [
              0.8888888888888888,
              "#fdca26"
             ],
             [
              1,
              "#f0f921"
             ]
            ],
            "type": "heatmap"
           }
          ],
          "histogram": [
           {
            "marker": {
             "pattern": {
              "fillmode": "overlay",
              "size": 10,
              "solidity": 0.2
             }
            },
            "type": "histogram"
           }
          ],
          "histogram2d": [
           {
            "colorbar": {
             "outlinewidth": 0,
             "ticks": ""
            },
            "colorscale": [
             [
              0,
              "#0d0887"
             ],
             [
              0.1111111111111111,
              "#46039f"
             ],
             [
              0.2222222222222222,
              "#7201a8"
             ],
             [
              0.3333333333333333,
              "#9c179e"
             ],
             [
              0.4444444444444444,
              "#bd3786"
             ],
             [
              0.5555555555555556,
              "#d8576b"
             ],
             [
              0.6666666666666666,
              "#ed7953"
             ],
             [
              0.7777777777777778,
              "#fb9f3a"
             ],
             [
              0.8888888888888888,
              "#fdca26"
             ],
             [
              1,
              "#f0f921"
             ]
            ],
            "type": "histogram2d"
           }
          ],
          "histogram2dcontour": [
           {
            "colorbar": {
             "outlinewidth": 0,
             "ticks": ""
            },
            "colorscale": [
             [
              0,
              "#0d0887"
             ],
             [
              0.1111111111111111,
              "#46039f"
             ],
             [
              0.2222222222222222,
              "#7201a8"
             ],
             [
              0.3333333333333333,
              "#9c179e"
             ],
             [
              0.4444444444444444,
              "#bd3786"
             ],
             [
              0.5555555555555556,
              "#d8576b"
             ],
             [
              0.6666666666666666,
              "#ed7953"
             ],
             [
              0.7777777777777778,
              "#fb9f3a"
             ],
             [
              0.8888888888888888,
              "#fdca26"
             ],
             [
              1,
              "#f0f921"
             ]
            ],
            "type": "histogram2dcontour"
           }
          ],
          "mesh3d": [
           {
            "colorbar": {
             "outlinewidth": 0,
             "ticks": ""
            },
            "type": "mesh3d"
           }
          ],
          "parcoords": [
           {
            "line": {
             "colorbar": {
              "outlinewidth": 0,
              "ticks": ""
             }
            },
            "type": "parcoords"
           }
          ],
          "pie": [
           {
            "automargin": true,
            "type": "pie"
           }
          ],
          "scatter": [
           {
            "fillpattern": {
             "fillmode": "overlay",
             "size": 10,
             "solidity": 0.2
            },
            "type": "scatter"
           }
          ],
          "scatter3d": [
           {
            "line": {
             "colorbar": {
              "outlinewidth": 0,
              "ticks": ""
             }
            },
            "marker": {
             "colorbar": {
              "outlinewidth": 0,
              "ticks": ""
             }
            },
            "type": "scatter3d"
           }
          ],
          "scattercarpet": [
           {
            "marker": {
             "colorbar": {
              "outlinewidth": 0,
              "ticks": ""
             }
            },
            "type": "scattercarpet"
           }
          ],
          "scattergeo": [
           {
            "marker": {
             "colorbar": {
              "outlinewidth": 0,
              "ticks": ""
             }
            },
            "type": "scattergeo"
           }
          ],
          "scattergl": [
           {
            "marker": {
             "colorbar": {
              "outlinewidth": 0,
              "ticks": ""
             }
            },
            "type": "scattergl"
           }
          ],
          "scattermap": [
           {
            "marker": {
             "colorbar": {
              "outlinewidth": 0,
              "ticks": ""
             }
            },
            "type": "scattermap"
           }
          ],
          "scattermapbox": [
           {
            "marker": {
             "colorbar": {
              "outlinewidth": 0,
              "ticks": ""
             }
            },
            "type": "scattermapbox"
           }
          ],
          "scatterpolar": [
           {
            "marker": {
             "colorbar": {
              "outlinewidth": 0,
              "ticks": ""
             }
            },
            "type": "scatterpolar"
           }
          ],
          "scatterpolargl": [
           {
            "marker": {
             "colorbar": {
              "outlinewidth": 0,
              "ticks": ""
             }
            },
            "type": "scatterpolargl"
           }
          ],
          "scatterternary": [
           {
            "marker": {
             "colorbar": {
              "outlinewidth": 0,
              "ticks": ""
             }
            },
            "type": "scatterternary"
           }
          ],
          "surface": [
           {
            "colorbar": {
             "outlinewidth": 0,
             "ticks": ""
            },
            "colorscale": [
             [
              0,
              "#0d0887"
             ],
             [
              0.1111111111111111,
              "#46039f"
             ],
             [
              0.2222222222222222,
              "#7201a8"
             ],
             [
              0.3333333333333333,
              "#9c179e"
             ],
             [
              0.4444444444444444,
              "#bd3786"
             ],
             [
              0.5555555555555556,
              "#d8576b"
             ],
             [
              0.6666666666666666,
              "#ed7953"
             ],
             [
              0.7777777777777778,
              "#fb9f3a"
             ],
             [
              0.8888888888888888,
              "#fdca26"
             ],
             [
              1,
              "#f0f921"
             ]
            ],
            "type": "surface"
           }
          ],
          "table": [
           {
            "cells": {
             "fill": {
              "color": "#EBF0F8"
             },
             "line": {
              "color": "white"
             }
            },
            "header": {
             "fill": {
              "color": "#C8D4E3"
             },
             "line": {
              "color": "white"
             }
            },
            "type": "table"
           }
          ]
         },
         "layout": {
          "annotationdefaults": {
           "arrowcolor": "#2a3f5f",
           "arrowhead": 0,
           "arrowwidth": 1
          },
          "autotypenumbers": "strict",
          "coloraxis": {
           "colorbar": {
            "outlinewidth": 0,
            "ticks": ""
           }
          },
          "colorscale": {
           "diverging": [
            [
             0,
             "#8e0152"
            ],
            [
             0.1,
             "#c51b7d"
            ],
            [
             0.2,
             "#de77ae"
            ],
            [
             0.3,
             "#f1b6da"
            ],
            [
             0.4,
             "#fde0ef"
            ],
            [
             0.5,
             "#f7f7f7"
            ],
            [
             0.6,
             "#e6f5d0"
            ],
            [
             0.7,
             "#b8e186"
            ],
            [
             0.8,
             "#7fbc41"
            ],
            [
             0.9,
             "#4d9221"
            ],
            [
             1,
             "#276419"
            ]
           ],
           "sequential": [
            [
             0,
             "#0d0887"
            ],
            [
             0.1111111111111111,
             "#46039f"
            ],
            [
             0.2222222222222222,
             "#7201a8"
            ],
            [
             0.3333333333333333,
             "#9c179e"
            ],
            [
             0.4444444444444444,
             "#bd3786"
            ],
            [
             0.5555555555555556,
             "#d8576b"
            ],
            [
             0.6666666666666666,
             "#ed7953"
            ],
            [
             0.7777777777777778,
             "#fb9f3a"
            ],
            [
             0.8888888888888888,
             "#fdca26"
            ],
            [
             1,
             "#f0f921"
            ]
           ],
           "sequentialminus": [
            [
             0,
             "#0d0887"
            ],
            [
             0.1111111111111111,
             "#46039f"
            ],
            [
             0.2222222222222222,
             "#7201a8"
            ],
            [
             0.3333333333333333,
             "#9c179e"
            ],
            [
             0.4444444444444444,
             "#bd3786"
            ],
            [
             0.5555555555555556,
             "#d8576b"
            ],
            [
             0.6666666666666666,
             "#ed7953"
            ],
            [
             0.7777777777777778,
             "#fb9f3a"
            ],
            [
             0.8888888888888888,
             "#fdca26"
            ],
            [
             1,
             "#f0f921"
            ]
           ]
          },
          "colorway": [
           "#636efa",
           "#EF553B",
           "#00cc96",
           "#ab63fa",
           "#FFA15A",
           "#19d3f3",
           "#FF6692",
           "#B6E880",
           "#FF97FF",
           "#FECB52"
          ],
          "font": {
           "color": "#2a3f5f"
          },
          "geo": {
           "bgcolor": "white",
           "lakecolor": "white",
           "landcolor": "white",
           "showlakes": true,
           "showland": true,
           "subunitcolor": "#C8D4E3"
          },
          "hoverlabel": {
           "align": "left"
          },
          "hovermode": "closest",
          "mapbox": {
           "style": "light"
          },
          "paper_bgcolor": "white",
          "plot_bgcolor": "white",
          "polar": {
           "angularaxis": {
            "gridcolor": "#EBF0F8",
            "linecolor": "#EBF0F8",
            "ticks": ""
           },
           "bgcolor": "white",
           "radialaxis": {
            "gridcolor": "#EBF0F8",
            "linecolor": "#EBF0F8",
            "ticks": ""
           }
          },
          "scene": {
           "xaxis": {
            "backgroundcolor": "white",
            "gridcolor": "#DFE8F3",
            "gridwidth": 2,
            "linecolor": "#EBF0F8",
            "showbackground": true,
            "ticks": "",
            "zerolinecolor": "#EBF0F8"
           },
           "yaxis": {
            "backgroundcolor": "white",
            "gridcolor": "#DFE8F3",
            "gridwidth": 2,
            "linecolor": "#EBF0F8",
            "showbackground": true,
            "ticks": "",
            "zerolinecolor": "#EBF0F8"
           },
           "zaxis": {
            "backgroundcolor": "white",
            "gridcolor": "#DFE8F3",
            "gridwidth": 2,
            "linecolor": "#EBF0F8",
            "showbackground": true,
            "ticks": "",
            "zerolinecolor": "#EBF0F8"
           }
          },
          "shapedefaults": {
           "line": {
            "color": "#2a3f5f"
           }
          },
          "ternary": {
           "aaxis": {
            "gridcolor": "#DFE8F3",
            "linecolor": "#A2B1C6",
            "ticks": ""
           },
           "baxis": {
            "gridcolor": "#DFE8F3",
            "linecolor": "#A2B1C6",
            "ticks": ""
           },
           "bgcolor": "white",
           "caxis": {
            "gridcolor": "#DFE8F3",
            "linecolor": "#A2B1C6",
            "ticks": ""
           }
          },
          "title": {
           "x": 0.05
          },
          "xaxis": {
           "automargin": true,
           "gridcolor": "#EBF0F8",
           "linecolor": "#EBF0F8",
           "ticks": "",
           "title": {
            "standoff": 15
           },
           "zerolinecolor": "#EBF0F8",
           "zerolinewidth": 2
          },
          "yaxis": {
           "automargin": true,
           "gridcolor": "#EBF0F8",
           "linecolor": "#EBF0F8",
           "ticks": "",
           "title": {
            "standoff": 15
           },
           "zerolinecolor": "#EBF0F8",
           "zerolinewidth": 2
          }
         }
        },
        "title": {
         "text": "Top 10 crops compatible with Madeira's climate"
        },
        "xaxis": {
         "anchor": "y",
         "domain": [
          0,
          1
         ],
         "title": {
          "text": "cultura"
         }
        },
        "yaxis": {
         "anchor": "x",
         "domain": [
          0,
          1
         ],
         "range": [
          0,
          1
         ],
         "title": {
          "text": "Score de compatibilidade"
         }
        }
       }
      }
     },
     "metadata": {},
     "output_type": "display_data"
    }
   ],
   "source": [
    "import plotly.express as px\n",
    "\n",
    "fig = px.bar(\n",
    "    df_ranked.head(10),\n",
    "    x=\"cultura\",\n",
    "    y=\"score_agro\",\n",
    "    title=\"Top 10 crops compatible with Madeira's climate\",\n",
    "    labels={\"score_agro\": \"Score de compatibilidade\"},\n",
    "    text=\"score_agro\"\n",
    ")\n",
    "\n",
    "fig.update_traces(texttemplate=\"%{text:.2f}\", textposition=\"outside\")\n",
    "fig.update_layout(yaxis=dict(range=[0,1]), template=\"plotly_white\")\n",
    "fig.show()\n"
   ]
  }
 ],
 "metadata": {
  "kernelspec": {
   "display_name": "Sofia",
   "language": "python",
   "name": "python3"
  },
  "language_info": {
   "codemirror_mode": {
    "name": "ipython",
    "version": 3
   },
   "file_extension": ".py",
   "mimetype": "text/x-python",
   "name": "python",
   "nbconvert_exporter": "python",
   "pygments_lexer": "ipython3",
   "version": "3.12.9"
  }
 },
 "nbformat": 4,
 "nbformat_minor": 5
}
