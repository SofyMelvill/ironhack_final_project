{
 "cells": [
  {
   "cell_type": "code",
   "execution_count": 13,
   "id": "042ce0bc",
   "metadata": {},
   "outputs": [
    {
     "name": "stdout",
     "output_type": "stream",
     "text": [
      "F.1.1 - Investment in agricultural holdings\n",
      "F.1.2 - Installation of young farmers\n",
      "F.1.3 - Processing and marketing of agricultural products\n",
      "F.1.4 - Investment in collective irrigation\n",
      "F.1.5 - Access to agricultural holdings\n",
      "F.1.6 - Restoration of agricultural production potential\n",
      "F.1.7 - Non-productive investments\n",
      "F.4.1 - Young farmer installation premium\n",
      "F.5.1 - Crop, animal, and plant insurance premium\n"
     ]
    }
   ],
   "source": [
    "import json\n",
    "\n",
    "# Load the JSON\n",
    "with open(\"pepac.json\", \"r\", encoding=\"utf-8\") as f:\n",
    "    pepac = json.load(f)\n",
    "\n",
    "# Just to check it works\n",
    "for code, info in pepac.items():\n",
    "    print(code, \"-\", info[\"name\"])\n"
   ]
  },
  {
   "cell_type": "code",
   "execution_count": 14,
   "id": "2ea7d18e",
   "metadata": {},
   "outputs": [],
   "source": [
    "def recommend_line(age, start, modernize, transform, collective,\n",
    "                   access, calamity, landscape, insurance, pepac):\n",
    "    \"\"\"\n",
    "    Decide which funding line is most appropriate.\n",
    "    \"\"\"\n",
    "    if age < 40 and start:\n",
    "        return \"F.4.1\", pepac[\"F.4.1\"]\n",
    "    elif age < 40 and not start:\n",
    "        return \"F.1.2\", pepac[\"F.1.2\"]\n",
    "    elif modernize:\n",
    "        return \"F.1.1\", pepac[\"F.1.1\"]\n",
    "    elif transform:\n",
    "        return \"F.1.3\", pepac[\"F.1.3\"]\n",
    "    elif collective:\n",
    "        return \"F.1.4\", pepac[\"F.1.4\"]\n",
    "    elif access:\n",
    "        return \"F.1.5\", pepac[\"F.1.5\"]\n",
    "    elif calamity:\n",
    "        return \"F.1.6\", pepac[\"F.1.6\"]\n",
    "    elif landscape:\n",
    "        return \"F.1.7\", pepac[\"F.1.7\"]\n",
    "    elif insurance:\n",
    "        return \"F.5.1\", pepac[\"F.5.1\"]\n",
    "    else:\n",
    "        return None, {\"name\": \"Not applicable\", \"objective\": \"No clear line\"}\n"
   ]
  },
  {
   "cell_type": "code",
   "execution_count": 15,
   "id": "b9961217",
   "metadata": {},
   "outputs": [
    {
     "name": "stdout",
     "output_type": "stream",
     "text": [
      "Recommended line: F.4.1 - Young farmer installation premium\n",
      "Objective: Provide financial support to young farmers setting up for the first time.\n",
      "Support: Non-repayable premium; amount depends on farm size and farmer status\n"
     ]
    }
   ],
   "source": [
    "# Example: 25-year-old farmer starting a new holding\n",
    "code, line = recommend_line(\n",
    "    age=25,\n",
    "    start=True,\n",
    "    modernize=False,\n",
    "    transform=False,\n",
    "    collective=False,\n",
    "    access=False,\n",
    "    calamity=False,\n",
    "    landscape=False,\n",
    "    insurance=False,\n",
    "    pepac=pepac\n",
    ")\n",
    "\n",
    "print(\"Recommended line:\", code, \"-\", line[\"name\"])\n",
    "print(\"Objective:\", line[\"objective\"])\n",
    "print(\"Support:\", line[\"support\"])\n",
    "\n"
   ]
  },
  {
   "cell_type": "code",
   "execution_count": 16,
   "id": "3900458d",
   "metadata": {},
   "outputs": [],
   "source": [
    "def recommend_lines(age, start, modernize, transform, collective,\n",
    "                    access, calamity, landscape, insurance, pepac):\n",
    "    \"\"\"\n",
    "    Returns a list of all applicable funding lines.\n",
    "    \"\"\"\n",
    "    results = []\n",
    "\n",
    "    if age < 40 and start:\n",
    "        results.append((\"F.4.1\", pepac[\"F.4.1\"]))\n",
    "    if age < 40 and not start:\n",
    "        results.append((\"F.1.2\", pepac[\"F.1.2\"]))\n",
    "    if modernize:\n",
    "        results.append((\"F.1.1\", pepac[\"F.1.1\"]))\n",
    "    if transform:\n",
    "        results.append((\"F.1.3\", pepac[\"F.1.3\"]))\n",
    "    if collective:\n",
    "        results.append((\"F.1.4\", pepac[\"F.1.4\"]))\n",
    "    if access:\n",
    "        results.append((\"F.1.5\", pepac[\"F.1.5\"]))\n",
    "    if calamity:\n",
    "        results.append((\"F.1.6\", pepac[\"F.1.6\"]))\n",
    "    if landscape:\n",
    "        results.append((\"F.1.7\", pepac[\"F.1.7\"]))\n",
    "    if insurance:\n",
    "        results.append((\"F.5.1\", pepac[\"F.5.1\"]))\n",
    "\n",
    "    if not results:\n",
    "        results.append((None, {\"name\": \"Not applicable\", \"objective\": \"No clear line\"}))\n",
    "\n",
    "    return results\n"
   ]
  },
  {
   "cell_type": "code",
   "execution_count": 17,
   "id": "0e56aff7",
   "metadata": {},
   "outputs": [
    {
     "name": "stdout",
     "output_type": "stream",
     "text": [
      "Applicable funding lines:\n",
      "- F.4.1 : Young farmer installation premium\n",
      "  Objective: Provide financial support to young farmers setting up for the first time.\n",
      "  Support: Non-repayable premium; amount depends on farm size and farmer status\n",
      "\n",
      "- F.1.1 : Investment in agricultural holdings\n",
      "  Objective: Modernize, improve performance, production, sustainability, innovation.\n",
      "  Support: Small: up to 70-80%; Medium: up to 60-80%; Large: up to 50-80%; possible bonuses\n",
      "\n",
      "- F.5.1 : Crop, animal, and plant insurance premium\n",
      "  Objective: Reduce climate risks, diseases, and pests through insurance.\n",
      "  Support: Co-financing of insurance premium (percentage legally defined)\n",
      "\n"
     ]
    }
   ],
   "source": [
    "# Example: a 25-year-old farmer starting a holding and also wants to modernize\n",
    "lines = recommend_lines(\n",
    "    age=25,\n",
    "    start=True,\n",
    "    modernize=True,\n",
    "    transform=False,\n",
    "    collective=False,\n",
    "    access=False,\n",
    "    calamity=False,\n",
    "    landscape=False,\n",
    "    insurance=True,\n",
    "    pepac=pepac\n",
    ")\n",
    "\n",
    "print(\"Applicable funding lines:\")\n",
    "for code, line in lines:\n",
    "    print(\"-\", code, \":\", line[\"name\"])\n",
    "    print(\"  Objective:\", line[\"objective\"])\n",
    "    print(\"  Support:\", line.get(\"support\", \"N/A\"))\n",
    "    print()\n"
   ]
  }
 ],
 "metadata": {
  "kernelspec": {
   "display_name": "Sofia",
   "language": "python",
   "name": "python3"
  },
  "language_info": {
   "codemirror_mode": {
    "name": "ipython",
    "version": 3
   },
   "file_extension": ".py",
   "mimetype": "text/x-python",
   "name": "python",
   "nbconvert_exporter": "python",
   "pygments_lexer": "ipython3",
   "version": "3.12.9"
  }
 },
 "nbformat": 4,
 "nbformat_minor": 5
}
