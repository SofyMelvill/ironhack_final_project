{
 "cells": [
  {
   "cell_type": "code",
   "execution_count": 1,
   "id": "fa1e7d83",
   "metadata": {},
   "outputs": [],
   "source": [
    "import pandas as pd"
   ]
  },
  {
   "cell_type": "code",
   "execution_count": 2,
   "id": "6e560d00",
   "metadata": {},
   "outputs": [
    {
     "name": "stdout",
     "output_type": "stream",
     "text": [
      "Categoria  Cultura   Ano  Superfície     Produção\n",
      "0          Abacate  2019      50.394   415.368722\n",
      "1          Abacate  2020      50.394   461.783317\n",
      "2          Abacate  2021      50.394   490.101632\n",
      "3          Abóbora  2019      77.000  1548.407995\n",
      "4          Abóbora  2020      76.760  1929.477235\n"
     ]
    },
    {
     "name": "stderr",
     "output_type": "stream",
     "text": [
      "C:\\Users\\sofia\\AppData\\Local\\Temp\\ipykernel_22684\\2759877672.py:41: FutureWarning: Downcasting object dtype arrays on .fillna, .ffill, .bfill is deprecated and will change in a future version. Call result.infer_objects(copy=False) instead. To opt-in to the future behavior, set `pd.set_option('future.no_silent_downcasting', True)`\n",
      "  yr_vals = yr_vals.where(yr_vals.notna()).ffill(axis=0)\n"
     ]
    }
   ],
   "source": [
    "import numpy as np\n",
    "import re\n",
    "\n",
    "def load_madeira_2019_2021(file_path, sheet_name=0, valid_years=(2019, 2020, 2021)):\n",
    "    # 1) Ler cru, sem headers (para não herdar lixo)\n",
    "    raw = pd.read_excel(file_path, sheet_name=sheet_name, header=None)\n",
    "\n",
    "    # 2) Encontrar a linha onde começa a tabela (onde aparece \"Culturas\")\n",
    "    col0 = raw.iloc[:, 0].astype(str).str.strip()\n",
    "    idx_candidates = col0[col0.str.contains(\"Culturas\", case=False, na=False)].index.tolist()\n",
    "    if not idx_candidates:\n",
    "        raise ValueError(\"Não encontrei a linha com 'Culturas' na 1ª coluna.\")\n",
    "    idx_cult = idx_candidates[0]\n",
    "\n",
    "    # 3) Encontrar a linha dos anos (2020/2021/2022) nos próximos ~8 rows\n",
    "    yr_pat = \"|\".join(str(y) for y in valid_years)\n",
    "    years_row = None\n",
    "    for i in range(idx_cult, min(idx_cult + 8, len(raw))):\n",
    "        row_str = raw.iloc[i].astype(str)\n",
    "        if row_str.str.contains(yr_pat).any():\n",
    "            years_row = i\n",
    "            break\n",
    "    if years_row is None:\n",
    "        # fallback: qualquer 4 dígitos\n",
    "        for i in range(idx_cult, min(idx_cult + 8, len(raw))):\n",
    "            row_str = raw.iloc[i].astype(str)\n",
    "            if row_str.str.contains(r\"\\b\\d{4}\\b\", regex=True).any():\n",
    "                years_row = i\n",
    "                break\n",
    "    if years_row is None:\n",
    "        raise ValueError(\"Não encontrei a linha com anos (2020–2022).\")\n",
    "\n",
    "    # 4) A linha de categorias (Superfície/Produção) deve estar logo acima dos anos\n",
    "    cat_row = max(idx_cult, years_row - 1)\n",
    "\n",
    "    # 5) Construir nomes de colunas a partir de 2 linhas (categoria + ano), fazendo forward-fill\n",
    "    cat_vals = raw.iloc[cat_row].copy()\n",
    "    cat_vals = cat_vals.where(cat_vals.notna()).ffill(axis=0)\n",
    "\n",
    "    yr_vals = raw.iloc[years_row].copy()\n",
    "    yr_vals = yr_vals.where(yr_vals.notna()).ffill(axis=0)\n",
    "\n",
    "    cols = []\n",
    "    for j in range(raw.shape[1]):\n",
    "        if j == 0:\n",
    "            cols.append(\"Cultura\")\n",
    "        else:\n",
    "            a = str(cat_vals.iloc[j]).strip()\n",
    "            b = str(yr_vals.iloc[j]).strip()\n",
    "            # limpar “ha”, “t”, textos soltos; ficar só com o ano se existir\n",
    "            b_year = re.search(r\"(\\d{4})\", b)\n",
    "            b = b_year.group(1) if b_year else b\n",
    "            # normalizar nomes base\n",
    "            a = (a.replace(\"\\n\", \" \")\n",
    "                   .replace(\"Superfície\", \"Superfície\")\n",
    "                   .replace(\"Produção\", \"Produção\")).strip()\n",
    "            name = f\"{a}_{b}\" if (a and b and a.lower() != \"nan\" and b.lower() != \"nan\") else (a or b or f\"col{j}\")\n",
    "            cols.append(name)\n",
    "\n",
    "    # 6) Cortar os dados a partir da linha IMEDIATAMENTE abaixo dos anos\n",
    "    data = raw.iloc[years_row + 1:].reset_index(drop=True)\n",
    "    data.columns = cols\n",
    "\n",
    "    # 7) Limpar linhas lixo (títulos de secção, vazios, etc.)\n",
    "    # manter só linhas com Cultura não nula e que não contenham palavras de cabeçalho\n",
    "    data = data[~data[\"Cultura\"].isna()]\n",
    "    data[\"Cultura\"] = data[\"Cultura\"].astype(str).str.strip()\n",
    "    data = data[~data[\"Cultura\"].str.contains(r\"^Anos$|Culturas\", case=False, na=False)]\n",
    "    # remover linhas totalmente vazias nas colunas de valores\n",
    "    value_cols = [c for c in data.columns if c != \"Cultura\"]\n",
    "    data = data.dropna(how=\"all\", subset=value_cols)\n",
    "\n",
    "    # 8) Manter só colunas úteis (Superfície/Produção para 2020–2022)\n",
    "    wanted = [\"Cultura\"]\n",
    "    for y in valid_years:\n",
    "        wanted += [f\"Superfície_{y}\", f\"Produção_{y}\"]\n",
    "    # se os nomes vieram ligeiramente diferentes, deixamos em aberto e filtramos por regex\n",
    "    keep_regex = re.compile(r\"^(Superfície|Produção)_(?:%s)$\" % \"|\".join(map(str, valid_years)))\n",
    "    dyn_keep = [\"Cultura\"] + [c for c in data.columns if keep_regex.match(c)]\n",
    "    # preferir os exatos; se não houver, usar os dinâmicos\n",
    "    keep = [c for c in wanted if c in data.columns]\n",
    "    if len(keep) < 2:\n",
    "        keep = dyn_keep\n",
    "    data = data[keep].copy()\n",
    "\n",
    "    # 9) Passar para formato longo e extrair Ano/Categoria\n",
    "    long_df_2019_2021 = data.melt(id_vars=\"Cultura\", var_name=\"Categoria_Ano\", value_name=\"Valor\")\n",
    "    long_df_2019_2021[\"Ano\"] = long_df_2019_2021[\"Categoria_Ano\"].str.extract(r\"(\\d{4})\").astype(float)\n",
    "    long_df_2019_2021 = long_df_2019_2021.dropna(subset=[\"Ano\"])\n",
    "    long_df_2019_2021[\"Ano\"] = long_df_2019_2021[\"Ano\"].astype(int)\n",
    "    long_df_2019_2021[\"Categoria\"] = long_df_2019_2021[\"Categoria_Ano\"].str.extract(r\"^(Superfície|Produção)\")\n",
    "\n",
    "    # 10) Converter Valor para numérico e limpar\n",
    "    long_df_2019_2021[\"Valor\"] = pd.to_numeric(long_df_2019_2021[\"Valor\"], errors=\"coerce\")\n",
    "    long_df_2019_2021 = long_df_2019_2021.dropna(subset=[\"Valor\"])\n",
    "    long_df_2019_2021 = long_df_2019_2021[long_df_2019_2021[\"Ano\"].isin(valid_years)]\n",
    "    long_df_2019_2021[\"Cultura\"] = long_df_2019_2021[\"Cultura\"].str.strip()\n",
    "\n",
    "    # 11) Pivot final: Cultura | Ano | Produção | Superfície\n",
    "    clean = long_df_2019_2021.pivot_table(\n",
    "        index=[\"Cultura\", \"Ano\"],\n",
    "        columns=\"Categoria\",\n",
    "        values=\"Valor\",\n",
    "        aggfunc=\"first\"\n",
    "    ).reset_index()\n",
    "\n",
    "    # garantir colunas presentes\n",
    "    for col in [\"Superfície\", \"Produção\"]:\n",
    "        if col not in clean.columns:\n",
    "            clean[col] = np.nan\n",
    "\n",
    "    # ordenar e devolver\n",
    "    clean = clean[[\"Cultura\", \"Ano\", \"Superfície\", \"Produção\"]].sort_values([\"Cultura\", \"Ano\"])\n",
    "    return clean\n",
    "\n",
    "# === USO ===\n",
    "df_2019_2021 = load_madeira_2019_2021(r\"C:\\Users\\sofia\\Documents\\Data_Analytics_Ironhack\\Projects\\ironhack_final_project\\Datasets\\Prices_data\\prod_madeira_2019-2021.xlsx\")\n",
    "print(df_2019_2021.head())\n"
   ]
  },
  {
   "cell_type": "code",
   "execution_count": 3,
   "id": "cda25ac0",
   "metadata": {},
   "outputs": [],
   "source": [
    "df_2019_2021.to_csv(r\"C:\\Users\\sofia\\Documents\\Data_Analytics_Ironhack\\Projects\\ironhack_final_project\\worked_datasets\\prod_madeira_2019_2021.csv\", index=False)"
   ]
  },
  {
   "cell_type": "code",
   "execution_count": 4,
   "id": "058ef6b0",
   "metadata": {},
   "outputs": [
    {
     "name": "stdout",
     "output_type": "stream",
     "text": [
      "Categoria  Cultura   Ano  Superfície  Produção\n",
      "0          Abacate  2020          50       462\n",
      "1          Abacate  2021          50       490\n",
      "2          Abacate  2022          51       498\n",
      "3          Abóbora  2020          77      1929\n",
      "4          Abóbora  2021          77      1891\n"
     ]
    },
    {
     "name": "stderr",
     "output_type": "stream",
     "text": [
      "C:\\Users\\sofia\\AppData\\Local\\Temp\\ipykernel_22684\\2603096848.py:42: FutureWarning: Downcasting object dtype arrays on .fillna, .ffill, .bfill is deprecated and will change in a future version. Call result.infer_objects(copy=False) instead. To opt-in to the future behavior, set `pd.set_option('future.no_silent_downcasting', True)`\n",
      "  yr_vals = yr_vals.where(yr_vals.notna()).ffill(axis=0)\n"
     ]
    }
   ],
   "source": [
    "import pandas as pd\n",
    "import numpy as np\n",
    "import re\n",
    "\n",
    "def load_madeira_2020_2022(file_path, sheet_name=0, valid_years=(2020, 2021, 2022)):\n",
    "    # 1) Ler cru, sem headers (para não herdar lixo)\n",
    "    raw = pd.read_excel(file_path, sheet_name=sheet_name, header=None)\n",
    "\n",
    "    # 2) Encontrar a linha onde começa a tabela (onde aparece \"Culturas\")\n",
    "    col0 = raw.iloc[:, 0].astype(str).str.strip()\n",
    "    idx_candidates = col0[col0.str.contains(\"Culturas\", case=False, na=False)].index.tolist()\n",
    "    if not idx_candidates:\n",
    "        raise ValueError(\"Não encontrei a linha com 'Culturas' na 1ª coluna.\")\n",
    "    idx_cult = idx_candidates[0]\n",
    "\n",
    "    # 3) Encontrar a linha dos anos (2020/2021/2022) nos próximos ~8 rows\n",
    "    yr_pat = \"|\".join(str(y) for y in valid_years)\n",
    "    years_row = None\n",
    "    for i in range(idx_cult, min(idx_cult + 8, len(raw))):\n",
    "        row_str = raw.iloc[i].astype(str)\n",
    "        if row_str.str.contains(yr_pat).any():\n",
    "            years_row = i\n",
    "            break\n",
    "    if years_row is None:\n",
    "        # fallback: qualquer 4 dígitos\n",
    "        for i in range(idx_cult, min(idx_cult + 8, len(raw))):\n",
    "            row_str = raw.iloc[i].astype(str)\n",
    "            if row_str.str.contains(r\"\\b\\d{4}\\b\", regex=True).any():\n",
    "                years_row = i\n",
    "                break\n",
    "    if years_row is None:\n",
    "        raise ValueError(\"Não encontrei a linha com anos (2020–2022).\")\n",
    "\n",
    "    # 4) A linha de categorias (Superfície/Produção) deve estar logo acima dos anos\n",
    "    cat_row = max(idx_cult, years_row - 1)\n",
    "\n",
    "    # 5) Construir nomes de colunas a partir de 2 linhas (categoria + ano), fazendo forward-fill\n",
    "    cat_vals = raw.iloc[cat_row].copy()\n",
    "    cat_vals = cat_vals.where(cat_vals.notna()).ffill(axis=0)\n",
    "\n",
    "    yr_vals = raw.iloc[years_row].copy()\n",
    "    yr_vals = yr_vals.where(yr_vals.notna()).ffill(axis=0)\n",
    "\n",
    "    cols = []\n",
    "    for j in range(raw.shape[1]):\n",
    "        if j == 0:\n",
    "            cols.append(\"Cultura\")\n",
    "        else:\n",
    "            a = str(cat_vals.iloc[j]).strip()\n",
    "            b = str(yr_vals.iloc[j]).strip()\n",
    "            # limpar “ha”, “t”, textos soltos; ficar só com o ano se existir\n",
    "            b_year = re.search(r\"(\\d{4})\", b)\n",
    "            b = b_year.group(1) if b_year else b\n",
    "            # normalizar nomes base\n",
    "            a = (a.replace(\"\\n\", \" \")\n",
    "                   .replace(\"Superfície\", \"Superfície\")\n",
    "                   .replace(\"Produção\", \"Produção\")).strip()\n",
    "            name = f\"{a}_{b}\" if (a and b and a.lower() != \"nan\" and b.lower() != \"nan\") else (a or b or f\"col{j}\")\n",
    "            cols.append(name)\n",
    "\n",
    "    # 6) Cortar os dados a partir da linha IMEDIATAMENTE abaixo dos anos\n",
    "    data = raw.iloc[years_row + 1:].reset_index(drop=True)\n",
    "    data.columns = cols\n",
    "\n",
    "    # 7) Limpar linhas lixo (títulos de secção, vazios, etc.)\n",
    "    # manter só linhas com Cultura não nula e que não contenham palavras de cabeçalho\n",
    "    data = data[~data[\"Cultura\"].isna()]\n",
    "    data[\"Cultura\"] = data[\"Cultura\"].astype(str).str.strip()\n",
    "    data = data[~data[\"Cultura\"].str.contains(r\"^Anos$|Culturas\", case=False, na=False)]\n",
    "    # remover linhas totalmente vazias nas colunas de valores\n",
    "    value_cols = [c for c in data.columns if c != \"Cultura\"]\n",
    "    data = data.dropna(how=\"all\", subset=value_cols)\n",
    "\n",
    "    # 8) Manter só colunas úteis (Superfície/Produção para 2020–2022)\n",
    "    wanted = [\"Cultura\"]\n",
    "    for y in valid_years:\n",
    "        wanted += [f\"Superfície_{y}\", f\"Produção_{y}\"]\n",
    "    # se os nomes vieram ligeiramente diferentes, deixamos em aberto e filtramos por regex\n",
    "    keep_regex = re.compile(r\"^(Superfície|Produção)_(?:%s)$\" % \"|\".join(map(str, valid_years)))\n",
    "    dyn_keep = [\"Cultura\"] + [c for c in data.columns if keep_regex.match(c)]\n",
    "    # preferir os exatos; se não houver, usar os dinâmicos\n",
    "    keep = [c for c in wanted if c in data.columns]\n",
    "    if len(keep) < 2:\n",
    "        keep = dyn_keep\n",
    "    data = data[keep].copy()\n",
    "\n",
    "    # 9) Passar para formato longo e extrair Ano/Categoria\n",
    "    long_df_2020_2022 = data.melt(id_vars=\"Cultura\", var_name=\"Categoria_Ano\", value_name=\"Valor\")\n",
    "    long_df_2020_2022[\"Ano\"] = long_df_2020_2022[\"Categoria_Ano\"].str.extract(r\"(\\d{4})\").astype(float)\n",
    "    long_df_2020_2022 = long_df_2020_2022.dropna(subset=[\"Ano\"])\n",
    "    long_df_2020_2022[\"Ano\"] = long_df_2020_2022[\"Ano\"].astype(int)\n",
    "    long_df_2020_2022[\"Categoria\"] = long_df_2020_2022[\"Categoria_Ano\"].str.extract(r\"^(Superfície|Produção)\")\n",
    "\n",
    "    # 10) Converter Valor para numérico e limpar\n",
    "    long_df_2020_2022[\"Valor\"] = pd.to_numeric(long_df_2020_2022[\"Valor\"], errors=\"coerce\")\n",
    "    long_df_2020_2022 = long_df_2020_2022.dropna(subset=[\"Valor\"])\n",
    "    long_df_2020_2022 = long_df_2020_2022[long_df_2020_2022[\"Ano\"].isin(valid_years)]\n",
    "    long_df_2020_2022[\"Cultura\"] = long_df_2020_2022[\"Cultura\"].str.strip()\n",
    "\n",
    "    # 11) Pivot final: Cultura | Ano | Produção | Superfície\n",
    "    clean = long_df_2020_2022.pivot_table(\n",
    "        index=[\"Cultura\", \"Ano\"],\n",
    "        columns=\"Categoria\",\n",
    "        values=\"Valor\",\n",
    "        aggfunc=\"first\"\n",
    "    ).reset_index()\n",
    "\n",
    "    # garantir colunas presentes\n",
    "    for col in [\"Superfície\", \"Produção\"]:\n",
    "        if col not in clean.columns:\n",
    "            clean[col] = np.nan\n",
    "\n",
    "    # ordenar e devolver\n",
    "    clean = clean[[\"Cultura\", \"Ano\", \"Superfície\", \"Produção\"]].sort_values([\"Cultura\", \"Ano\"])\n",
    "    return clean\n",
    "\n",
    "# === USO ===\n",
    "df_2020_2022 = load_madeira_2020_2022(r\"C:\\Users\\sofia\\Documents\\Data_Analytics_Ironhack\\Projects\\ironhack_final_project\\Datasets\\Prices_data\\prod_madeira_2020-2022.xlsx\")\n",
    "print(df_2020_2022.head())\n"
   ]
  },
  {
   "cell_type": "code",
   "execution_count": 5,
   "id": "076ca763",
   "metadata": {},
   "outputs": [
    {
     "data": {
      "text/plain": [
       "Categoria\n",
       "Cultura       0\n",
       "Ano           0\n",
       "Superfície    0\n",
       "Produção      0\n",
       "dtype: int64"
      ]
     },
     "execution_count": 5,
     "metadata": {},
     "output_type": "execute_result"
    }
   ],
   "source": [
    "df_2020_2022.isna().sum()"
   ]
  },
  {
   "cell_type": "code",
   "execution_count": 6,
   "id": "f9c6d7ab",
   "metadata": {},
   "outputs": [
    {
     "name": "stdout",
     "output_type": "stream",
     "text": [
      "Categoria  Cultura   Ano  Superfície     Produção\n",
      "0          Abacate  2021   50.394000   490.101632\n",
      "1          Abacate  2022   51.153123   497.788794\n",
      "2          Abacate  2023   51.153123   475.000000\n",
      "3          Abóbora  2021   76.760000  1890.887690\n",
      "4          Abóbora  2022   76.760000  1890.887690\n"
     ]
    },
    {
     "name": "stderr",
     "output_type": "stream",
     "text": [
      "C:\\Users\\sofia\\AppData\\Local\\Temp\\ipykernel_22684\\1534830527.py:38: FutureWarning: Downcasting object dtype arrays on .fillna, .ffill, .bfill is deprecated and will change in a future version. Call result.infer_objects(copy=False) instead. To opt-in to the future behavior, set `pd.set_option('future.no_silent_downcasting', True)`\n",
      "  yr_vals = yr_vals.where(yr_vals.notna()).ffill(axis=0)\n"
     ]
    }
   ],
   "source": [
    "def load_madeira_2021_2023(file_path, sheet_name=0, valid_years=(2021, 2022, 2023)):\n",
    "    # 1) Ler cru, sem headers (para não herdar lixo)\n",
    "    raw = pd.read_excel(file_path, sheet_name=sheet_name, header=None)\n",
    "\n",
    "    # 2) Encontrar a linha onde começa a tabela (onde aparece \"Culturas\")\n",
    "    col0 = raw.iloc[:, 0].astype(str).str.strip()\n",
    "    idx_candidates = col0[col0.str.contains(\"Culturas\", case=False, na=False)].index.tolist()\n",
    "    if not idx_candidates:\n",
    "        raise ValueError(\"Não encontrei a linha com 'Culturas' na 1ª coluna.\")\n",
    "    idx_cult = idx_candidates[0]\n",
    "\n",
    "    # 3) Encontrar a linha dos anos (2020/2021/2022) nos próximos ~8 rows\n",
    "    yr_pat = \"|\".join(str(y) for y in valid_years)\n",
    "    years_row = None\n",
    "    for i in range(idx_cult, min(idx_cult + 8, len(raw))):\n",
    "        row_str = raw.iloc[i].astype(str)\n",
    "        if row_str.str.contains(yr_pat).any():\n",
    "            years_row = i\n",
    "            break\n",
    "    if years_row is None:\n",
    "        # fallback: qualquer 4 dígitos\n",
    "        for i in range(idx_cult, min(idx_cult + 8, len(raw))):\n",
    "            row_str = raw.iloc[i].astype(str)\n",
    "            if row_str.str.contains(r\"\\b\\d{4}\\b\", regex=True).any():\n",
    "                years_row = i\n",
    "                break\n",
    "    if years_row is None:\n",
    "        raise ValueError(\"Não encontrei a linha com anos (2021–2023).\")\n",
    "\n",
    "    # 4) A linha de categorias (Superfície/Produção) deve estar logo acima dos anos\n",
    "    cat_row = max(idx_cult, years_row - 1)\n",
    "\n",
    "    # 5) Construir nomes de colunas a partir de 2 linhas (categoria + ano), fazendo forward-fill\n",
    "    cat_vals = raw.iloc[cat_row].copy()\n",
    "    cat_vals = cat_vals.where(cat_vals.notna()).ffill(axis=0)\n",
    "\n",
    "    yr_vals = raw.iloc[years_row].copy()\n",
    "    yr_vals = yr_vals.where(yr_vals.notna()).ffill(axis=0)\n",
    "\n",
    "    cols = []\n",
    "    for j in range(raw.shape[1]):\n",
    "        if j == 0:\n",
    "            cols.append(\"Cultura\")\n",
    "        else:\n",
    "            a = str(cat_vals.iloc[j]).strip()\n",
    "            b = str(yr_vals.iloc[j]).strip()\n",
    "            # limpar “ha”, “t”, textos soltos; ficar só com o ano se existir\n",
    "            b_year = re.search(r\"(\\d{4})\", b)\n",
    "            b = b_year.group(1) if b_year else b\n",
    "            # normalizar nomes base\n",
    "            a = (a.replace(\"\\n\", \" \")\n",
    "                   .replace(\"Superfície\", \"Superfície\")\n",
    "                   .replace(\"Produção\", \"Produção\")).strip()\n",
    "            name = f\"{a}_{b}\" if (a and b and a.lower() != \"nan\" and b.lower() != \"nan\") else (a or b or f\"col{j}\")\n",
    "            cols.append(name)\n",
    "\n",
    "    # 6) Cortar os dados a partir da linha IMEDIATAMENTE abaixo dos anos\n",
    "    data = raw.iloc[years_row + 1:].reset_index(drop=True)\n",
    "    data.columns = cols\n",
    "\n",
    "    # 7) Limpar linhas lixo (títulos de secção, vazios, etc.)\n",
    "    # manter só linhas com Cultura não nula e que não contenham palavras de cabeçalho\n",
    "    data = data[~data[\"Cultura\"].isna()]\n",
    "    data[\"Cultura\"] = data[\"Cultura\"].astype(str).str.strip()\n",
    "    data = data[~data[\"Cultura\"].str.contains(r\"^Anos$|Culturas\", case=False, na=False)]\n",
    "    # remover linhas totalmente vazias nas colunas de valores\n",
    "    value_cols = [c for c in data.columns if c != \"Cultura\"]\n",
    "    data = data.dropna(how=\"all\", subset=value_cols)\n",
    "\n",
    "    # 8) Manter só colunas úteis (Superfície/Produção para 2020–2022)\n",
    "    wanted = [\"Cultura\"]\n",
    "    for y in valid_years:\n",
    "        wanted += [f\"Superfície_{y}\", f\"Produção_{y}\"]\n",
    "    # se os nomes vieram ligeiramente diferentes, deixamos em aberto e filtramos por regex\n",
    "    keep_regex = re.compile(r\"^(Superfície|Produção)_(?:%s)$\" % \"|\".join(map(str, valid_years)))\n",
    "    dyn_keep = [\"Cultura\"] + [c for c in data.columns if keep_regex.match(c)]\n",
    "    # preferir os exatos; se não houver, usar os dinâmicos\n",
    "    keep = [c for c in wanted if c in data.columns]\n",
    "    if len(keep) < 2:\n",
    "        keep = dyn_keep\n",
    "    data = data[keep].copy()\n",
    "\n",
    "    # 9) Passar para formato longo e extrair Ano/Categoria\n",
    "    long_df_2021_2023 = data.melt(id_vars=\"Cultura\", var_name=\"Categoria_Ano\", value_name=\"Valor\")\n",
    "    long_df_2021_2023[\"Ano\"] = long_df_2021_2023[\"Categoria_Ano\"].str.extract(r\"(\\d{4})\").astype(float)\n",
    "    long_df_2021_2023 = long_df_2021_2023.dropna(subset=[\"Ano\"])\n",
    "    long_df_2021_2023[\"Ano\"] = long_df_2021_2023[\"Ano\"].astype(int)\n",
    "    long_df_2021_2023[\"Categoria\"] = long_df_2021_2023[\"Categoria_Ano\"].str.extract(r\"^(Superfície|Produção)\")\n",
    "\n",
    "    # 10) Converter Valor para numérico e limpar\n",
    "    long_df_2021_2023[\"Valor\"] = pd.to_numeric(long_df_2021_2023[\"Valor\"], errors=\"coerce\")\n",
    "    long_df_2021_2023 = long_df_2021_2023.dropna(subset=[\"Valor\"])\n",
    "    long_df_2021_2023 = long_df_2021_2023[long_df_2021_2023[\"Ano\"].isin(valid_years)]\n",
    "    long_df_2021_2023[\"Cultura\"] = long_df_2021_2023[\"Cultura\"].str.strip()\n",
    "\n",
    "    # 11) Pivot final: Cultura | Ano | Produção | Superfície\n",
    "    clean = long_df_2021_2023.pivot_table(\n",
    "        index=[\"Cultura\", \"Ano\"],\n",
    "        columns=\"Categoria\",\n",
    "        values=\"Valor\",\n",
    "        aggfunc=\"first\"\n",
    "    ).reset_index()\n",
    "\n",
    "    # garantir colunas presentes\n",
    "    for col in [\"Superfície\", \"Produção\"]:\n",
    "        if col not in clean.columns:\n",
    "            clean[col] = np.nan\n",
    "\n",
    "    # ordenar e devolver\n",
    "    clean = clean[[\"Cultura\", \"Ano\", \"Superfície\", \"Produção\"]].sort_values([\"Cultura\", \"Ano\"])\n",
    "    return clean\n",
    "\n",
    "# === USO ===\n",
    "df_2021_2023 = load_madeira_2021_2023(r\"C:\\Users\\sofia\\Documents\\Data_Analytics_Ironhack\\Projects\\ironhack_final_project\\Datasets\\Prices_data\\prod_madeira_2021-2023.xlsx\")\n",
    "print(df_2021_2023.head())\n"
   ]
  },
  {
   "cell_type": "code",
   "execution_count": 7,
   "id": "977834d3",
   "metadata": {},
   "outputs": [
    {
     "name": "stdout",
     "output_type": "stream",
     "text": [
      "Categoria  Cultura   Ano  Superfície     Produção\n",
      "0          Abacate  2022   51.153123   497.788794\n",
      "1          Abacate  2023   51.153123   475.000000\n",
      "2          Abacate  2024   52.000000   463.000000\n",
      "3          Abóbora  2022   76.760000  1890.887690\n",
      "4          Abóbora  2023   76.760000  2080.000000\n"
     ]
    },
    {
     "name": "stderr",
     "output_type": "stream",
     "text": [
      "C:\\Users\\sofia\\AppData\\Local\\Temp\\ipykernel_22684\\916158901.py:38: FutureWarning: Downcasting object dtype arrays on .fillna, .ffill, .bfill is deprecated and will change in a future version. Call result.infer_objects(copy=False) instead. To opt-in to the future behavior, set `pd.set_option('future.no_silent_downcasting', True)`\n",
      "  yr_vals = yr_vals.where(yr_vals.notna()).ffill(axis=0)\n"
     ]
    }
   ],
   "source": [
    "def load_madeira_2022_2024(file_path, sheet_name=0, valid_years=(2022, 2023, 2024)):\n",
    "    # 1) Ler cru, sem headers (para não herdar lixo)\n",
    "    raw = pd.read_excel(file_path, sheet_name=sheet_name, header=None)\n",
    "\n",
    "    # 2) Encontrar a linha onde começa a tabela (onde aparece \"Culturas\")\n",
    "    col0 = raw.iloc[:, 0].astype(str).str.strip()\n",
    "    idx_candidates = col0[col0.str.contains(\"Culturas\", case=False, na=False)].index.tolist()\n",
    "    if not idx_candidates:\n",
    "        raise ValueError(\"Não encontrei a linha com 'Culturas' na 1ª coluna.\")\n",
    "    idx_cult = idx_candidates[0]\n",
    "\n",
    "    # 3) Encontrar a linha dos anos (2022/2023/2024) nos próximos ~8 rows\n",
    "    yr_pat = \"|\".join(str(y) for y in valid_years)\n",
    "    years_row = None\n",
    "    for i in range(idx_cult, min(idx_cult + 8, len(raw))):\n",
    "        row_str = raw.iloc[i].astype(str)\n",
    "        if row_str.str.contains(yr_pat).any():\n",
    "            years_row = i\n",
    "            break\n",
    "    if years_row is None:\n",
    "        # fallback: qualquer 4 dígitos\n",
    "        for i in range(idx_cult, min(idx_cult + 8, len(raw))):\n",
    "            row_str = raw.iloc[i].astype(str)\n",
    "            if row_str.str.contains(r\"\\b\\d{4}\\b\", regex=True).any():\n",
    "                years_row = i\n",
    "                break\n",
    "    if years_row is None:\n",
    "        raise ValueError(\"Não encontrei a linha com anos (2021–2023).\")\n",
    "\n",
    "    # 4) A linha de categorias (Superfície/Produção) deve estar logo acima dos anos\n",
    "    cat_row = max(idx_cult, years_row - 1)\n",
    "\n",
    "    # 5) Construir nomes de colunas a partir de 2 linhas (categoria + ano), fazendo forward-fill\n",
    "    cat_vals = raw.iloc[cat_row].copy()\n",
    "    cat_vals = cat_vals.where(cat_vals.notna()).ffill(axis=0)\n",
    "\n",
    "    yr_vals = raw.iloc[years_row].copy()\n",
    "    yr_vals = yr_vals.where(yr_vals.notna()).ffill(axis=0)\n",
    "\n",
    "    cols = []\n",
    "    for j in range(raw.shape[1]):\n",
    "        if j == 0:\n",
    "            cols.append(\"Cultura\")\n",
    "        else:\n",
    "            a = str(cat_vals.iloc[j]).strip()\n",
    "            b = str(yr_vals.iloc[j]).strip()\n",
    "            # limpar “ha”, “t”, textos soltos; ficar só com o ano se existir\n",
    "            b_year = re.search(r\"(\\d{4})\", b)\n",
    "            b = b_year.group(1) if b_year else b\n",
    "            # normalizar nomes base\n",
    "            a = (a.replace(\"\\n\", \" \")\n",
    "                   .replace(\"Superfície\", \"Superfície\")\n",
    "                   .replace(\"Produção\", \"Produção\")).strip()\n",
    "            name = f\"{a}_{b}\" if (a and b and a.lower() != \"nan\" and b.lower() != \"nan\") else (a or b or f\"col{j}\")\n",
    "            cols.append(name)\n",
    "\n",
    "    # 6) Cortar os dados a partir da linha IMEDIATAMENTE abaixo dos anos\n",
    "    data = raw.iloc[years_row + 1:].reset_index(drop=True)\n",
    "    data.columns = cols\n",
    "\n",
    "    # 7) Limpar linhas lixo (títulos de secção, vazios, etc.)\n",
    "    # manter só linhas com Cultura não nula e que não contenham palavras de cabeçalho\n",
    "    data = data[~data[\"Cultura\"].isna()]\n",
    "    data[\"Cultura\"] = data[\"Cultura\"].astype(str).str.strip()\n",
    "    data = data[~data[\"Cultura\"].str.contains(r\"^Anos$|Culturas\", case=False, na=False)]\n",
    "    # remover linhas totalmente vazias nas colunas de valores\n",
    "    value_cols = [c for c in data.columns if c != \"Cultura\"]\n",
    "    data = data.dropna(how=\"all\", subset=value_cols)\n",
    "\n",
    "    # 8) Manter só colunas úteis (Superfície/Produção para 2020–2022)\n",
    "    wanted = [\"Cultura\"]\n",
    "    for y in valid_years:\n",
    "        wanted += [f\"Superfície_{y}\", f\"Produção_{y}\"]\n",
    "    # se os nomes vieram ligeiramente diferentes, deixamos em aberto e filtramos por regex\n",
    "    keep_regex = re.compile(r\"^(Superfície|Produção)_(?:%s)$\" % \"|\".join(map(str, valid_years)))\n",
    "    dyn_keep = [\"Cultura\"] + [c for c in data.columns if keep_regex.match(c)]\n",
    "    # preferir os exatos; se não houver, usar os dinâmicos\n",
    "    keep = [c for c in wanted if c in data.columns]\n",
    "    if len(keep) < 2:\n",
    "        keep = dyn_keep\n",
    "    data = data[keep].copy()\n",
    "\n",
    "    # 9) Passar para formato longo e extrair Ano/Categoria\n",
    "    long_df_2022_2024 = data.melt(id_vars=\"Cultura\", var_name=\"Categoria_Ano\", value_name=\"Valor\")\n",
    "    long_df_2022_2024[\"Ano\"] = long_df_2022_2024[\"Categoria_Ano\"].str.extract(r\"(\\d{4})\").astype(float)\n",
    "    long_df_2022_2024 = long_df_2022_2024.dropna(subset=[\"Ano\"])\n",
    "    long_df_2022_2024[\"Ano\"] = long_df_2022_2024[\"Ano\"].astype(int)\n",
    "    long_df_2022_2024[\"Categoria\"] = long_df_2022_2024[\"Categoria_Ano\"].str.extract(r\"^(Superfície|Produção)\")\n",
    "\n",
    "    # 10) Converter Valor para numérico e limpar\n",
    "    long_df_2022_2024[\"Valor\"] = pd.to_numeric(long_df_2022_2024[\"Valor\"], errors=\"coerce\")\n",
    "    long_df_2022_2024 = long_df_2022_2024.dropna(subset=[\"Valor\"])\n",
    "    long_df_2022_2024 = long_df_2022_2024[long_df_2022_2024[\"Ano\"].isin(valid_years)]\n",
    "    long_df_2022_2024[\"Cultura\"] = long_df_2022_2024[\"Cultura\"].str.strip()\n",
    "\n",
    "    # 11) Pivot final: Cultura | Ano | Produção | Superfície\n",
    "    clean = long_df_2022_2024.pivot_table(\n",
    "        index=[\"Cultura\", \"Ano\"],\n",
    "        columns=\"Categoria\",\n",
    "        values=\"Valor\",\n",
    "        aggfunc=\"first\"\n",
    "    ).reset_index()\n",
    "\n",
    "    # garantir colunas presentes\n",
    "    for col in [\"Superfície\", \"Produção\"]:\n",
    "        if col not in clean.columns:\n",
    "            clean[col] = np.nan\n",
    "\n",
    "    # ordenar e devolver\n",
    "    clean = clean[[\"Cultura\", \"Ano\", \"Superfície\", \"Produção\"]].sort_values([\"Cultura\", \"Ano\"])\n",
    "    return clean\n",
    "\n",
    "# === USO ===\n",
    "df_2022_2024 = load_madeira_2022_2024(r\"C:\\Users\\sofia\\Documents\\Data_Analytics_Ironhack\\Projects\\ironhack_final_project\\Datasets\\Prices_data\\prod_madeira_2022-2024.xlsx\")\n",
    "print(df_2022_2024.head())\n"
   ]
  },
  {
   "cell_type": "code",
   "execution_count": 8,
   "id": "76cbe2f2",
   "metadata": {},
   "outputs": [
    {
     "name": "stdout",
     "output_type": "stream",
     "text": [
      "Categoria  Cultura   Ano  Superfície     Produção\n",
      "0          Abacate  2019   50.394000   415.368722\n",
      "1          Abacate  2020   50.394000   461.783317\n",
      "2          Abacate  2021   50.394000   490.101632\n",
      "3          Abacate  2022   51.000000   498.000000\n",
      "4          Abacate  2023   51.153123   475.000000\n",
      "5          Abacate  2024   52.000000   463.000000\n",
      "6          Abóbora  2019   77.000000  1548.407995\n",
      "7          Abóbora  2020   76.760000  1929.477235\n",
      "8          Abóbora  2021   76.760000  1890.887690\n",
      "9          Abóbora  2022   77.000000  1891.000000\n",
      "10         Abóbora  2023   76.760000  2080.000000\n",
      "11         Abóbora  2024   80.000000  2059.000000\n",
      "12          Alface  2019   49.050000  1494.835047\n",
      "13          Alface  2020   49.050000  1554.628449\n",
      "14          Alface  2021   49.000000  1477.250000\n",
      "15          Alface  2022   47.000000  1507.000000\n",
      "16          Alface  2023   49.000000  1808.000000\n",
      "17          Alface  2024   51.000000  2079.000000\n",
      "18          Ameixa  2019   49.512200   412.883003\n",
      "19          Ameixa  2020   49.512200   291.142056\n"
     ]
    }
   ],
   "source": [
    "\n",
    "dfs = [df_2019_2021, df_2020_2022, df_2021_2023, df_2022_2024] \n",
    "\n",
    "# Juntar tudo\n",
    "df_all = pd.concat(dfs, ignore_index=True)\n",
    "\n",
    "# Se houver duplicados (porque anos se sobrepõem), remover\n",
    "df_all = df_all.drop_duplicates(subset=[\"Cultura\",\"Ano\"])\n",
    "\n",
    "# Ordenar\n",
    "df_all = df_all.sort_values(by=[\"Cultura\",\"Ano\"]).reset_index(drop=True)\n",
    "\n",
    "print(df_all.head(20))"
   ]
  },
  {
   "cell_type": "code",
   "execution_count": 9,
   "id": "8a63e6a7",
   "metadata": {},
   "outputs": [
    {
     "data": {
      "text/plain": [
       "(206, 4)"
      ]
     },
     "execution_count": 9,
     "metadata": {},
     "output_type": "execute_result"
    }
   ],
   "source": [
    "df_all.shape"
   ]
  },
  {
   "cell_type": "code",
   "execution_count": 10,
   "id": "5104e030",
   "metadata": {},
   "outputs": [],
   "source": [
    "df_all.to_csv(r\"C:\\Users\\sofia\\Documents\\Data_Analytics_Ironhack\\Projects\\ironhack_final_project\\worked_datasets\\prod_madeira_2019_2024.csv\", index=False)"
   ]
  },
  {
   "cell_type": "code",
   "execution_count": 11,
   "id": "a6f1f97c",
   "metadata": {},
   "outputs": [],
   "source": [
    "import matplotlib.pyplot as plt\n",
    "import seaborn as sns"
   ]
  },
  {
   "cell_type": "code",
   "execution_count": 12,
   "id": "25991cfe",
   "metadata": {},
   "outputs": [
    {
     "data": {
      "image/png": "[encoded data removed]",
      "text/plain": [
       "<Figure size 1200x700 with 1 Axes>"
      ]
     },
     "metadata": {},
     "output_type": "display_data"
    }
   ],
   "source": [
    "plt.figure(figsize=(12,7))\n",
    "\n",
    "for cultura in [\"Banana\",\"Alface\",\"Abóbora\", \"Cana-de-açúcar\", \"Maracujá\"]: \n",
    "    subset = df_all[df_all[\"Cultura\"].str.contains(cultura, case=False)]\n",
    "    plt.plot(subset[\"Ano\"], subset[\"Produção\"], marker=\"o\", label=cultura)\n",
    "\n",
    "plt.title(\"Evolução da produção agrícola na Madeira\")\n",
    "plt.xlabel(\"Ano\")\n",
    "plt.ylabel(\"Produção (t)\")\n",
    "plt.legend()\n",
    "plt.grid(True, linestyle=\"--\", alpha=0.6)\n",
    "plt.show()"
   ]
  },
  {
   "cell_type": "code",
   "execution_count": 13,
   "id": "0574932c",
   "metadata": {},
   "outputs": [
    {
     "data": {
      "image/png": "[encoded data removed]",
      "text/plain": [
       "<Figure size 1000x600 with 1 Axes>"
      ]
     },
     "metadata": {},
     "output_type": "display_data"
    }
   ],
   "source": [
    "# calcular produção total por cultura\n",
    "top10 = df_all.groupby(\"Cultura\")[\"Produção\"].sum().nlargest(10)\n",
    "\n",
    "# gráfico de barras\n",
    "plt.figure(figsize=(10,6))\n",
    "top10.sort_values().plot(kind=\"barh\", color=\"green\", alpha=0.7)\n",
    "\n",
    "plt.title(\"Top 10 most produced crops (total 2019–2024)\")\n",
    "plt.xlabel(\"Total production (t)\")\n",
    "plt.ylabel(\"Crop\")\n",
    "plt.show()"
   ]
  },
  {
   "cell_type": "code",
   "execution_count": 14,
   "id": "cb76e8d0",
   "metadata": {},
   "outputs": [
    {
     "data": {
      "image/png": "[encoded data removed]",
      "text/plain": [
       "<Figure size 1200x800 with 1 Axes>"
      ]
     },
     "metadata": {},
     "output_type": "display_data"
    }
   ],
   "source": [
    "import seaborn as sns\n",
    "\n",
    "plt.figure(figsize=(12,8))\n",
    "\n",
    "# ordenar por produção decrescente em cada ano e só manter top 10\n",
    "for ano, group in df_all.groupby(\"Ano\"):\n",
    "    top10_ano = group.nlargest(10, \"Produção\")\n",
    "    sns.barplot(x=\"Produção\", y=\"Cultura\", data=top10_ano, label=ano, alpha=0.6)\n",
    "\n",
    "plt.title(\"Top 10 most produced cropsby year (2019–2024)\")\n",
    "plt.xlabel(\"Production (t)\")\n",
    "plt.ylabel(\"Crop\")\n",
    "plt.legend(title=\"Year\")\n",
    "plt.show()"
   ]
  },
  {
   "cell_type": "code",
   "execution_count": 15,
   "id": "eadc6c21",
   "metadata": {},
   "outputs": [
    {
     "data": {
      "image/png": "[encoded data removed]",
      "text/plain": [
       "<Figure size 1200x700 with 1 Axes>"
      ]
     },
     "metadata": {},
     "output_type": "display_data"
    }
   ],
   "source": [
    "import matplotlib.pyplot as plt\n",
    "\n",
    "# 1. descobrir as 10 culturas com maior produção acumulada\n",
    "top10_culturas = (\n",
    "    df_all.groupby(\"Cultura\")[\"Produção\"]\n",
    "    .sum()\n",
    "    .nlargest(10)\n",
    "    .index\n",
    ")\n",
    "\n",
    "# 2. filtrar só essas culturas\n",
    "df_top10 = df_all[df_all[\"Cultura\"].isin(top10_culturas)]\n",
    "\n",
    "# 3. gráfico de linhas\n",
    "plt.figure(figsize=(12,7))\n",
    "\n",
    "for cultura in df_top10[\"Cultura\"].unique():\n",
    "    subset = df_top10[df_top10[\"Cultura\"] == cultura]\n",
    "    plt.plot(subset[\"Ano\"], subset[\"Produção\"], marker=\"o\", label=cultura)\n",
    "\n",
    "plt.title(\"Evolution of Top 10 Most Produced Crops in Madeira (2019–2024)\")\n",
    "plt.xlabel(\"Year\")\n",
    "plt.ylabel(\"Production (t)\")\n",
    "plt.legend(title=\"Crop\", bbox_to_anchor=(1.05, 1), loc=\"upper left\")\n",
    "plt.grid(True, linestyle=\"--\", alpha=0.6)\n",
    "plt.tight_layout()\n",
    "plt.show()\n"
   ]
  },
  {
   "cell_type": "code",
   "execution_count": 16,
   "id": "f6ec375d",
   "metadata": {},
   "outputs": [
    {
     "name": "stdout",
     "output_type": "stream",
     "text": [
      "Requirement already satisfied: plotly in c:\\users\\sofia\\anaconda3\\envs\\sofia\\lib\\site-packages (6.2.0)\n",
      "Requirement already satisfied: narwhals>=1.15.1 in c:\\users\\sofia\\anaconda3\\envs\\sofia\\lib\\site-packages (from plotly) (2.1.1)\n",
      "Requirement already satisfied: packaging in c:\\users\\sofia\\anaconda3\\envs\\sofia\\lib\\site-packages (from plotly) (25.0)\n",
      "Note: you may need to restart the kernel to use updated packages.\n"
     ]
    }
   ],
   "source": [
    "pip install plotly"
   ]
  },
  {
   "cell_type": "code",
   "execution_count": 17,
   "id": "f80aaf2a",
   "metadata": {},
   "outputs": [
    {
     "name": "stdout",
     "output_type": "stream",
     "text": [
      "Requirement already satisfied: nbformat in c:\\users\\sofia\\anaconda3\\envs\\sofia\\lib\\site-packages (5.10.4)\n",
      "Requirement already satisfied: fastjsonschema>=2.15 in c:\\users\\sofia\\anaconda3\\envs\\sofia\\lib\\site-packages (from nbformat) (2.21.2)\n",
      "Requirement already satisfied: jsonschema>=2.6 in c:\\users\\sofia\\anaconda3\\envs\\sofia\\lib\\site-packages (from nbformat) (4.25.1)\n",
      "Requirement already satisfied: jupyter-core!=5.0.*,>=4.12 in c:\\users\\sofia\\anaconda3\\envs\\sofia\\lib\\site-packages (from nbformat) (5.7.2)\n",
      "Requirement already satisfied: traitlets>=5.1 in c:\\users\\sofia\\anaconda3\\envs\\sofia\\lib\\site-packages (from nbformat) (5.14.3)\n",
      "Requirement already satisfied: attrs>=22.2.0 in c:\\users\\sofia\\anaconda3\\envs\\sofia\\lib\\site-packages (from jsonschema>=2.6->nbformat) (25.3.0)\n",
      "Requirement already satisfied: jsonschema-specifications>=2023.03.6 in c:\\users\\sofia\\anaconda3\\envs\\sofia\\lib\\site-packages (from jsonschema>=2.6->nbformat) (2025.9.1)\n",
      "Requirement already satisfied: referencing>=0.28.4 in c:\\users\\sofia\\anaconda3\\envs\\sofia\\lib\\site-packages (from jsonschema>=2.6->nbformat) (0.36.2)\n",
      "Requirement already satisfied: rpds-py>=0.7.1 in c:\\users\\sofia\\anaconda3\\envs\\sofia\\lib\\site-packages (from jsonschema>=2.6->nbformat) (0.27.1)\n",
      "Requirement already satisfied: platformdirs>=2.5 in c:\\users\\sofia\\anaconda3\\envs\\sofia\\lib\\site-packages (from jupyter-core!=5.0.*,>=4.12->nbformat) (4.3.8)\n",
      "Requirement already satisfied: pywin32>=300 in c:\\users\\sofia\\anaconda3\\envs\\sofia\\lib\\site-packages (from jupyter-core!=5.0.*,>=4.12->nbformat) (308)\n",
      "Requirement already satisfied: typing-extensions>=4.4.0 in c:\\users\\sofia\\anaconda3\\envs\\sofia\\lib\\site-packages (from referencing>=0.28.4->jsonschema>=2.6->nbformat) (4.14.1)\n",
      "Note: you may need to restart the kernel to use updated packages.\n"
     ]
    }
   ],
   "source": [
    "pip install nbformat\n"
   ]
  },
  {
   "cell_type": "code",
   "execution_count": 18,
   "id": "ab51a659",
   "metadata": {},
   "outputs": [
    {
     "data": {
      "application/vnd.plotly.v1+json": {
       "config": {
        "plotlyServerURL": "https://plot.ly"
       },
       "data": [
        {
         "hovertemplate": "Cultura=Abóbora<br>Ano=%{x}<br>Produção=%{y}<extra></extra>",
         "legendgroup": "Abóbora",
         "line": {
          "color": "#636efa",
          "dash": "solid"
         },
         "marker": {
          "symbol": "circle"
         },
         "mode": "lines+markers",
         "name": "Abóbora",
         "orientation": "v",
         "showlegend": true,
         "type": "scatter",
         "x": {
          "bdata": "4wfkB+UH5gfnB+gH",
          "dtype": "i2"
         },
         "xaxis": "x",
         "y": {
          "bdata": "4aFQyaExmECibDiw6CWeQCSynf6Mi51AAAAAAACMnUAAAAAAAECgQAAAAAAAFqBA",
          "dtype": "f8"
         },
         "yaxis": "y"
        },
        {
         "hovertemplate": "Cultura=Banana<br>Ano=%{x}<br>Produção=%{y}<extra></extra>",
         "legendgroup": "Banana",
         "line": {
          "color": "#EF553B",
          "dash": "solid"
         },
         "marker": {
          "symbol": "circle"
         },
         "mode": "lines+markers",
         "name": "Banana",
         "orientation": "v",
         "showlegend": true,
         "type": "scatter",
         "x": {
          "bdata": "4wfkB+UH5gfnB+gH",
          "dtype": "i2"
         },
         "xaxis": "x",
         "y": {
          "bdata": "lhOtz/Qy1kBkuudt48LVQBDD+tenuNRAAAAAAABV10AAAAAAwNnZQAAAAAAAFtlA",
          "dtype": "f8"
         },
         "yaxis": "y"
        },
        {
         "hovertemplate": "Cultura=Batata<br>Ano=%{x}<br>Produção=%{y}<extra></extra>",
         "legendgroup": "Batata",
         "line": {
          "color": "#00cc96",
          "dash": "solid"
         },
         "marker": {
          "symbol": "circle"
         },
         "mode": "lines+markers",
         "name": "Batata",
         "orientation": "v",
         "showlegend": true,
         "type": "scatter",
         "x": {
          "bdata": "4wfkB+UH5gfnB+gH",
          "dtype": "i2"
         },
         "xaxis": "x",
         "y": {
          "bdata": "pP6ZrAjC3EB+nioYdk7ZQJ3dMSsFVtlAAAAAAEBW1UAAAAAAwD/QQAAAAABA8tBA",
          "dtype": "f8"
         },
         "yaxis": "y"
        },
        {
         "hovertemplate": "Cultura=Batata-doce<br>Ano=%{x}<br>Produção=%{y}<extra></extra>",
         "legendgroup": "Batata-doce",
         "line": {
          "color": "#ab63fa",
          "dash": "solid"
         },
         "marker": {
          "symbol": "circle"
         },
         "mode": "lines+markers",
         "name": "Batata-doce",
         "orientation": "v",
         "showlegend": true,
         "type": "scatter",
         "x": {
          "bdata": "4wfkB+UH5gfnB+gH",
          "dtype": "i2"
         },
         "xaxis": "x",
         "y": {
          "bdata": "4rqYW1D9wUDkR6k5T7e8QLDSX6nD2b1AAAAAAADlvUAAAAAAAF/AQAAAAAAAF75A",
          "dtype": "f8"
         },
         "yaxis": "y"
        },
        {
         "hovertemplate": "Cultura=Cana-de-açúcar<br>Ano=%{x}<br>Produção=%{y}<extra></extra>",
         "legendgroup": "Cana-de-açúcar",
         "line": {
          "color": "#FFA15A",
          "dash": "solid"
         },
         "marker": {
          "symbol": "circle"
         },
         "mode": "lines+markers",
         "name": "Cana-de-açúcar",
         "orientation": "v",
         "showlegend": true,
         "type": "scatter",
         "x": {
          "bdata": "4wfkB+UH5gfnB+gH",
          "dtype": "i2"
         },
         "xaxis": "x",
         "y": {
          "bdata": "Z8jCoSQrw0AAAAAAAAD4f95ldWGA+cFAAAAAAACgw0AAAAAAAE7BQAAAAAAAbMFA",
          "dtype": "f8"
         },
         "yaxis": "y"
        },
        {
         "hovertemplate": "Cultura=Cebola<br>Ano=%{x}<br>Produção=%{y}<extra></extra>",
         "legendgroup": "Cebola",
         "line": {
          "color": "#19d3f3",
          "dash": "solid"
         },
         "marker": {
          "symbol": "circle"
         },
         "mode": "lines+markers",
         "name": "Cebola",
         "orientation": "v",
         "showlegend": true,
         "type": "scatter",
         "x": {
          "bdata": "4wfkB+UH5gfnB+gH",
          "dtype": "i2"
         },
         "xaxis": "x",
         "y": {
          "bdata": "szG64xRpsECzMbrjFGmwQNmPE/cfEbFAAAAAAAC4rkAAAAAAAByqQAAAAAAAdqxA",
          "dtype": "f8"
         },
         "yaxis": "y"
        },
        {
         "hovertemplate": "Cultura=Couve-repolho<br>Ano=%{x}<br>Produção=%{y}<extra></extra>",
         "legendgroup": "Couve-repolho",
         "line": {
          "color": "#FF6692",
          "dash": "solid"
         },
         "marker": {
          "symbol": "circle"
         },
         "mode": "lines+markers",
         "name": "Couve-repolho",
         "orientation": "v",
         "showlegend": true,
         "type": "scatter",
         "x": {
          "bdata": "4wfkB+UH5gfnB+gH",
          "dtype": "i2"
         },
         "xaxis": "x",
         "y": {
          "bdata": "3hnNoiAGrEDHysIKcAWsQAxX3gosTaxAAAAAAABOrEAAAAAAAFKqQAAAAAAARK5A",
          "dtype": "f8"
         },
         "yaxis": "y"
        },
        {
         "hovertemplate": "Cultura=Feijão-verde<br>Ano=%{x}<br>Produção=%{y}<extra></extra>",
         "legendgroup": "Feijão-verde",
         "line": {
          "color": "#B6E880",
          "dash": "solid"
         },
         "marker": {
          "symbol": "circle"
         },
         "mode": "lines+markers",
         "name": "Feijão-verde",
         "orientation": "v",
         "showlegend": true,
         "type": "scatter",
         "x": {
          "bdata": "4wfkB+UH5gfnB+gH",
          "dtype": "i2"
         },
         "xaxis": "x",
         "y": {
          "bdata": "IQUTdnHKpEAJEl5Kfr6hQMzpD2wxdKJAAAAAAABgn0AAAAAAANKiQAAAAAAA8KBA",
          "dtype": "f8"
         },
         "yaxis": "y"
        },
        {
         "hovertemplate": "Cultura=Milho p/maçaroca<br>Ano=%{x}<br>Produção=%{y}<extra></extra>",
         "legendgroup": "Milho p/maçaroca",
         "line": {
          "color": "#FF97FF",
          "dash": "solid"
         },
         "marker": {
          "symbol": "circle"
         },
         "mode": "lines+markers",
         "name": "Milho p/maçaroca",
         "orientation": "v",
         "showlegend": true,
         "type": "scatter",
         "x": {
          "bdata": "4wfkB+UH5gfnB+gH",
          "dtype": "i2"
         },
         "xaxis": "x",
         "y": {
          "bdata": "m0+IRngdp0B3ECdv2aWjQGpxAptAQaNAAAAAAABCo0AAAAAAAOCcQAAAAAAAnKBA",
          "dtype": "f8"
         },
         "yaxis": "y"
        },
        {
         "hovertemplate": "Cultura=Vinha (vitis vinifera) (a)<br>Ano=%{x}<br>Produção=%{y}<extra></extra>",
         "legendgroup": "Vinha (vitis vinifera) (a)",
         "line": {
          "color": "#FECB52",
          "dash": "solid"
         },
         "marker": {
          "symbol": "circle"
         },
         "mode": "lines+markers",
         "name": "Vinha (vitis vinifera) (a)",
         "orientation": "v",
         "showlegend": true,
         "type": "scatter",
         "x": {
          "bdata": "4wfkB+UH5gfnB+gH",
          "dtype": "i2"
         },
         "xaxis": "x",
         "y": {
          "bdata": "hetRuHZd4ECPwvUofHLfQAAAAAAAAPh/AAAAAABE4ECPwvUoPEHgQAAAAABAx9lA",
          "dtype": "f8"
         },
         "yaxis": "y"
        }
       ],
       "layout": {
        "legend": {
         "title": {
          "text": "Cultura"
         },
         "tracegroupgap": 0
        },
        "template": {
         "data": {
          "bar": [
           {
            "error_x": {
             "color": "#2a3f5f"
            },
            "error_y": {
             "color": "#2a3f5f"
            },
            "marker": {
             "line": {
              "color": "white",
              "width": 0.5
             },
             "pattern": {
              "fillmode": "overlay",
              "size": 10,
              "solidity": 0.2
             }
            },
            "type": "bar"
           }
          ],
          "barpolar": [
           {
            "marker": {
             "line": {
              "color": "white",
              "width": 0.5
             },
             "pattern": {
              "fillmode": "overlay",
              "size": 10,
              "solidity": 0.2
             }
            },
            "type": "barpolar"
           }
          ],
          "carpet": [
           {
            "aaxis": {
             "endlinecolor": "#2a3f5f",
             "gridcolor": "#C8D4E3",
             "linecolor": "#C8D4E3",
             "minorgridcolor": "#C8D4E3",
             "startlinecolor": "#2a3f5f"
            },
            "baxis": {
             "endlinecolor": "#2a3f5f",
             "gridcolor": "#C8D4E3",
             "linecolor": "#C8D4E3",
             "minorgridcolor": "#C8D4E3",
             "startlinecolor": "#2a3f5f"
            },
            "type": "carpet"
           }
          ],
          "choropleth": [
           {
            "colorbar": {
             "outlinewidth": 0,
             "ticks": ""
            },
            "type": "choropleth"
           }
          ],
          "contour": [
           {
            "colorbar": {
             "outlinewidth": 0,
             "ticks": ""
            },
            "colorscale": [
             [
              0,
              "#0d0887"
             ],
             [
              0.1111111111111111,
              "#46039f"
             ],
             [
              0.2222222222222222,
              "#7201a8"
             ],
             [
              0.3333333333333333,
              "#9c179e"
             ],
             [
              0.4444444444444444,
              "#bd3786"
             ],
             [
              0.5555555555555556,
              "#d8576b"
             ],
             [
              0.6666666666666666,
              "#ed7953"
             ],
             [
              0.7777777777777778,
              "#fb9f3a"
             ],
             [
              0.8888888888888888,
              "#fdca26"
             ],
             [
              1,
              "#f0f921"
             ]
            ],
            "type": "contour"
           }
          ],
          "contourcarpet": [
           {
            "colorbar": {
             "outlinewidth": 0,
             "ticks": ""
            },
            "type": "contourcarpet"
           }
          ],
          "heatmap": [
           {
            "colorbar": {
             "outlinewidth": 0,
             "ticks": ""
            },
            "colorscale": [
             [
              0,
              "#0d0887"
             ],
             [
              0.1111111111111111,
              "#46039f"
             ],
             [
              0.2222222222222222,
              "#7201a8"
             ],
             [
              0.3333333333333333,
              "#9c179e"
             ],
             [
              0.4444444444444444,
              "#bd3786"
             ],
             [
              0.5555555555555556,
              "#d8576b"
             ],
             [
              0.6666666666666666,
              "#ed7953"
             ],
             [
              0.7777777777777778,
              "#fb9f3a"
             ],
             [
              0.8888888888888888,
              "#fdca26"
             ],
             [
              1,
              "#f0f921"
             ]
            ],
            "type": "heatmap"
           }
          ],
          "histogram": [
           {
            "marker": {
             "pattern": {
              "fillmode": "overlay",
              "size": 10,
              "solidity": 0.2
             }
            },
            "type": "histogram"
           }
          ],
          "histogram2d": [
           {
            "colorbar": {
             "outlinewidth": 0,
             "ticks": ""
            },
            "colorscale": [
             [
              0,
              "#0d0887"
             ],
             [
              0.1111111111111111,
              "#46039f"
             ],
             [
              0.2222222222222222,
              "#7201a8"
             ],
             [
              0.3333333333333333,
              "#9c179e"
             ],
             [
              0.4444444444444444,
              "#bd3786"
             ],
             [
              0.5555555555555556,
              "#d8576b"
             ],
             [
              0.6666666666666666,
              "#ed7953"
             ],
             [
              0.7777777777777778,
              "#fb9f3a"
             ],
             [
              0.8888888888888888,
              "#fdca26"
             ],
             [
              1,
              "#f0f921"
             ]
            ],
            "type": "histogram2d"
           }
          ],
          "histogram2dcontour": [
           {
            "colorbar": {
             "outlinewidth": 0,
             "ticks": ""
            },
            "colorscale": [
             [
              0,
              "#0d0887"
             ],
             [
              0.1111111111111111,
              "#46039f"
             ],
             [
              0.2222222222222222,
              "#7201a8"
             ],
             [
              0.3333333333333333,
              "#9c179e"
             ],
             [
              0.4444444444444444,
              "#bd3786"
             ],
             [
              0.5555555555555556,
              "#d8576b"
             ],
             [
              0.6666666666666666,
              "#ed7953"
             ],
             [
              0.7777777777777778,
              "#fb9f3a"
             ],
             [
              0.8888888888888888,
              "#fdca26"
             ],
             [
              1,
              "#f0f921"
             ]
            ],
            "type": "histogram2dcontour"
           }
          ],
          "mesh3d": [
           {
            "colorbar": {
             "outlinewidth": 0,
             "ticks": ""
            },
            "type": "mesh3d"
           }
          ],
          "parcoords": [
           {
            "line": {
             "colorbar": {
              "outlinewidth": 0,
              "ticks": ""
             }
            },
            "type": "parcoords"
           }
          ],
          "pie": [
           {
            "automargin": true,
            "type": "pie"
           }
          ],
          "scatter": [
           {
            "fillpattern": {
             "fillmode": "overlay",
             "size": 10,
             "solidity": 0.2
            },
            "type": "scatter"
           }
          ],
          "scatter3d": [
           {
            "line": {
             "colorbar": {
              "outlinewidth": 0,
              "ticks": ""
             }
            },
            "marker": {
             "colorbar": {
              "outlinewidth": 0,
              "ticks": ""
             }
            },
            "type": "scatter3d"
           }
          ],
          "scattercarpet": [
           {
            "marker": {
             "colorbar": {
              "outlinewidth": 0,
              "ticks": ""
             }
            },
            "type": "scattercarpet"
           }
          ],
          "scattergeo": [
           {
            "marker": {
             "colorbar": {
              "outlinewidth": 0,
              "ticks": ""
             }
            },
            "type": "scattergeo"
           }
          ],
          "scattergl": [
           {
            "marker": {
             "colorbar": {
              "outlinewidth": 0,
              "ticks": ""
             }
            },
            "type": "scattergl"
           }
          ],
          "scattermap": [
           {
            "marker": {
             "colorbar": {
              "outlinewidth": 0,
              "ticks": ""
             }
            },
            "type": "scattermap"
           }
          ],
          "scattermapbox": [
           {
            "marker": {
             "colorbar": {
              "outlinewidth": 0,
              "ticks": ""
             }
            },
            "type": "scattermapbox"
           }
          ],
          "scatterpolar": [
           {
            "marker": {
             "colorbar": {
              "outlinewidth": 0,
              "ticks": ""
             }
            },
            "type": "scatterpolar"
           }
          ],
          "scatterpolargl": [
           {
            "marker": {
             "colorbar": {
              "outlinewidth": 0,
              "ticks": ""
             }
            },
            "type": "scatterpolargl"
           }
          ],
          "scatterternary": [
           {
            "marker": {
             "colorbar": {
              "outlinewidth": 0,
              "ticks": ""
             }
            },
            "type": "scatterternary"
           }
          ],
          "surface": [
           {
            "colorbar": {
             "outlinewidth": 0,
             "ticks": ""
            },
            "colorscale": [
             [
              0,
              "#0d0887"
             ],
             [
              0.1111111111111111,
              "#46039f"
             ],
             [
              0.2222222222222222,
              "#7201a8"
             ],
             [
              0.3333333333333333,
              "#9c179e"
             ],
             [
              0.4444444444444444,
              "#bd3786"
             ],
             [
              0.5555555555555556,
              "#d8576b"
             ],
             [
              0.6666666666666666,
              "#ed7953"
             ],
             [
              0.7777777777777778,
              "#fb9f3a"
             ],
             [
              0.8888888888888888,
              "#fdca26"
             ],
             [
              1,
              "#f0f921"
             ]
            ],
            "type": "surface"
           }
          ],
          "table": [
           {
            "cells": {
             "fill": {
              "color": "#EBF0F8"
             },
             "line": {
              "color": "white"
             }
            },
            "header": {
             "fill": {
              "color": "#C8D4E3"
             },
             "line": {
              "color": "white"
             }
            },
            "type": "table"
           }
          ]
         },
         "layout": {
          "annotationdefaults": {
           "arrowcolor": "#2a3f5f",
           "arrowhead": 0,
           "arrowwidth": 1
          },
          "autotypenumbers": "strict",
          "coloraxis": {
           "colorbar": {
            "outlinewidth": 0,
            "ticks": ""
           }
          },
          "colorscale": {
           "diverging": [
            [
             0,
             "#8e0152"
            ],
            [
             0.1,
             "#c51b7d"
            ],
            [
             0.2,
             "#de77ae"
            ],
            [
             0.3,
             "#f1b6da"
            ],
            [
             0.4,
             "#fde0ef"
            ],
            [
             0.5,
             "#f7f7f7"
            ],
            [
             0.6,
             "#e6f5d0"
            ],
            [
             0.7,
             "#b8e186"
            ],
            [
             0.8,
             "#7fbc41"
            ],
            [
             0.9,
             "#4d9221"
            ],
            [
             1,
             "#276419"
            ]
           ],
           "sequential": [
            [
             0,
             "#0d0887"
            ],
            [
             0.1111111111111111,
             "#46039f"
            ],
            [
             0.2222222222222222,
             "#7201a8"
            ],
            [
             0.3333333333333333,
             "#9c179e"
            ],
            [
             0.4444444444444444,
             "#bd3786"
            ],
            [
             0.5555555555555556,
             "#d8576b"
            ],
            [
             0.6666666666666666,
             "#ed7953"
            ],
            [
             0.7777777777777778,
             "#fb9f3a"
            ],
            [
             0.8888888888888888,
             "#fdca26"
            ],
            [
             1,
             "#f0f921"
            ]
           ],
           "sequentialminus": [
            [
             0,
             "#0d0887"
            ],
            [
             0.1111111111111111,
             "#46039f"
            ],
            [
             0.2222222222222222,
             "#7201a8"
            ],
            [
             0.3333333333333333,
             "#9c179e"
            ],
            [
             0.4444444444444444,
             "#bd3786"
            ],
            [
             0.5555555555555556,
             "#d8576b"
            ],
            [
             0.6666666666666666,
             "#ed7953"
            ],
            [
             0.7777777777777778,
             "#fb9f3a"
            ],
            [
             0.8888888888888888,
             "#fdca26"
            ],
            [
             1,
             "#f0f921"
            ]
           ]
          },
          "colorway": [
           "#636efa",
           "#EF553B",
           "#00cc96",
           "#ab63fa",
           "#FFA15A",
           "#19d3f3",
           "#FF6692",
           "#B6E880",
           "#FF97FF",
           "#FECB52"
          ],
          "font": {
           "color": "#2a3f5f"
          },
          "geo": {
           "bgcolor": "white",
           "lakecolor": "white",
           "landcolor": "white",
           "showlakes": true,
           "showland": true,
           "subunitcolor": "#C8D4E3"
          },
          "hoverlabel": {
           "align": "left"
          },
          "hovermode": "closest",
          "mapbox": {
           "style": "light"
          },
          "paper_bgcolor": "white",
          "plot_bgcolor": "white",
          "polar": {
           "angularaxis": {
            "gridcolor": "#EBF0F8",
            "linecolor": "#EBF0F8",
            "ticks": ""
           },
           "bgcolor": "white",
           "radialaxis": {
            "gridcolor": "#EBF0F8",
            "linecolor": "#EBF0F8",
            "ticks": ""
           }
          },
          "scene": {
           "xaxis": {
            "backgroundcolor": "white",
            "gridcolor": "#DFE8F3",
            "gridwidth": 2,
            "linecolor": "#EBF0F8",
            "showbackground": true,
            "ticks": "",
            "zerolinecolor": "#EBF0F8"
           },
           "yaxis": {
            "backgroundcolor": "white",
            "gridcolor": "#DFE8F3",
            "gridwidth": 2,
            "linecolor": "#EBF0F8",
            "showbackground": true,
            "ticks": "",
            "zerolinecolor": "#EBF0F8"
           },
           "zaxis": {
            "backgroundcolor": "white",
            "gridcolor": "#DFE8F3",
            "gridwidth": 2,
            "linecolor": "#EBF0F8",
            "showbackground": true,
            "ticks": "",
            "zerolinecolor": "#EBF0F8"
           }
          },
          "shapedefaults": {
           "line": {
            "color": "#2a3f5f"
           }
          },
          "ternary": {
           "aaxis": {
            "gridcolor": "#DFE8F3",
            "linecolor": "#A2B1C6",
            "ticks": ""
           },
           "baxis": {
            "gridcolor": "#DFE8F3",
            "linecolor": "#A2B1C6",
            "ticks": ""
           },
           "bgcolor": "white",
           "caxis": {
            "gridcolor": "#DFE8F3",
            "linecolor": "#A2B1C6",
            "ticks": ""
           }
          },
          "title": {
           "x": 0.05
          },
          "xaxis": {
           "automargin": true,
           "gridcolor": "#EBF0F8",
           "linecolor": "#EBF0F8",
           "ticks": "",
           "title": {
            "standoff": 15
           },
           "zerolinecolor": "#EBF0F8",
           "zerolinewidth": 2
          },
          "yaxis": {
           "automargin": true,
           "gridcolor": "#EBF0F8",
           "linecolor": "#EBF0F8",
           "ticks": "",
           "title": {
            "standoff": 15
           },
           "zerolinecolor": "#EBF0F8",
           "zerolinewidth": 2
          }
         }
        },
        "title": {
         "text": "Evolução das 10 culturas mais produzidas"
        },
        "xaxis": {
         "anchor": "y",
         "domain": [
          0,
          1
         ],
         "title": {
          "text": "Ano"
         }
        },
        "yaxis": {
         "anchor": "x",
         "domain": [
          0,
          1
         ],
         "title": {
          "text": "Produção (t)"
         }
        }
       }
      }
     },
     "metadata": {},
     "output_type": "display_data"
    }
   ],
   "source": [
    "import plotly.express as px\n",
    "import plotly.graph_objects as go\n",
    "\n",
    "\n",
    "# 1. descobrir as 10 culturas mais produzidas no total\n",
    "top10_culturas = (\n",
    "    df_all.groupby(\"Cultura\")[\"Produção\"]\n",
    "    .sum()\n",
    "    .nlargest(10)\n",
    "    .index\n",
    ")\n",
    "\n",
    "# 2. filtrar só essas culturas\n",
    "df_top10 = df_all[df_all[\"Cultura\"].isin(top10_culturas)]\n",
    "\n",
    "# 3. gráfico interativo\n",
    "fig = px.line(\n",
    "    df_top10,\n",
    "    x=\"Ano\",\n",
    "    y=\"Produção\",\n",
    "    color=\"Cultura\",\n",
    "    markers=True,\n",
    "    title=\"Evolução das 10 culturas mais produzidas\"\n",
    ")\n",
    "\n",
    "# layout mais limpo\n",
    "fig.update_layout(\n",
    "    xaxis_title=\"Ano\",\n",
    "    yaxis_title=\"Produção (t)\",\n",
    "    legend_title=\"Cultura\",\n",
    "    template=\"plotly_white\"\n",
    ")\n",
    "\n",
    "fig.show()\n"
   ]
  },
  {
   "cell_type": "code",
   "execution_count": 19,
   "id": "37ea5859",
   "metadata": {},
   "outputs": [
    {
     "data": {
      "application/vnd.plotly.v1+json": {
       "config": {
        "plotlyServerURL": "https://plot.ly"
       },
       "data": [
        {
         "hovertemplate": "Cultura=Anona<br>Ano=%{x}<br>Superfície=%{y}<extra></extra>",
         "legendgroup": "Anona",
         "line": {
          "color": "#636efa",
          "dash": "solid"
         },
         "marker": {
          "symbol": "circle"
         },
         "mode": "lines+markers",
         "name": "Anona",
         "orientation": "v",
         "showlegend": true,
         "type": "scatter",
         "x": {
          "bdata": "4wfkB+UH5gfnB+gH",
          "dtype": "i2"
         },
         "xaxis": "x",
         "y": {
          "bdata": "iEFg5dAyXUCIQWDl0DJdQIhBYOXQMl1AAAAAAAAAXkAHlHgLG/xdQAAAAAAAAF9A",
          "dtype": "f8"
         },
         "yaxis": "y"
        },
        {
         "hovertemplate": "Cultura=Banana<br>Ano=%{x}<br>Superfície=%{y}<extra></extra>",
         "legendgroup": "Banana",
         "line": {
          "color": "#EF553B",
          "dash": "solid"
         },
         "marker": {
          "symbol": "circle"
         },
         "mode": "lines+markers",
         "name": "Banana",
         "orientation": "v",
         "showlegend": true,
         "type": "scatter",
         "x": {
          "bdata": "4wfkB+UH5gfnB+gH",
          "dtype": "i2"
         },
         "xaxis": "x",
         "y": {
          "bdata": "WRe30QDAiUBZF7fRAMCJQJ+u7ljsAYpAAAAAAABQi0AAAAAAAJiLQAAAAAAA2ItA",
          "dtype": "f8"
         },
         "yaxis": "y"
        },
        {
         "hovertemplate": "Cultura=Batata<br>Ano=%{x}<br>Superfície=%{y}<extra></extra>",
         "legendgroup": "Batata",
         "line": {
          "color": "#00cc96",
          "dash": "solid"
         },
         "marker": {
          "symbol": "circle"
         },
         "mode": "lines+markers",
         "name": "Batata",
         "orientation": "v",
         "showlegend": true,
         "type": "scatter",
         "x": {
          "bdata": "4wfkB+UH5gfnB+gH",
          "dtype": "i2"
         },
         "xaxis": "x",
         "y": {
          "bdata": "exSuR+EMjED0XRH8LwOLQMyG3XKrSIpAAAAAAACYh0AAAAAAAICBQAAAAAAAmIJA",
          "dtype": "f8"
         },
         "yaxis": "y"
        },
        {
         "hovertemplate": "Cultura=Batata-doce<br>Ano=%{x}<br>Superfície=%{y}<extra></extra>",
         "legendgroup": "Batata-doce",
         "line": {
          "color": "#ab63fa",
          "dash": "solid"
         },
         "marker": {
          "symbol": "circle"
         },
         "mode": "lines+markers",
         "name": "Batata-doce",
         "orientation": "v",
         "showlegend": true,
         "type": "scatter",
         "x": {
          "bdata": "4wfkB+UH5gfnB+gH",
          "dtype": "i2"
         },
         "xaxis": "x",
         "y": {
          "bdata": "XI/C9SjgekBcj8L1KOB6QAAAAAAA4HpAAAAAAADwekAAAAAAACB7QAAAAAAA4HVA",
          "dtype": "f8"
         },
         "yaxis": "y"
        },
        {
         "hovertemplate": "Cultura=Cana-de-açúcar<br>Ano=%{x}<br>Superfície=%{y}<extra></extra>",
         "legendgroup": "Cana-de-açúcar",
         "line": {
          "color": "#FFA15A",
          "dash": "solid"
         },
         "marker": {
          "symbol": "circle"
         },
         "mode": "lines+markers",
         "name": "Cana-de-açúcar",
         "orientation": "v",
         "showlegend": true,
         "type": "scatter",
         "x": {
          "bdata": "4wfkB+UH5gfnB+gH",
          "dtype": "i2"
         },
         "xaxis": "x",
         "y": {
          "bdata": "4XoUrkexZUDhehSuR7FlQOF6FK5HsWVAAAAAAADAZUAAAAAAAGBjQAAAAAAAYGNA",
          "dtype": "f8"
         },
         "yaxis": "y"
        },
        {
         "hovertemplate": "Cultura=Cebola<br>Ano=%{x}<br>Superfície=%{y}<extra></extra>",
         "legendgroup": "Cebola",
         "line": {
          "color": "#19d3f3",
          "dash": "solid"
         },
         "marker": {
          "symbol": "circle"
         },
         "mode": "lines+markers",
         "name": "Cebola",
         "orientation": "v",
         "showlegend": true,
         "type": "scatter",
         "x": {
          "bdata": "4wfkB+UH5gfnB+gH",
          "dtype": "i2"
         },
         "xaxis": "x",
         "y": {
          "bdata": "j8L1KFwHYUCPwvUoXAdhQHctIR/0MmFAAAAAAAAAYUAAAAAAAOBgQAAAAAAAAGFA",
          "dtype": "f8"
         },
         "yaxis": "y"
        },
        {
         "hovertemplate": "Cultura=Feijão maduro<br>Ano=%{x}<br>Superfície=%{y}<extra></extra>",
         "legendgroup": "Feijão maduro",
         "line": {
          "color": "#FF6692",
          "dash": "solid"
         },
         "marker": {
          "symbol": "circle"
         },
         "mode": "lines+markers",
         "name": "Feijão maduro",
         "orientation": "v",
         "showlegend": true,
         "type": "scatter",
         "x": {
          "bdata": "4wfkB+UH5gfnB+gH",
          "dtype": "i2"
         },
         "xaxis": "x",
         "y": {
          "bdata": "AAAAAAAgXkAAAAAAACBeQIXrUbgebV5AAAAAAACAXkAAAAAAAMBfQAAAAAAAwF9A",
          "dtype": "f8"
         },
         "yaxis": "y"
        },
        {
         "hovertemplate": "Cultura=Feijão-verde<br>Ano=%{x}<br>Superfície=%{y}<extra></extra>",
         "legendgroup": "Feijão-verde",
         "line": {
          "color": "#B6E880",
          "dash": "solid"
         },
         "marker": {
          "symbol": "circle"
         },
         "mode": "lines+markers",
         "name": "Feijão-verde",
         "orientation": "v",
         "showlegend": true,
         "type": "scatter",
         "x": {
          "bdata": "4wfkB+UH5gfnB+gH",
          "dtype": "i2"
         },
         "xaxis": "x",
         "y": {
          "bdata": "AAAAAABAXEA9CtejcF1cQJAPejar7lxAAAAAAADAXUCsAN9t3sxdQAAAAAAAgF5A",
          "dtype": "f8"
         },
         "yaxis": "y"
        },
        {
         "hovertemplate": "Cultura=Milho p/maçaroca<br>Ano=%{x}<br>Superfície=%{y}<extra></extra>",
         "legendgroup": "Milho p/maçaroca",
         "line": {
          "color": "#FF97FF",
          "dash": "solid"
         },
         "marker": {
          "symbol": "circle"
         },
         "mode": "lines+markers",
         "name": "Milho p/maçaroca",
         "orientation": "v",
         "showlegend": true,
         "type": "scatter",
         "x": {
          "bdata": "4wfkB+UH5gfnB+gH",
          "dtype": "i2"
         },
         "xaxis": "x",
         "y": {
          "bdata": "5ujxe1s1XEDm6PF7WzVcQObo8XtbNVxAAAAAAACAXEAAAAAAAEBdQAAAAAAAQF1A",
          "dtype": "f8"
         },
         "yaxis": "y"
        },
        {
         "hovertemplate": "Cultura=Vinha (vitis vinifera) (a)<br>Ano=%{x}<br>Superfície=%{y}<extra></extra>",
         "legendgroup": "Vinha (vitis vinifera) (a)",
         "line": {
          "color": "#FECB52",
          "dash": "solid"
         },
         "marker": {
          "symbol": "circle"
         },
         "mode": "lines+markers",
         "name": "Vinha (vitis vinifera) (a)",
         "orientation": "v",
         "showlegend": true,
         "type": "scatter",
         "x": {
          "bdata": "4wfkB+UH5gfnB+gH",
          "dtype": "i2"
         },
         "xaxis": "x",
         "y": {
          "bdata": "AAAAAACge0BnZmZmZmZ6QBFYObTIgHlAAAAAAAAweUDo+6nx0vN4QAAAAAAAwHdA",
          "dtype": "f8"
         },
         "yaxis": "y"
        }
       ],
       "layout": {
        "legend": {
         "title": {
          "text": "Cultura"
         },
         "tracegroupgap": 0
        },
        "template": {
         "data": {
          "bar": [
           {
            "error_x": {
             "color": "#2a3f5f"
            },
            "error_y": {
             "color": "#2a3f5f"
            },
            "marker": {
             "line": {
              "color": "white",
              "width": 0.5
             },
             "pattern": {
              "fillmode": "overlay",
              "size": 10,
              "solidity": 0.2
             }
            },
            "type": "bar"
           }
          ],
          "barpolar": [
           {
            "marker": {
             "line": {
              "color": "white",
              "width": 0.5
             },
             "pattern": {
              "fillmode": "overlay",
              "size": 10,
              "solidity": 0.2
             }
            },
            "type": "barpolar"
           }
          ],
          "carpet": [
           {
            "aaxis": {
             "endlinecolor": "#2a3f5f",
             "gridcolor": "#C8D4E3",
             "linecolor": "#C8D4E3",
             "minorgridcolor": "#C8D4E3",
             "startlinecolor": "#2a3f5f"
            },
            "baxis": {
             "endlinecolor": "#2a3f5f",
             "gridcolor": "#C8D4E3",
             "linecolor": "#C8D4E3",
             "minorgridcolor": "#C8D4E3",
             "startlinecolor": "#2a3f5f"
            },
            "type": "carpet"
           }
          ],
          "choropleth": [
           {
            "colorbar": {
             "outlinewidth": 0,
             "ticks": ""
            },
            "type": "choropleth"
           }
          ],
          "contour": [
           {
            "colorbar": {
             "outlinewidth": 0,
             "ticks": ""
            },
            "colorscale": [
             [
              0,
              "#0d0887"
             ],
             [
              0.1111111111111111,
              "#46039f"
             ],
             [
              0.2222222222222222,
              "#7201a8"
             ],
             [
              0.3333333333333333,
              "#9c179e"
             ],
             [
              0.4444444444444444,
              "#bd3786"
             ],
             [
              0.5555555555555556,
              "#d8576b"
             ],
             [
              0.6666666666666666,
              "#ed7953"
             ],
             [
              0.7777777777777778,
              "#fb9f3a"
             ],
             [
              0.8888888888888888,
              "#fdca26"
             ],
             [
              1,
              "#f0f921"
             ]
            ],
            "type": "contour"
           }
          ],
          "contourcarpet": [
           {
            "colorbar": {
             "outlinewidth": 0,
             "ticks": ""
            },
            "type": "contourcarpet"
           }
          ],
          "heatmap": [
           {
            "colorbar": {
             "outlinewidth": 0,
             "ticks": ""
            },
            "colorscale": [
             [
              0,
              "#0d0887"
             ],
             [
              0.1111111111111111,
              "#46039f"
             ],
             [
              0.2222222222222222,
              "#7201a8"
             ],
             [
              0.3333333333333333,
              "#9c179e"
             ],
             [
              0.4444444444444444,
              "#bd3786"
             ],
             [
              0.5555555555555556,
              "#d8576b"
             ],
             [
              0.6666666666666666,
              "#ed7953"
             ],
             [
              0.7777777777777778,
              "#fb9f3a"
             ],
             [
              0.8888888888888888,
              "#fdca26"
             ],
             [
              1,
              "#f0f921"
             ]
            ],
            "type": "heatmap"
           }
          ],
          "histogram": [
           {
            "marker": {
             "pattern": {
              "fillmode": "overlay",
              "size": 10,
              "solidity": 0.2
             }
            },
            "type": "histogram"
           }
          ],
          "histogram2d": [
           {
            "colorbar": {
             "outlinewidth": 0,
             "ticks": ""
            },
            "colorscale": [
             [
              0,
              "#0d0887"
             ],
             [
              0.1111111111111111,
              "#46039f"
             ],
             [
              0.2222222222222222,
              "#7201a8"
             ],
             [
              0.3333333333333333,
              "#9c179e"
             ],
             [
              0.4444444444444444,
              "#bd3786"
             ],
             [
              0.5555555555555556,
              "#d8576b"
             ],
             [
              0.6666666666666666,
              "#ed7953"
             ],
             [
              0.7777777777777778,
              "#fb9f3a"
             ],
             [
              0.8888888888888888,
              "#fdca26"
             ],
             [
              1,
              "#f0f921"
             ]
            ],
            "type": "histogram2d"
           }
          ],
          "histogram2dcontour": [
           {
            "colorbar": {
             "outlinewidth": 0,
             "ticks": ""
            },
            "colorscale": [
             [
              0,
              "#0d0887"
             ],
             [
              0.1111111111111111,
              "#46039f"
             ],
             [
              0.2222222222222222,
              "#7201a8"
             ],
             [
              0.3333333333333333,
              "#9c179e"
             ],
             [
              0.4444444444444444,
              "#bd3786"
             ],
             [
              0.5555555555555556,
              "#d8576b"
             ],
             [
              0.6666666666666666,
              "#ed7953"
             ],
             [
              0.7777777777777778,
              "#fb9f3a"
             ],
             [
              0.8888888888888888,
              "#fdca26"
             ],
             [
              1,
              "#f0f921"
             ]
            ],
            "type": "histogram2dcontour"
           }
          ],
          "mesh3d": [
           {
            "colorbar": {
             "outlinewidth": 0,
             "ticks": ""
            },
            "type": "mesh3d"
           }
          ],
          "parcoords": [
           {
            "line": {
             "colorbar": {
              "outlinewidth": 0,
              "ticks": ""
             }
            },
            "type": "parcoords"
           }
          ],
          "pie": [
           {
            "automargin": true,
            "type": "pie"
           }
          ],
          "scatter": [
           {
            "fillpattern": {
             "fillmode": "overlay",
             "size": 10,
             "solidity": 0.2
            },
            "type": "scatter"
           }
          ],
          "scatter3d": [
           {
            "line": {
             "colorbar": {
              "outlinewidth": 0,
              "ticks": ""
             }
            },
            "marker": {
             "colorbar": {
              "outlinewidth": 0,
              "ticks": ""
             }
            },
            "type": "scatter3d"
           }
          ],
          "scattercarpet": [
           {
            "marker": {
             "colorbar": {
              "outlinewidth": 0,
              "ticks": ""
             }
            },
            "type": "scattercarpet"
           }
          ],
          "scattergeo": [
           {
            "marker": {
             "colorbar": {
              "outlinewidth": 0,
              "ticks": ""
             }
            },
            "type": "scattergeo"
           }
          ],
          "scattergl": [
           {
            "marker": {
             "colorbar": {
              "outlinewidth": 0,
              "ticks": ""
             }
            },
            "type": "scattergl"
           }
          ],
          "scattermap": [
           {
            "marker": {
             "colorbar": {
              "outlinewidth": 0,
              "ticks": ""
             }
            },
            "type": "scattermap"
           }
          ],
          "scattermapbox": [
           {
            "marker": {
             "colorbar": {
              "outlinewidth": 0,
              "ticks": ""
             }
            },
            "type": "scattermapbox"
           }
          ],
          "scatterpolar": [
           {
            "marker": {
             "colorbar": {
              "outlinewidth": 0,
              "ticks": ""
             }
            },
            "type": "scatterpolar"
           }
          ],
          "scatterpolargl": [
           {
            "marker": {
             "colorbar": {
              "outlinewidth": 0,
              "ticks": ""
             }
            },
            "type": "scatterpolargl"
           }
          ],
          "scatterternary": [
           {
            "marker": {
             "colorbar": {
              "outlinewidth": 0,
              "ticks": ""
             }
            },
            "type": "scatterternary"
           }
          ],
          "surface": [
           {
            "colorbar": {
             "outlinewidth": 0,
             "ticks": ""
            },
            "colorscale": [
             [
              0,
              "#0d0887"
             ],
             [
              0.1111111111111111,
              "#46039f"
             ],
             [
              0.2222222222222222,
              "#7201a8"
             ],
             [
              0.3333333333333333,
              "#9c179e"
             ],
             [
              0.4444444444444444,
              "#bd3786"
             ],
             [
              0.5555555555555556,
              "#d8576b"
             ],
             [
              0.6666666666666666,
              "#ed7953"
             ],
             [
              0.7777777777777778,
              "#fb9f3a"
             ],
             [
              0.8888888888888888,
              "#fdca26"
             ],
             [
              1,
              "#f0f921"
             ]
            ],
            "type": "surface"
           }
          ],
          "table": [
           {
            "cells": {
             "fill": {
              "color": "#EBF0F8"
             },
             "line": {
              "color": "white"
             }
            },
            "header": {
             "fill": {
              "color": "#C8D4E3"
             },
             "line": {
              "color": "white"
             }
            },
            "type": "table"
           }
          ]
         },
         "layout": {
          "annotationdefaults": {
           "arrowcolor": "#2a3f5f",
           "arrowhead": 0,
           "arrowwidth": 1
          },
          "autotypenumbers": "strict",
          "coloraxis": {
           "colorbar": {
            "outlinewidth": 0,
            "ticks": ""
           }
          },
          "colorscale": {
           "diverging": [
            [
             0,
             "#8e0152"
            ],
            [
             0.1,
             "#c51b7d"
            ],
            [
             0.2,
             "#de77ae"
            ],
            [
             0.3,
             "#f1b6da"
            ],
            [
             0.4,
             "#fde0ef"
            ],
            [
             0.5,
             "#f7f7f7"
            ],
            [
             0.6,
             "#e6f5d0"
            ],
            [
             0.7,
             "#b8e186"
            ],
            [
             0.8,
             "#7fbc41"
            ],
            [
             0.9,
             "#4d9221"
            ],
            [
             1,
             "#276419"
            ]
           ],
           "sequential": [
            [
             0,
             "#0d0887"
            ],
            [
             0.1111111111111111,
             "#46039f"
            ],
            [
             0.2222222222222222,
             "#7201a8"
            ],
            [
             0.3333333333333333,
             "#9c179e"
            ],
            [
             0.4444444444444444,
             "#bd3786"
            ],
            [
             0.5555555555555556,
             "#d8576b"
            ],
            [
             0.6666666666666666,
             "#ed7953"
            ],
            [
             0.7777777777777778,
             "#fb9f3a"
            ],
            [
             0.8888888888888888,
             "#fdca26"
            ],
            [
             1,
             "#f0f921"
            ]
           ],
           "sequentialminus": [
            [
             0,
             "#0d0887"
            ],
            [
             0.1111111111111111,
             "#46039f"
            ],
            [
             0.2222222222222222,
             "#7201a8"
            ],
            [
             0.3333333333333333,
             "#9c179e"
            ],
            [
             0.4444444444444444,
             "#bd3786"
            ],
            [
             0.5555555555555556,
             "#d8576b"
            ],
            [
             0.6666666666666666,
             "#ed7953"
            ],
            [
             0.7777777777777778,
             "#fb9f3a"
            ],
            [
             0.8888888888888888,
             "#fdca26"
            ],
            [
             1,
             "#f0f921"
            ]
           ]
          },
          "colorway": [
           "#636efa",
           "#EF553B",
           "#00cc96",
           "#ab63fa",
           "#FFA15A",
           "#19d3f3",
           "#FF6692",
           "#B6E880",
           "#FF97FF",
           "#FECB52"
          ],
          "font": {
           "color": "#2a3f5f"
          },
          "geo": {
           "bgcolor": "white",
           "lakecolor": "white",
           "landcolor": "white",
           "showlakes": true,
           "showland": true,
           "subunitcolor": "#C8D4E3"
          },
          "hoverlabel": {
           "align": "left"
          },
          "hovermode": "closest",
          "mapbox": {
           "style": "light"
          },
          "paper_bgcolor": "white",
          "plot_bgcolor": "white",
          "polar": {
           "angularaxis": {
            "gridcolor": "#EBF0F8",
            "linecolor": "#EBF0F8",
            "ticks": ""
           },
           "bgcolor": "white",
           "radialaxis": {
            "gridcolor": "#EBF0F8",
            "linecolor": "#EBF0F8",
            "ticks": ""
           }
          },
          "scene": {
           "xaxis": {
            "backgroundcolor": "white",
            "gridcolor": "#DFE8F3",
            "gridwidth": 2,
            "linecolor": "#EBF0F8",
            "showbackground": true,
            "ticks": "",
            "zerolinecolor": "#EBF0F8"
           },
           "yaxis": {
            "backgroundcolor": "white",
            "gridcolor": "#DFE8F3",
            "gridwidth": 2,
            "linecolor": "#EBF0F8",
            "showbackground": true,
            "ticks": "",
            "zerolinecolor": "#EBF0F8"
           },
           "zaxis": {
            "backgroundcolor": "white",
            "gridcolor": "#DFE8F3",
            "gridwidth": 2,
            "linecolor": "#EBF0F8",
            "showbackground": true,
            "ticks": "",
            "zerolinecolor": "#EBF0F8"
           }
          },
          "shapedefaults": {
           "line": {
            "color": "#2a3f5f"
           }
          },
          "ternary": {
           "aaxis": {
            "gridcolor": "#DFE8F3",
            "linecolor": "#A2B1C6",
            "ticks": ""
           },
           "baxis": {
            "gridcolor": "#DFE8F3",
            "linecolor": "#A2B1C6",
            "ticks": ""
           },
           "bgcolor": "white",
           "caxis": {
            "gridcolor": "#DFE8F3",
            "linecolor": "#A2B1C6",
            "ticks": ""
           }
          },
          "title": {
           "x": 0.05
          },
          "xaxis": {
           "automargin": true,
           "gridcolor": "#EBF0F8",
           "linecolor": "#EBF0F8",
           "ticks": "",
           "title": {
            "standoff": 15
           },
           "zerolinecolor": "#EBF0F8",
           "zerolinewidth": 2
          },
          "yaxis": {
           "automargin": true,
           "gridcolor": "#EBF0F8",
           "linecolor": "#EBF0F8",
           "ticks": "",
           "title": {
            "standoff": 15
           },
           "zerolinecolor": "#EBF0F8",
           "zerolinewidth": 2
          }
         }
        },
        "title": {
         "text": "Evolution of Top 10 Crops with the most area in Madeira (2019–2024)"
        },
        "xaxis": {
         "anchor": "y",
         "domain": [
          0,
          1
         ],
         "title": {
          "text": "Ano"
         }
        },
        "yaxis": {
         "anchor": "x",
         "domain": [
          0,
          1
         ],
         "title": {
          "text": "Superfície (ha)"
         }
        }
       }
      }
     },
     "metadata": {},
     "output_type": "display_data"
    }
   ],
   "source": [
    "import plotly.graph_objects as go\n",
    "\n",
    "\n",
    "# 1. descobrir as 10 culturas mais produzidas no total\n",
    "top10_culturas = (\n",
    "    df_all.groupby(\"Cultura\")[\"Superfície\"]\n",
    "    .sum()\n",
    "    .nlargest(10)\n",
    "    .index\n",
    ")\n",
    "\n",
    "# 2. filtrar só essas culturas\n",
    "df_top10 = df_all[df_all[\"Cultura\"].isin(top10_culturas)]\n",
    "\n",
    "# 3. gráfico interativo\n",
    "fig = px.line(\n",
    "    df_top10,\n",
    "    x=\"Ano\",\n",
    "    y=\"Superfície\",\n",
    "    color=\"Cultura\",\n",
    "    markers=True,\n",
    "    title=\"Evolution of Top 10 Crops with the most area in Madeira (2019–2024)\"\n",
    ")\n",
    "\n",
    "# layout mais limpo\n",
    "fig.update_layout(\n",
    "    xaxis_title=\"Ano\",\n",
    "    yaxis_title=\"Superfície (ha)\",\n",
    "    legend_title=\"Cultura\",\n",
    "    template=\"plotly_white\"\n",
    ")\n",
    "\n",
    "fig.show()"
   ]
  },
  {
   "cell_type": "markdown",
   "id": "90318de7",
   "metadata": {},
   "source": [
    "Prices in the producer"
   ]
  },
  {
   "cell_type": "code",
   "execution_count": 20,
   "id": "9ef7f2ad",
   "metadata": {},
   "outputs": [
    {
     "name": "stdout",
     "output_type": "stream",
     "text": [
      "                        categoria produtos_agricolas      unidade   Ano  \\\n",
      "0             Plantas Industriais     Cana-de-açúcar  Euro/100 kg  2010   \n",
      "1  Vegetais e Produtos Hortícolas             Alface  Euro/100 kg  2010   \n",
      "2  Vegetais e Produtos Hortícolas      Couve repolho  Euro/100 kg  2010   \n",
      "3  Vegetais e Produtos Hortícolas            Tomate   Euro/100 kg  2010   \n",
      "4  Vegetais e Produtos Hortícolas            Cenoura  Euro/100 kg  2010   \n",
      "\n",
      "    Preco  \n",
      "0   25.00  \n",
      "1  206.53  \n",
      "2   65.01  \n",
      "3  114.38  \n",
      "4  117.68  \n",
      "(555, 5)\n"
     ]
    }
   ],
   "source": [
    "import pandas as pd\n",
    "\n",
    "# 1) Ler o ficheiro já limpo\n",
    "df = pd.read_excel(r\"C:\\Users\\sofia\\Documents\\Data_Analytics_Ironhack\\Projects\\ironhack_final_project\\Datasets\\Prices_data\\preco_no_produtor.xlsx\")\n",
    "\n",
    "# 2) Transformar de wide (anos em colunas) → long (anos em linhas)\n",
    "df_long_crops = df.melt(\n",
    "    id_vars=[\"categoria\", \"produtos_agricolas\", \"unidade\"],\n",
    "    var_name=\"Ano\",\n",
    "    value_name=\"Preco\"\n",
    ")\n",
    "\n",
    "# 3) Conversões\n",
    "df_long_crops[\"Ano\"] = df_long_crops[\"Ano\"].astype(int)\n",
    "df_long_crops[\"Preco\"] = pd.to_numeric(\n",
    "    df_long_crops[\"Preco\"].astype(str).str.replace(\",\", \".\", regex=False),\n",
    "    errors=\"coerce\"\n",
    ")\n",
    "\n",
    "# 4) Ver resultado\n",
    "print(df_long_crops.head())\n",
    "print(df_long_crops.shape)\n",
    "\n",
    "\n"
   ]
  },
  {
   "cell_type": "code",
   "execution_count": 21,
   "id": "4e0ceb63",
   "metadata": {},
   "outputs": [],
   "source": [
    "df_long_crops.to_csv(r\"C:\\Users\\sofia\\Documents\\Data_Analytics_Ironhack\\Projects\\ironhack_final_project\\worked_datasets\\preco_no_produtor.csv\", index=False)"
   ]
  },
  {
   "cell_type": "code",
   "execution_count": 22,
   "id": "f8ebdd94",
   "metadata": {},
   "outputs": [
    {
     "data": {
      "text/plain": [
       "(555, 5)"
      ]
     },
     "execution_count": 22,
     "metadata": {},
     "output_type": "execute_result"
    }
   ],
   "source": [
    "df_long_crops.shape"
   ]
  },
  {
   "cell_type": "code",
   "execution_count": 23,
   "id": "cff3c38d",
   "metadata": {},
   "outputs": [
    {
     "data": {
      "text/plain": [
       "categoria                       produtos_agricolas       unidade      Ano   Preco  \n",
       "Batata de consumo               Batata de conservação    Euro/100 kg  2010  63.17      1\n",
       "Vegetais e Produtos Hortícolas  Acelga                   Euro/100 kg  2022  64.19      1\n",
       "                                                                      2016  62.57      1\n",
       "                                                                      2017  58.43      1\n",
       "                                                                      2018  69.67      1\n",
       "                                                                                      ..\n",
       "Outros produtos vegetais        Batata-doce              Euro/100 kg  2010  184.05     1\n",
       "Mel                             Mel                      Euro/100 kg  2024  650.00     1\n",
       "                                                                      2023  600.00     1\n",
       "                                                                      2022  600.00     1\n",
       "Vinhos                          Vinho de qualidade (DO)  Euro/hl      2024  1260.00    1\n",
       "Name: count, Length: 554, dtype: int64"
      ]
     },
     "execution_count": 23,
     "metadata": {},
     "output_type": "execute_result"
    }
   ],
   "source": [
    "df_long_crops.value_counts()"
   ]
  },
  {
   "cell_type": "code",
   "execution_count": 24,
   "id": "4d96ff97",
   "metadata": {},
   "outputs": [
    {
     "name": "stdout",
     "output_type": "stream",
     "text": [
      "37\n",
      "['Cana-de-açúcar' 'Alface' 'Couve repolho' 'Tomate ' 'Cenoura'\n",
      " 'Feijão verde' 'Cebola' 'Pepino' 'Pimento' 'Courgette' 'Nabo' 'Abóbora'\n",
      " 'Acelga' 'Pimpinela' 'Rosa' 'Cravo' 'Gerbera' 'Estrelícia' 'Antúrio'\n",
      " 'Orquídea']\n"
     ]
    }
   ],
   "source": [
    "print(df_long_crops[\"produtos_agricolas\"].nunique())\n",
    "print(df_long_crops[\"produtos_agricolas\"].unique()[:20]) "
   ]
  },
  {
   "cell_type": "code",
   "execution_count": 25,
   "id": "96907271",
   "metadata": {},
   "outputs": [
    {
     "data": {
      "text/html": [
       "<div>\n",
       "<style scoped>\n",
       "    .dataframe tbody tr th:only-of-type {\n",
       "        vertical-align: middle;\n",
       "    }\n",
       "\n",
       "    .dataframe tbody tr th {\n",
       "        vertical-align: top;\n",
       "    }\n",
       "\n",
       "    .dataframe thead th {\n",
       "        text-align: right;\n",
       "    }\n",
       "</style>\n",
       "<table border=\"1\" class=\"dataframe\">\n",
       "  <thead>\n",
       "    <tr style=\"text-align: right;\">\n",
       "      <th></th>\n",
       "      <th>categoria</th>\n",
       "      <th>produtos_agricolas</th>\n",
       "      <th>unidade</th>\n",
       "      <th>Ano</th>\n",
       "      <th>Preco</th>\n",
       "    </tr>\n",
       "  </thead>\n",
       "  <tbody>\n",
       "    <tr>\n",
       "      <th>0</th>\n",
       "      <td>Plantas Industriais</td>\n",
       "      <td>Cana-de-açúcar</td>\n",
       "      <td>Euro/100 kg</td>\n",
       "      <td>2010</td>\n",
       "      <td>25.00</td>\n",
       "    </tr>\n",
       "    <tr>\n",
       "      <th>1</th>\n",
       "      <td>Vegetais e Produtos Hortícolas</td>\n",
       "      <td>Alface</td>\n",
       "      <td>Euro/100 kg</td>\n",
       "      <td>2010</td>\n",
       "      <td>206.53</td>\n",
       "    </tr>\n",
       "    <tr>\n",
       "      <th>2</th>\n",
       "      <td>Vegetais e Produtos Hortícolas</td>\n",
       "      <td>Couve repolho</td>\n",
       "      <td>Euro/100 kg</td>\n",
       "      <td>2010</td>\n",
       "      <td>65.01</td>\n",
       "    </tr>\n",
       "    <tr>\n",
       "      <th>3</th>\n",
       "      <td>Vegetais e Produtos Hortícolas</td>\n",
       "      <td>Tomate</td>\n",
       "      <td>Euro/100 kg</td>\n",
       "      <td>2010</td>\n",
       "      <td>114.38</td>\n",
       "    </tr>\n",
       "    <tr>\n",
       "      <th>4</th>\n",
       "      <td>Vegetais e Produtos Hortícolas</td>\n",
       "      <td>Cenoura</td>\n",
       "      <td>Euro/100 kg</td>\n",
       "      <td>2010</td>\n",
       "      <td>117.68</td>\n",
       "    </tr>\n",
       "    <tr>\n",
       "      <th>5</th>\n",
       "      <td>Vegetais e Produtos Hortícolas</td>\n",
       "      <td>Feijão verde</td>\n",
       "      <td>Euro/100 kg</td>\n",
       "      <td>2010</td>\n",
       "      <td>203.57</td>\n",
       "    </tr>\n",
       "    <tr>\n",
       "      <th>6</th>\n",
       "      <td>Vegetais e Produtos Hortícolas</td>\n",
       "      <td>Cebola</td>\n",
       "      <td>Euro/100 kg</td>\n",
       "      <td>2010</td>\n",
       "      <td>122.53</td>\n",
       "    </tr>\n",
       "    <tr>\n",
       "      <th>7</th>\n",
       "      <td>Vegetais e Produtos Hortícolas</td>\n",
       "      <td>Pepino</td>\n",
       "      <td>Euro/100 kg</td>\n",
       "      <td>2010</td>\n",
       "      <td>281.23</td>\n",
       "    </tr>\n",
       "    <tr>\n",
       "      <th>8</th>\n",
       "      <td>Vegetais e Produtos Hortícolas</td>\n",
       "      <td>Pimento</td>\n",
       "      <td>Euro/100 kg</td>\n",
       "      <td>2010</td>\n",
       "      <td>112.29</td>\n",
       "    </tr>\n",
       "    <tr>\n",
       "      <th>9</th>\n",
       "      <td>Vegetais e Produtos Hortícolas</td>\n",
       "      <td>Courgette</td>\n",
       "      <td>Euro/100 kg</td>\n",
       "      <td>2010</td>\n",
       "      <td>103.00</td>\n",
       "    </tr>\n",
       "    <tr>\n",
       "      <th>10</th>\n",
       "      <td>Vegetais e Produtos Hortícolas</td>\n",
       "      <td>Nabo</td>\n",
       "      <td>Euro/100 kg</td>\n",
       "      <td>2010</td>\n",
       "      <td>124.66</td>\n",
       "    </tr>\n",
       "    <tr>\n",
       "      <th>11</th>\n",
       "      <td>Vegetais e Produtos Hortícolas</td>\n",
       "      <td>Abóbora</td>\n",
       "      <td>Euro/100 kg</td>\n",
       "      <td>2010</td>\n",
       "      <td>122.75</td>\n",
       "    </tr>\n",
       "    <tr>\n",
       "      <th>12</th>\n",
       "      <td>Vegetais e Produtos Hortícolas</td>\n",
       "      <td>Acelga</td>\n",
       "      <td>Euro/100 kg</td>\n",
       "      <td>2010</td>\n",
       "      <td>103.46</td>\n",
       "    </tr>\n",
       "    <tr>\n",
       "      <th>13</th>\n",
       "      <td>Vegetais e Produtos Hortícolas</td>\n",
       "      <td>Pimpinela</td>\n",
       "      <td>Euro/100 kg</td>\n",
       "      <td>2010</td>\n",
       "      <td>100.90</td>\n",
       "    </tr>\n",
       "    <tr>\n",
       "      <th>14</th>\n",
       "      <td>Plantas e flores</td>\n",
       "      <td>Rosa</td>\n",
       "      <td>Euro/100 unid.</td>\n",
       "      <td>2010</td>\n",
       "      <td>60.66</td>\n",
       "    </tr>\n",
       "    <tr>\n",
       "      <th>15</th>\n",
       "      <td>Plantas e flores</td>\n",
       "      <td>Cravo</td>\n",
       "      <td>Euro/100 unid.</td>\n",
       "      <td>2010</td>\n",
       "      <td>18.90</td>\n",
       "    </tr>\n",
       "    <tr>\n",
       "      <th>16</th>\n",
       "      <td>Plantas e flores</td>\n",
       "      <td>Gerbera</td>\n",
       "      <td>Euro/100 unid.</td>\n",
       "      <td>2010</td>\n",
       "      <td>42.77</td>\n",
       "    </tr>\n",
       "    <tr>\n",
       "      <th>17</th>\n",
       "      <td>Plantas e flores</td>\n",
       "      <td>Estrelícia</td>\n",
       "      <td>Euro/100 unid.</td>\n",
       "      <td>2010</td>\n",
       "      <td>34.58</td>\n",
       "    </tr>\n",
       "    <tr>\n",
       "      <th>18</th>\n",
       "      <td>Plantas e flores</td>\n",
       "      <td>Antúrio</td>\n",
       "      <td>Euro/100 unid.</td>\n",
       "      <td>2010</td>\n",
       "      <td>64.61</td>\n",
       "    </tr>\n",
       "    <tr>\n",
       "      <th>19</th>\n",
       "      <td>Plantas e flores</td>\n",
       "      <td>Orquídea</td>\n",
       "      <td>Euro/100 unid.</td>\n",
       "      <td>2010</td>\n",
       "      <td>339.39</td>\n",
       "    </tr>\n",
       "  </tbody>\n",
       "</table>\n",
       "</div>"
      ],
      "text/plain": [
       "                         categoria produtos_agricolas         unidade   Ano  \\\n",
       "0              Plantas Industriais     Cana-de-açúcar     Euro/100 kg  2010   \n",
       "1   Vegetais e Produtos Hortícolas             Alface     Euro/100 kg  2010   \n",
       "2   Vegetais e Produtos Hortícolas      Couve repolho     Euro/100 kg  2010   \n",
       "3   Vegetais e Produtos Hortícolas            Tomate      Euro/100 kg  2010   \n",
       "4   Vegetais e Produtos Hortícolas            Cenoura     Euro/100 kg  2010   \n",
       "5   Vegetais e Produtos Hortícolas       Feijão verde     Euro/100 kg  2010   \n",
       "6   Vegetais e Produtos Hortícolas             Cebola     Euro/100 kg  2010   \n",
       "7   Vegetais e Produtos Hortícolas             Pepino     Euro/100 kg  2010   \n",
       "8   Vegetais e Produtos Hortícolas            Pimento     Euro/100 kg  2010   \n",
       "9   Vegetais e Produtos Hortícolas          Courgette     Euro/100 kg  2010   \n",
       "10  Vegetais e Produtos Hortícolas               Nabo     Euro/100 kg  2010   \n",
       "11  Vegetais e Produtos Hortícolas            Abóbora     Euro/100 kg  2010   \n",
       "12  Vegetais e Produtos Hortícolas             Acelga     Euro/100 kg  2010   \n",
       "13  Vegetais e Produtos Hortícolas          Pimpinela     Euro/100 kg  2010   \n",
       "14                Plantas e flores               Rosa  Euro/100 unid.  2010   \n",
       "15                Plantas e flores              Cravo  Euro/100 unid.  2010   \n",
       "16                Plantas e flores            Gerbera  Euro/100 unid.  2010   \n",
       "17                Plantas e flores         Estrelícia  Euro/100 unid.  2010   \n",
       "18                Plantas e flores            Antúrio  Euro/100 unid.  2010   \n",
       "19                Plantas e flores           Orquídea  Euro/100 unid.  2010   \n",
       "\n",
       "     Preco  \n",
       "0    25.00  \n",
       "1   206.53  \n",
       "2    65.01  \n",
       "3   114.38  \n",
       "4   117.68  \n",
       "5   203.57  \n",
       "6   122.53  \n",
       "7   281.23  \n",
       "8   112.29  \n",
       "9   103.00  \n",
       "10  124.66  \n",
       "11  122.75  \n",
       "12  103.46  \n",
       "13  100.90  \n",
       "14   60.66  \n",
       "15   18.90  \n",
       "16   42.77  \n",
       "17   34.58  \n",
       "18   64.61  \n",
       "19  339.39  "
      ]
     },
     "execution_count": 25,
     "metadata": {},
     "output_type": "execute_result"
    }
   ],
   "source": [
    "df_long_crops.head(20)"
   ]
  },
  {
   "cell_type": "code",
   "execution_count": 33,
   "id": "c252077a",
   "metadata": {},
   "outputs": [],
   "source": [
    "df_long_crops.to_csv(r\"C:\\Users\\sofia\\Documents\\Data_Analytics_Ironhack\\Projects\\ironhack_final_project\\worked_datasets\\preco_no_produtor.csv\", index=False)"
   ]
  },
  {
   "cell_type": "code",
   "execution_count": 35,
   "id": "8799115a",
   "metadata": {},
   "outputs": [],
   "source": [
    "df_long_crops_copy = df_long_crops.copy()"
   ]
  },
  {
   "cell_type": "code",
   "execution_count": 26,
   "id": "11445be3",
   "metadata": {},
   "outputs": [
    {
     "data": {
      "application/vnd.plotly.v1+json": {
       "config": {
        "plotlyServerURL": "https://plot.ly"
       },
       "data": [
        {
         "hovertemplate": "produtos_agricolas=Feijão verde<br>Ano=%{x}<br>Preco=%{y}<extra></extra>",
         "legendgroup": "Feijão verde",
         "line": {
          "color": "#636efa",
          "dash": "solid"
         },
         "marker": {
          "symbol": "circle"
         },
         "mode": "lines+markers",
         "name": "Feijão verde",
         "orientation": "v",
         "showlegend": true,
         "type": "scatter",
         "x": {
          "bdata": "2gfbB9wH3QfeB98H4AfhB+IH4wfkB+UH5gfnB+gH",
          "dtype": "i2"
         },
         "xaxis": "x",
         "y": {
          "bdata": "CtejcD1yaUCPwvUoXD9tQD0K16NwlXFA7FG4HoWTY0AzMzMzM4tiQM3MzMzMHGFArkfhehQmYkApXI/C9QBkQAAAAAAAoGVA9ihcj8Ila0DsUbgehTtmQEjhehSut2ZAcT0K16PIZ0A9CtejcO1tQM3MzMzM0HFA",
          "dtype": "f8"
         },
         "yaxis": "y"
        },
        {
         "hovertemplate": "produtos_agricolas=Pimento<br>Ano=%{x}<br>Preco=%{y}<extra></extra>",
         "legendgroup": "Pimento",
         "line": {
          "color": "#EF553B",
          "dash": "solid"
         },
         "marker": {
          "symbol": "circle"
         },
         "mode": "lines+markers",
         "name": "Pimento",
         "orientation": "v",
         "showlegend": true,
         "type": "scatter",
         "x": {
          "bdata": "2gfbB9wH3QfeB98H4AfhB+IH4wfkB+UH5gfnB+gH",
          "dtype": "i2"
         },
         "xaxis": "x",
         "y": {
          "bdata": "w/UoXI8SXEA9CtejcI1aQK5H4XoUzl9Aj8L1KFzfXUB7FK5H4RpaQLgehetRuFtA9ihcj8KFW0CkcD0K1yNVQJqZmZmZeWBArkfhehR+WUDNzMzMzFRiQK5H4XoURmZAFK5H4XoMZkBI4XoUru9rQAAAAAAAVHNA",
          "dtype": "f8"
         },
         "yaxis": "y"
        },
        {
         "hovertemplate": "produtos_agricolas=Orquídea<br>Ano=%{x}<br>Preco=%{y}<extra></extra>",
         "legendgroup": "Orquídea",
         "line": {
          "color": "#00cc96",
          "dash": "solid"
         },
         "marker": {
          "symbol": "circle"
         },
         "mode": "lines+markers",
         "name": "Orquídea",
         "orientation": "v",
         "showlegend": true,
         "type": "scatter",
         "x": {
          "bdata": "2gfbB9wH3QfeB98H4AfhB+IH4wfkB+UH5gfnB+gH",
          "dtype": "i2"
         },
         "xaxis": "x",
         "y": {
          "bdata": "CtejcD02dUBxPQrXo/RyQK5H4XoUGnNApHA9CtfDdkBSuB6F6+FRQK5H4XoUrlZAAAAAAABQU0DsUbgehQtHQPYoXI/CBVFAFK5H4Xr0TUAAAAAAAKBNQAAAAAAAQEdAXI/C9ShcRkAzMzMzMzNJQMP1KFyPYkpA",
          "dtype": "f8"
         },
         "yaxis": "y"
        },
        {
         "hovertemplate": "produtos_agricolas=Protea<br>Ano=%{x}<br>Preco=%{y}<extra></extra>",
         "legendgroup": "Protea",
         "line": {
          "color": "#ab63fa",
          "dash": "solid"
         },
         "marker": {
          "symbol": "circle"
         },
         "mode": "lines+markers",
         "name": "Protea",
         "orientation": "v",
         "showlegend": true,
         "type": "scatter",
         "x": {
          "bdata": "2gfbB9wH3QfeB98H4AfhB+IH4wfkB+UH5gfnB+gH",
          "dtype": "i2"
         },
         "xaxis": "x",
         "y": {
          "bdata": "MzMzMzMzXkDXo3A9CmdqQAAAAAAAoGNA7FG4HoWLZEDsUbgehctcQDMzMzMzi2FAMzMzMzNTW0CuR+F6FM5eQM3MzMzMvGpAMzMzMzNjaUAzMzMzMzNjQD0K16NwlWJAPQrXo3CVYkBSuB6F6xljQHsUrkfhqmZA",
          "dtype": "f8"
         },
         "yaxis": "y"
        },
        {
         "hovertemplate": "produtos_agricolas=Cerejas<br>Ano=%{x}<br>Preco=%{y}<extra></extra>",
         "legendgroup": "Cerejas",
         "line": {
          "color": "#FFA15A",
          "dash": "solid"
         },
         "marker": {
          "symbol": "circle"
         },
         "mode": "lines+markers",
         "name": "Cerejas",
         "orientation": "v",
         "showlegend": true,
         "type": "scatter",
         "x": {
          "bdata": "2gfbB9wH3QfeB98H4AfhB+IH4wfkB+UH5gfnB+gH",
          "dtype": "i2"
         },
         "xaxis": "x",
         "y": {
          "bdata": "AAAAAABAb0AAAAAAAGBlQAAAAAAAIGJAAAAAAAAgYkAAAAAAAMBhQAAAAAAAAGNAAAAAAACAY0AAAAAAAMBnQAAAAAAAAGlAAAAAAAAgaUCPwvUoXMN0QAAAAAAAEHBAhetRuB5ZckBI4XoUrr9sQEjhehSuv2xA",
          "dtype": "f8"
         },
         "yaxis": "y"
        },
        {
         "hovertemplate": "produtos_agricolas=Tangerinas<br>Ano=%{x}<br>Preco=%{y}<extra></extra>",
         "legendgroup": "Tangerinas",
         "line": {
          "color": "#19d3f3",
          "dash": "solid"
         },
         "marker": {
          "symbol": "circle"
         },
         "mode": "lines+markers",
         "name": "Tangerinas",
         "orientation": "v",
         "showlegend": true,
         "type": "scatter",
         "x": {
          "bdata": "2gfbB9wH3QfeB98H4AfhB+IH4wfkB+UH5gfnB+gH",
          "dtype": "i2"
         },
         "xaxis": "x",
         "y": {
          "bdata": "uB6F61EYYEAAAAAAADBmQAAAAAAA0GNAAAAAAACgbkAAAAAAACBqQAAAAAAAcGpAAAAAAADgakAAAAAAACBiQAAAAAAAsGRAAAAAAAAgZUAAAAAAACBlQAAAAAAAoGVAuB6F61FwZEAAAAAAAMBoQLgehetRoGpA",
          "dtype": "f8"
         },
         "yaxis": "y"
        },
        {
         "hovertemplate": "produtos_agricolas=Abacate<br>Ano=%{x}<br>Preco=%{y}<extra></extra>",
         "legendgroup": "Abacate",
         "line": {
          "color": "#FF6692",
          "dash": "solid"
         },
         "marker": {
          "symbol": "circle"
         },
         "mode": "lines+markers",
         "name": "Abacate",
         "orientation": "v",
         "showlegend": true,
         "type": "scatter",
         "x": {
          "bdata": "2gfbB9wH3QfeB98H4AfhB+IH4wfkB+UH5gfnB+gH",
          "dtype": "i2"
         },
         "xaxis": "x",
         "y": {
          "bdata": "hetRuB51XEDhehSuR/FYQJqZmZmZeU9AmpmZmZn5UUAK16NwPVpWQK5H4XoUPlZApHA9CtfTW0Bcj8L1KFxfQPYoXI/CVWBAhetRuB5FZ0DsUbgehTNiQJqZmZmZ8WhA16NwPQpnaEA9CtejcLVmQB+F61G4TmdA",
          "dtype": "f8"
         },
         "yaxis": "y"
        },
        {
         "hovertemplate": "produtos_agricolas=Anona<br>Ano=%{x}<br>Preco=%{y}<extra></extra>",
         "legendgroup": "Anona",
         "line": {
          "color": "#B6E880",
          "dash": "solid"
         },
         "marker": {
          "symbol": "circle"
         },
         "mode": "lines+markers",
         "name": "Anona",
         "orientation": "v",
         "showlegend": true,
         "type": "scatter",
         "x": {
          "bdata": "2gfbB9wH3QfeB98H4AfhB+IH4wfkB+UH5gfnB+gH",
          "dtype": "i2"
         },
         "xaxis": "x",
         "y": {
          "bdata": "KVyPwvXoY0CPwvUoXIdiQIXrUbgedVxAH4XrUbiuXUC4HoXrUchdQEjhehSuZ1pAAAAAAAAgX0B7FK5H4TpbQDMzMzMze2FArkfhehSmaUDhehSuR3lmQNejcD0Kb2tAPQrXo3DNaEBxPQrXo6hnQHE9CtejGGxA",
          "dtype": "f8"
         },
         "yaxis": "y"
        },
        {
         "hovertemplate": "produtos_agricolas=Vinho de qualidade (DO)<br>Ano=%{x}<br>Preco=%{y}<extra></extra>",
         "legendgroup": "Vinho de qualidade (DO)",
         "line": {
          "color": "#FF97FF",
          "dash": "solid"
         },
         "marker": {
          "symbol": "circle"
         },
         "mode": "lines+markers",
         "name": "Vinho de qualidade (DO)",
         "orientation": "v",
         "showlegend": true,
         "type": "scatter",
         "x": {
          "bdata": "2gfbB9wH3QfeB98H4AfhB+IH4wfkB+UH5gfnB+gH",
          "dtype": "i2"
         },
         "xaxis": "x",
         "y": {
          "bdata": "AAAAAACYkkBmZmZmZrGSQGZmZmZmsZJAAAAAAABSkUAAAAAAAF6PQAAAAAAACpRAAAAAAADnkEAAAAAAAOeQQHE9CtejO5JACtejcD1qkUAAAAAAAFyQQAAAAAAAj5BAAAAAAAA2kUAAAAAAADGSQAAAAAAAsJNA",
          "dtype": "f8"
         },
         "yaxis": "y"
        },
        {
         "hovertemplate": "produtos_agricolas=Mel<br>Ano=%{x}<br>Preco=%{y}<extra></extra>",
         "legendgroup": "Mel",
         "line": {
          "color": "#FECB52",
          "dash": "solid"
         },
         "marker": {
          "symbol": "circle"
         },
         "mode": "lines+markers",
         "name": "Mel",
         "orientation": "v",
         "showlegend": true,
         "type": "scatter",
         "x": {
          "bdata": "2gfbB9wH3QfeB98H4AfhB+IH4wfkB+UH5gfnB+gH",
          "dtype": "i2"
         },
         "xaxis": "x",
         "y": {
          "bdata": "AAAAAAAAiUAAAAAAAECPQAAAAAAAQI9AAAAAAABAj0AAAAAAAECPQAAAAAAAQI9AAAAAAABAj0AAAAAAAECPQAAAAAAAQI9AAAAAAAAgjEAAAAAAAMCCQAAAAAAAwIJAAAAAAADAgkAAAAAAAMCCQAAAAAAAUIRA",
          "dtype": "f8"
         },
         "yaxis": "y"
        }
       ],
       "layout": {
        "legend": {
         "title": {
          "text": "Crops"
         },
         "tracegroupgap": 0
        },
        "template": {
         "data": {
          "bar": [
           {
            "error_x": {
             "color": "#2a3f5f"
            },
            "error_y": {
             "color": "#2a3f5f"
            },
            "marker": {
             "line": {
              "color": "white",
              "width": 0.5
             },
             "pattern": {
              "fillmode": "overlay",
              "size": 10,
              "solidity": 0.2
             }
            },
            "type": "bar"
           }
          ],
          "barpolar": [
           {
            "marker": {
             "line": {
              "color": "white",
              "width": 0.5
             },
             "pattern": {
              "fillmode": "overlay",
              "size": 10,
              "solidity": 0.2
             }
            },
            "type": "barpolar"
           }
          ],
          "carpet": [
           {
            "aaxis": {
             "endlinecolor": "#2a3f5f",
             "gridcolor": "#C8D4E3",
             "linecolor": "#C8D4E3",
             "minorgridcolor": "#C8D4E3",
             "startlinecolor": "#2a3f5f"
            },
            "baxis": {
             "endlinecolor": "#2a3f5f",
             "gridcolor": "#C8D4E3",
             "linecolor": "#C8D4E3",
             "minorgridcolor": "#C8D4E3",
             "startlinecolor": "#2a3f5f"
            },
            "type": "carpet"
           }
          ],
          "choropleth": [
           {
            "colorbar": {
             "outlinewidth": 0,
             "ticks": ""
            },
            "type": "choropleth"
           }
          ],
          "contour": [
           {
            "colorbar": {
             "outlinewidth": 0,
             "ticks": ""
            },
            "colorscale": [
             [
              0,
              "#0d0887"
             ],
             [
              0.1111111111111111,
              "#46039f"
             ],
             [
              0.2222222222222222,
              "#7201a8"
             ],
             [
              0.3333333333333333,
              "#9c179e"
             ],
             [
              0.4444444444444444,
              "#bd3786"
             ],
             [
              0.5555555555555556,
              "#d8576b"
             ],
             [
              0.6666666666666666,
              "#ed7953"
             ],
             [
              0.7777777777777778,
              "#fb9f3a"
             ],
             [
              0.8888888888888888,
              "#fdca26"
             ],
             [
              1,
              "#f0f921"
             ]
            ],
            "type": "contour"
           }
          ],
          "contourcarpet": [
           {
            "colorbar": {
             "outlinewidth": 0,
             "ticks": ""
            },
            "type": "contourcarpet"
           }
          ],
          "heatmap": [
           {
            "colorbar": {
             "outlinewidth": 0,
             "ticks": ""
            },
            "colorscale": [
             [
              0,
              "#0d0887"
             ],
             [
              0.1111111111111111,
              "#46039f"
             ],
             [
              0.2222222222222222,
              "#7201a8"
             ],
             [
              0.3333333333333333,
              "#9c179e"
             ],
             [
              0.4444444444444444,
              "#bd3786"
             ],
             [
              0.5555555555555556,
              "#d8576b"
             ],
             [
              0.6666666666666666,
              "#ed7953"
             ],
             [
              0.7777777777777778,
              "#fb9f3a"
             ],
             [
              0.8888888888888888,
              "#fdca26"
             ],
             [
              1,
              "#f0f921"
             ]
            ],
            "type": "heatmap"
           }
          ],
          "histogram": [
           {
            "marker": {
             "pattern": {
              "fillmode": "overlay",
              "size": 10,
              "solidity": 0.2
             }
            },
            "type": "histogram"
           }
          ],
          "histogram2d": [
           {
            "colorbar": {
             "outlinewidth": 0,
             "ticks": ""
            },
            "colorscale": [
             [
              0,
              "#0d0887"
             ],
             [
              0.1111111111111111,
              "#46039f"
             ],
             [
              0.2222222222222222,
              "#7201a8"
             ],
             [
              0.3333333333333333,
              "#9c179e"
             ],
             [
              0.4444444444444444,
              "#bd3786"
             ],
             [
              0.5555555555555556,
              "#d8576b"
             ],
             [
              0.6666666666666666,
              "#ed7953"
             ],
             [
              0.7777777777777778,
              "#fb9f3a"
             ],
             [
              0.8888888888888888,
              "#fdca26"
             ],
             [
              1,
              "#f0f921"
             ]
            ],
            "type": "histogram2d"
           }
          ],
          "histogram2dcontour": [
           {
            "colorbar": {
             "outlinewidth": 0,
             "ticks": ""
            },
            "colorscale": [
             [
              0,
              "#0d0887"
             ],
             [
              0.1111111111111111,
              "#46039f"
             ],
             [
              0.2222222222222222,
              "#7201a8"
             ],
             [
              0.3333333333333333,
              "#9c179e"
             ],
             [
              0.4444444444444444,
              "#bd3786"
             ],
             [
              0.5555555555555556,
              "#d8576b"
             ],
             [
              0.6666666666666666,
              "#ed7953"
             ],
             [
              0.7777777777777778,
              "#fb9f3a"
             ],
             [
              0.8888888888888888,
              "#fdca26"
             ],
             [
              1,
              "#f0f921"
             ]
            ],
            "type": "histogram2dcontour"
           }
          ],
          "mesh3d": [
           {
            "colorbar": {
             "outlinewidth": 0,
             "ticks": ""
            },
            "type": "mesh3d"
           }
          ],
          "parcoords": [
           {
            "line": {
             "colorbar": {
              "outlinewidth": 0,
              "ticks": ""
             }
            },
            "type": "parcoords"
           }
          ],
          "pie": [
           {
            "automargin": true,
            "type": "pie"
           }
          ],
          "scatter": [
           {
            "fillpattern": {
             "fillmode": "overlay",
             "size": 10,
             "solidity": 0.2
            },
            "type": "scatter"
           }
          ],
          "scatter3d": [
           {
            "line": {
             "colorbar": {
              "outlinewidth": 0,
              "ticks": ""
             }
            },
            "marker": {
             "colorbar": {
              "outlinewidth": 0,
              "ticks": ""
             }
            },
            "type": "scatter3d"
           }
          ],
          "scattercarpet": [
           {
            "marker": {
             "colorbar": {
              "outlinewidth": 0,
              "ticks": ""
             }
            },
            "type": "scattercarpet"
           }
          ],
          "scattergeo": [
           {
            "marker": {
             "colorbar": {
              "outlinewidth": 0,
              "ticks": ""
             }
            },
            "type": "scattergeo"
           }
          ],
          "scattergl": [
           {
            "marker": {
             "colorbar": {
              "outlinewidth": 0,
              "ticks": ""
             }
            },
            "type": "scattergl"
           }
          ],
          "scattermap": [
           {
            "marker": {
             "colorbar": {
              "outlinewidth": 0,
              "ticks": ""
             }
            },
            "type": "scattermap"
           }
          ],
          "scattermapbox": [
           {
            "marker": {
             "colorbar": {
              "outlinewidth": 0,
              "ticks": ""
             }
            },
            "type": "scattermapbox"
           }
          ],
          "scatterpolar": [
           {
            "marker": {
             "colorbar": {
              "outlinewidth": 0,
              "ticks": ""
             }
            },
            "type": "scatterpolar"
           }
          ],
          "scatterpolargl": [
           {
            "marker": {
             "colorbar": {
              "outlinewidth": 0,
              "ticks": ""
             }
            },
            "type": "scatterpolargl"
           }
          ],
          "scatterternary": [
           {
            "marker": {
             "colorbar": {
              "outlinewidth": 0,
              "ticks": ""
             }
            },
            "type": "scatterternary"
           }
          ],
          "surface": [
           {
            "colorbar": {
             "outlinewidth": 0,
             "ticks": ""
            },
            "colorscale": [
             [
              0,
              "#0d0887"
             ],
             [
              0.1111111111111111,
              "#46039f"
             ],
             [
              0.2222222222222222,
              "#7201a8"
             ],
             [
              0.3333333333333333,
              "#9c179e"
             ],
             [
              0.4444444444444444,
              "#bd3786"
             ],
             [
              0.5555555555555556,
              "#d8576b"
             ],
             [
              0.6666666666666666,
              "#ed7953"
             ],
             [
              0.7777777777777778,
              "#fb9f3a"
             ],
             [
              0.8888888888888888,
              "#fdca26"
             ],
             [
              1,
              "#f0f921"
             ]
            ],
            "type": "surface"
           }
          ],
          "table": [
           {
            "cells": {
             "fill": {
              "color": "#EBF0F8"
             },
             "line": {
              "color": "white"
             }
            },
            "header": {
             "fill": {
              "color": "#C8D4E3"
             },
             "line": {
              "color": "white"
             }
            },
            "type": "table"
           }
          ]
         },
         "layout": {
          "annotationdefaults": {
           "arrowcolor": "#2a3f5f",
           "arrowhead": 0,
           "arrowwidth": 1
          },
          "autotypenumbers": "strict",
          "coloraxis": {
           "colorbar": {
            "outlinewidth": 0,
            "ticks": ""
           }
          },
          "colorscale": {
           "diverging": [
            [
             0,
             "#8e0152"
            ],
            [
             0.1,
             "#c51b7d"
            ],
            [
             0.2,
             "#de77ae"
            ],
            [
             0.3,
             "#f1b6da"
            ],
            [
             0.4,
             "#fde0ef"
            ],
            [
             0.5,
             "#f7f7f7"
            ],
            [
             0.6,
             "#e6f5d0"
            ],
            [
             0.7,
             "#b8e186"
            ],
            [
             0.8,
             "#7fbc41"
            ],
            [
             0.9,
             "#4d9221"
            ],
            [
             1,
             "#276419"
            ]
           ],
           "sequential": [
            [
             0,
             "#0d0887"
            ],
            [
             0.1111111111111111,
             "#46039f"
            ],
            [
             0.2222222222222222,
             "#7201a8"
            ],
            [
             0.3333333333333333,
             "#9c179e"
            ],
            [
             0.4444444444444444,
             "#bd3786"
            ],
            [
             0.5555555555555556,
             "#d8576b"
            ],
            [
             0.6666666666666666,
             "#ed7953"
            ],
            [
             0.7777777777777778,
             "#fb9f3a"
            ],
            [
             0.8888888888888888,
             "#fdca26"
            ],
            [
             1,
             "#f0f921"
            ]
           ],
           "sequentialminus": [
            [
             0,
             "#0d0887"
            ],
            [
             0.1111111111111111,
             "#46039f"
            ],
            [
             0.2222222222222222,
             "#7201a8"
            ],
            [
             0.3333333333333333,
             "#9c179e"
            ],
            [
             0.4444444444444444,
             "#bd3786"
            ],
            [
             0.5555555555555556,
             "#d8576b"
            ],
            [
             0.6666666666666666,
             "#ed7953"
            ],
            [
             0.7777777777777778,
             "#fb9f3a"
            ],
            [
             0.8888888888888888,
             "#fdca26"
            ],
            [
             1,
             "#f0f921"
            ]
           ]
          },
          "colorway": [
           "#636efa",
           "#EF553B",
           "#00cc96",
           "#ab63fa",
           "#FFA15A",
           "#19d3f3",
           "#FF6692",
           "#B6E880",
           "#FF97FF",
           "#FECB52"
          ],
          "font": {
           "color": "#2a3f5f"
          },
          "geo": {
           "bgcolor": "white",
           "lakecolor": "white",
           "landcolor": "white",
           "showlakes": true,
           "showland": true,
           "subunitcolor": "#C8D4E3"
          },
          "hoverlabel": {
           "align": "left"
          },
          "hovermode": "closest",
          "mapbox": {
           "style": "light"
          },
          "paper_bgcolor": "white",
          "plot_bgcolor": "white",
          "polar": {
           "angularaxis": {
            "gridcolor": "#EBF0F8",
            "linecolor": "#EBF0F8",
            "ticks": ""
           },
           "bgcolor": "white",
           "radialaxis": {
            "gridcolor": "#EBF0F8",
            "linecolor": "#EBF0F8",
            "ticks": ""
           }
          },
          "scene": {
           "xaxis": {
            "backgroundcolor": "white",
            "gridcolor": "#DFE8F3",
            "gridwidth": 2,
            "linecolor": "#EBF0F8",
            "showbackground": true,
            "ticks": "",
            "zerolinecolor": "#EBF0F8"
           },
           "yaxis": {
            "backgroundcolor": "white",
            "gridcolor": "#DFE8F3",
            "gridwidth": 2,
            "linecolor": "#EBF0F8",
            "showbackground": true,
            "ticks": "",
            "zerolinecolor": "#EBF0F8"
           },
           "zaxis": {
            "backgroundcolor": "white",
            "gridcolor": "#DFE8F3",
            "gridwidth": 2,
            "linecolor": "#EBF0F8",
            "showbackground": true,
            "ticks": "",
            "zerolinecolor": "#EBF0F8"
           }
          },
          "shapedefaults": {
           "line": {
            "color": "#2a3f5f"
           }
          },
          "ternary": {
           "aaxis": {
            "gridcolor": "#DFE8F3",
            "linecolor": "#A2B1C6",
            "ticks": ""
           },
           "baxis": {
            "gridcolor": "#DFE8F3",
            "linecolor": "#A2B1C6",
            "ticks": ""
           },
           "bgcolor": "white",
           "caxis": {
            "gridcolor": "#DFE8F3",
            "linecolor": "#A2B1C6",
            "ticks": ""
           }
          },
          "title": {
           "x": 0.05
          },
          "xaxis": {
           "automargin": true,
           "gridcolor": "#EBF0F8",
           "linecolor": "#EBF0F8",
           "ticks": "",
           "title": {
            "standoff": 15
           },
           "zerolinecolor": "#EBF0F8",
           "zerolinewidth": 2
          },
          "yaxis": {
           "automargin": true,
           "gridcolor": "#EBF0F8",
           "linecolor": "#EBF0F8",
           "ticks": "",
           "title": {
            "standoff": 15
           },
           "zerolinecolor": "#EBF0F8",
           "zerolinewidth": 2
          }
         }
        },
        "title": {
         "text": "Evolution of Top 10 Most Expensive Crops in Madeira (2010–2024)"
        },
        "xaxis": {
         "anchor": "y",
         "domain": [
          0,
          1
         ],
         "title": {
          "text": "Year"
         }
        },
        "yaxis": {
         "anchor": "x",
         "domain": [
          0,
          1
         ],
         "title": {
          "text": "Prices (€/100kg or €/hL or €/100 units)"
         }
        }
       }
      }
     },
     "metadata": {},
     "output_type": "display_data"
    }
   ],
   "source": [
    "import plotly.express as px\n",
    "\n",
    "# 1. descobrir as 10 culturas com preços médios mais altos\n",
    "top10_crops = (\n",
    "    df_long_crops.groupby(\"produtos_agricolas\")[\"Preco\"]\n",
    "    .mean()\n",
    "    .nlargest(10)\n",
    "    .index\n",
    ")\n",
    "\n",
    "# 2. filtrar só essas culturas\n",
    "df_top10_prices = df_long_crops[df_long_crops[\"produtos_agricolas\"].isin(top10_crops)].copy()\n",
    "\n",
    "# garantir que Ano é inteiro\n",
    "df_top10_prices[\"Ano\"] = df_top10_prices[\"Ano\"].astype(int)\n",
    "\n",
    "# 3. gráfico interativo\n",
    "fig = px.line(\n",
    "    df_top10_prices,\n",
    "    x=\"Ano\",\n",
    "    y=\"Preco\",\n",
    "    color=\"produtos_agricolas\",\n",
    "    markers=True,\n",
    "    title=\"Evolution of Top 10 Most Expensive Crops in Madeira (2010–2024)\"\n",
    ")\n",
    "\n",
    "# layout\n",
    "fig.update_layout(\n",
    "    xaxis_title=\"Year\",\n",
    "    yaxis_title=\"Prices (€/100kg or €/hL or €/100 units)\",\n",
    "    legend_title=\"Crops\",\n",
    "    template=\"plotly_white\"\n",
    ")\n",
    "\n",
    "fig.show()\n"
   ]
  },
  {
   "cell_type": "code",
   "execution_count": 27,
   "id": "b9186824",
   "metadata": {},
   "outputs": [
    {
     "data": {
      "application/vnd.plotly.v1+json": {
       "config": {
        "plotlyServerURL": "https://plot.ly"
       },
       "data": [
        {
         "hovertemplate": "produtos_agricolas=Cana-de-açúcar<br>Ano=%{x}<br>Preco=%{y}<extra></extra>",
         "legendgroup": "Cana-de-açúcar",
         "line": {
          "color": "#636efa",
          "dash": "solid"
         },
         "marker": {
          "symbol": "circle"
         },
         "mode": "lines+markers",
         "name": "Cana-de-açúcar",
         "orientation": "v",
         "showlegend": true,
         "type": "scatter",
         "x": {
          "bdata": "2gfbB9wH3QfeB98H4AfhB+IH4wfkB+UH5gfnB+gH",
          "dtype": "i2"
         },
         "xaxis": "x",
         "y": {
          "bdata": "AAAAAAAAOUAAAAAAAAA6QAAAAAAAADpAAAAAAAAAO0AAAAAAAAA7QAAAAAAAADtAAAAAAAAAO0AAAAAAAAA7QAAAAAAAADtAAAAAAAAAPEAAAAAAAAA8QAAAAAAAADxAzczMzMzMPUAzMzMzM7NAQAAAAAAAAERA",
          "dtype": "f8"
         },
         "yaxis": "y"
        },
        {
         "hovertemplate": "produtos_agricolas=Alface<br>Ano=%{x}<br>Preco=%{y}<extra></extra>",
         "legendgroup": "Alface",
         "line": {
          "color": "#EF553B",
          "dash": "solid"
         },
         "marker": {
          "symbol": "circle"
         },
         "mode": "lines+markers",
         "name": "Alface",
         "orientation": "v",
         "showlegend": true,
         "type": "scatter",
         "x": {
          "bdata": "2gfbB9wH3QfeB98H4AfhB+IH4wfkB+UH5gfnB+gH",
          "dtype": "i2"
         },
         "xaxis": "x",
         "y": {
          "bdata": "KVyPwvXQaUAK16NwPSJlQI/C9Shcf2VAexSuR+GaXECPwvUoXP9ZQMP1KFyPclpAXI/C9SiEYEC4HoXrUVhbQOF6FK5HUVxASOF6FK73V0Bcj8L1KKxYQDMzMzMzg1xA4XoUrkcpYEAUrkfheoRjQI/C9Shcj2NA",
          "dtype": "f8"
         },
         "yaxis": "y"
        },
        {
         "hovertemplate": "produtos_agricolas=Couve repolho<br>Ano=%{x}<br>Preco=%{y}<extra></extra>",
         "legendgroup": "Couve repolho",
         "line": {
          "color": "#00cc96",
          "dash": "solid"
         },
         "marker": {
          "symbol": "circle"
         },
         "mode": "lines+markers",
         "name": "Couve repolho",
         "orientation": "v",
         "showlegend": true,
         "type": "scatter",
         "x": {
          "bdata": "2gfbB9wH3QfeB98H4AfhB+IH4wfkB+UH5gfnB+gH",
          "dtype": "i2"
         },
         "xaxis": "x",
         "y": {
          "bdata": "cT0K16NAUEDhehSuR+FLQDMzMzMzk0hAmpmZmZlZTUCuR+F6FE5LQDMzMzMzs0pAhetRuB7lSUCF61G4HgVNQI/C9ShcD0hAmpmZmZn5SkDhehSuR8FIQD0K16NwnU1AXI/C9SjcTkAfhetRuM5TQOxRuB6FG1hA",
          "dtype": "f8"
         },
         "yaxis": "y"
        },
        {
         "hovertemplate": "produtos_agricolas=Tomate <br>Ano=%{x}<br>Preco=%{y}<extra></extra>",
         "legendgroup": "Tomate ",
         "line": {
          "color": "#ab63fa",
          "dash": "solid"
         },
         "marker": {
          "symbol": "circle"
         },
         "mode": "lines+markers",
         "name": "Tomate ",
         "orientation": "v",
         "showlegend": true,
         "type": "scatter",
         "x": {
          "bdata": "2gfbB9wH3QfeB98H4AfhB+IH4wfkB+UH5gfnB+gH",
          "dtype": "i2"
         },
         "xaxis": "x",
         "y": {
          "bdata": "uB6F61GYXEApXI/C9VhWQAAAAAAAsFlAuB6F61G4VkDD9Shcj6JWQKRwPQrXw1RAAAAAAABQWUBI4XoUrpdWQM3MzMzMjFdAmpmZmZlJV0BSuB6F6yFXQLgehetRqFxAFK5H4XrEYEBmZmZmZoZlQK5H4XoUvmdA",
          "dtype": "f8"
         },
         "yaxis": "y"
        },
        {
         "hovertemplate": "produtos_agricolas=Cenoura<br>Ano=%{x}<br>Preco=%{y}<extra></extra>",
         "legendgroup": "Cenoura",
         "line": {
          "color": "#FFA15A",
          "dash": "solid"
         },
         "marker": {
          "symbol": "circle"
         },
         "mode": "lines+markers",
         "name": "Cenoura",
         "orientation": "v",
         "showlegend": true,
         "type": "scatter",
         "x": {
          "bdata": "2gfbB9wH3QfeB98H4AfhB+IH4wfkB+UH5gfnB+gH",
          "dtype": "i2"
         },
         "xaxis": "x",
         "y": {
          "bdata": "7FG4HoVrXUDsUbgehftYQNejcD0KR1hApHA9CteDTEDD9Shcj8JHQKRwPQrXI1VASOF6FK5HS0BI4XoUrudNQClcj8L1KExAFK5H4Xp0VECuR+F6FK5QQFK4HoXrGWFAMzMzMzMjWUAAAAAAAPBjQFK4HoXryWJA",
          "dtype": "f8"
         },
         "yaxis": "y"
        },
        {
         "hovertemplate": "produtos_agricolas=Feijão verde<br>Ano=%{x}<br>Preco=%{y}<extra></extra>",
         "legendgroup": "Feijão verde",
         "line": {
          "color": "#19d3f3",
          "dash": "solid"
         },
         "marker": {
          "symbol": "circle"
         },
         "mode": "lines+markers",
         "name": "Feijão verde",
         "orientation": "v",
         "showlegend": true,
         "type": "scatter",
         "x": {
          "bdata": "2gfbB9wH3QfeB98H4AfhB+IH4wfkB+UH5gfnB+gH",
          "dtype": "i2"
         },
         "xaxis": "x",
         "y": {
          "bdata": "CtejcD1yaUCPwvUoXD9tQD0K16NwlXFA7FG4HoWTY0AzMzMzM4tiQM3MzMzMHGFArkfhehQmYkApXI/C9QBkQAAAAAAAoGVA9ihcj8Ila0DsUbgehTtmQEjhehSut2ZAcT0K16PIZ0A9CtejcO1tQM3MzMzM0HFA",
          "dtype": "f8"
         },
         "yaxis": "y"
        },
        {
         "hovertemplate": "produtos_agricolas=Cebola<br>Ano=%{x}<br>Preco=%{y}<extra></extra>",
         "legendgroup": "Cebola",
         "line": {
          "color": "#FF6692",
          "dash": "solid"
         },
         "marker": {
          "symbol": "circle"
         },
         "mode": "lines+markers",
         "name": "Cebola",
         "orientation": "v",
         "showlegend": true,
         "type": "scatter",
         "x": {
          "bdata": "2gfbB9wH3QfeB98H4AfhB+IH4wfkB+UH5gfnB+gH",
          "dtype": "i2"
         },
         "xaxis": "x",
         "y": {
          "bdata": "UrgeheuhXkCF61G4HuVXQOF6FK5H0VNAUrgehetRUUDsUbgehQtOQDMzMzMzE05AH4XrUbh+UkAzMzMzMzNOQB+F61G43lFAzczMzMycVkBSuB6F68FcQDMzMzMzE2BAj8L1KFxfX0BmZmZmZmZiQOxRuB6FM2FA",
          "dtype": "f8"
         },
         "yaxis": "y"
        },
        {
         "hovertemplate": "produtos_agricolas=Pepino<br>Ano=%{x}<br>Preco=%{y}<extra></extra>",
         "legendgroup": "Pepino",
         "line": {
          "color": "#B6E880",
          "dash": "solid"
         },
         "marker": {
          "symbol": "circle"
         },
         "mode": "lines+markers",
         "name": "Pepino",
         "orientation": "v",
         "showlegend": true,
         "type": "scatter",
         "x": {
          "bdata": "2gfbB9wH3QfeB98H4AfhB+IH4wfkB+UH5gfnB+gH",
          "dtype": "i2"
         },
         "xaxis": "x",
         "y": {
          "bdata": "SOF6FK6TcUB7FK5H4TppQJqZmZmZ6V5AhetRuB7VUUC4HoXrUVhQQArXo3A9GlBA7FG4HoWbU0DhehSuRxFTQFK4HoXrQVRAMzMzMzOTVEAUrkfhegRVQKRwPQrXA1pAAAAAAADQXEAfhetRuC5kQClcj8L1YGRA",
          "dtype": "f8"
         },
         "yaxis": "y"
        },
        {
         "hovertemplate": "produtos_agricolas=Pimento<br>Ano=%{x}<br>Preco=%{y}<extra></extra>",
         "legendgroup": "Pimento",
         "line": {
          "color": "#FF97FF",
          "dash": "solid"
         },
         "marker": {
          "symbol": "circle"
         },
         "mode": "lines+markers",
         "name": "Pimento",
         "orientation": "v",
         "showlegend": true,
         "type": "scatter",
         "x": {
          "bdata": "2gfbB9wH3QfeB98H4AfhB+IH4wfkB+UH5gfnB+gH",
          "dtype": "i2"
         },
         "xaxis": "x",
         "y": {
          "bdata": "w/UoXI8SXEA9CtejcI1aQK5H4XoUzl9Aj8L1KFzfXUB7FK5H4RpaQLgehetRuFtA9ihcj8KFW0CkcD0K1yNVQJqZmZmZeWBArkfhehR+WUDNzMzMzFRiQK5H4XoURmZAFK5H4XoMZkBI4XoUru9rQAAAAAAAVHNA",
          "dtype": "f8"
         },
         "yaxis": "y"
        },
        {
         "hovertemplate": "produtos_agricolas=Courgette<br>Ano=%{x}<br>Preco=%{y}<extra></extra>",
         "legendgroup": "Courgette",
         "line": {
          "color": "#FECB52",
          "dash": "solid"
         },
         "marker": {
          "symbol": "circle"
         },
         "mode": "lines+markers",
         "name": "Courgette",
         "orientation": "v",
         "showlegend": true,
         "type": "scatter",
         "x": {
          "bdata": "2gfbB9wH3QfeB98H4AfhB+IH4wfkB+UH5gfnB+gH",
          "dtype": "i2"
         },
         "xaxis": "x",
         "y": {
          "bdata": "AAAAAADAWUAK16NwPRpZQBSuR+F6lFZAcT0K16NgVED2KFyPwkVWQArXo3A9elJA4XoUrkcxVkDXo3A9CtdSQK5H4XoUnlpAzczMzMwcVUBcj8L1KAxUQHsUrkfh+lFAmpmZmZn5W0DXo3A9Co9hQAAAAAAAWGJA",
          "dtype": "f8"
         },
         "yaxis": "y"
        },
        {
         "hovertemplate": "produtos_agricolas=Nabo<br>Ano=%{x}<br>Preco=%{y}<extra></extra>",
         "legendgroup": "Nabo",
         "line": {
          "color": "#636efa",
          "dash": "solid"
         },
         "marker": {
          "symbol": "circle"
         },
         "mode": "lines+markers",
         "name": "Nabo",
         "orientation": "v",
         "showlegend": true,
         "type": "scatter",
         "x": {
          "bdata": "2gfbB9wH3QfeB98H4AfhB+IH4wfkB+UH5gfnB+gH",
          "dtype": "i2"
         },
         "xaxis": "x",
         "y": {
          "bdata": "CtejcD0qX0CuR+F6FF5fQKRwPQrXU1lASOF6FK7nWEDXo3A9CgdXQGZmZmZmBlhAAAAAAAAAXkDXo3A9CkdZQD0K16Nw7VZA16NwPQrXWEC4HoXrUQhXQPYoXI/CxVhACtejcD3aW0BxPQrXowBkQEjhehSuD2RA",
          "dtype": "f8"
         },
         "yaxis": "y"
        },
        {
         "hovertemplate": "produtos_agricolas=Abóbora<br>Ano=%{x}<br>Preco=%{y}<extra></extra>",
         "legendgroup": "Abóbora",
         "line": {
          "color": "#EF553B",
          "dash": "solid"
         },
         "marker": {
          "symbol": "circle"
         },
         "mode": "lines+markers",
         "name": "Abóbora",
         "orientation": "v",
         "showlegend": true,
         "type": "scatter",
         "x": {
          "bdata": "2gfbB9wH3QfeB98H4AfhB+IH4wfkB+UH5gfnB+gH",
          "dtype": "i2"
         },
         "xaxis": "x",
         "y": {
          "bdata": "AAAAAACwXkCuR+F6FG5bQArXo3A9ql1AXI/C9Sg8VkC4HoXrURhUQM3MzMzMvFVAXI/C9SisWkCamZmZmXlYQMP1KFyPQl5AXI/C9Sg8XUBxPQrXo2BYQMP1KFyP4lpAuB6F61GYXkDsUbgehRteQKRwPQrXK2NA",
          "dtype": "f8"
         },
         "yaxis": "y"
        },
        {
         "hovertemplate": "produtos_agricolas=Acelga<br>Ano=%{x}<br>Preco=%{y}<extra></extra>",
         "legendgroup": "Acelga",
         "line": {
          "color": "#00cc96",
          "dash": "solid"
         },
         "marker": {
          "symbol": "circle"
         },
         "mode": "lines+markers",
         "name": "Acelga",
         "orientation": "v",
         "showlegend": true,
         "type": "scatter",
         "x": {
          "bdata": "2gfbB9wH3QfeB98H4AfhB+IH4wfkB+UH5gfnB+gH",
          "dtype": "i2"
         },
         "xaxis": "x",
         "y": {
          "bdata": "PQrXo3DdWUDD9ShcjyJbQArXo3A9ulZAXI/C9SgMUECuR+F6FI5OQGZmZmZmhk1AKVyPwvVIT0DXo3A9CjdNQHsUrkfhalFAAAAAAAAAT0ApXI/C9ahSQFyPwvUojFJAXI/C9SgMUEApXI/C9QhNQD0K16NwPU5A",
          "dtype": "f8"
         },
         "yaxis": "y"
        },
        {
         "hovertemplate": "produtos_agricolas=Pimpinela<br>Ano=%{x}<br>Preco=%{y}<extra></extra>",
         "legendgroup": "Pimpinela",
         "line": {
          "color": "#ab63fa",
          "dash": "solid"
         },
         "marker": {
          "symbol": "circle"
         },
         "mode": "lines+markers",
         "name": "Pimpinela",
         "orientation": "v",
         "showlegend": true,
         "type": "scatter",
         "x": {
          "bdata": "2gfbB9wH3QfeB98H4AfhB+IH4wfkB+UH5gfnB+gH",
          "dtype": "i2"
         },
         "xaxis": "x",
         "y": {
          "bdata": "mpmZmZk5WUCPwvUoXH9WQPYoXI/CZVdAcT0K16NgV0AUrkfheoRSQFK4HoXr4VVAPQrXo3D9X0Bcj8L1KPxYQD0K16NwbVpAuB6F61FoVEAUrkfhevRXQAAAAAAAkF5AexSuR+E6XUAfhetRuJ5bQLgehetROF9A",
          "dtype": "f8"
         },
         "yaxis": "y"
        },
        {
         "hovertemplate": "produtos_agricolas=Batata primor<br>Ano=%{x}<br>Preco=%{y}<extra></extra>",
         "legendgroup": "Batata primor",
         "line": {
          "color": "#FFA15A",
          "dash": "solid"
         },
         "marker": {
          "symbol": "circle"
         },
         "mode": "lines+markers",
         "name": "Batata primor",
         "orientation": "v",
         "showlegend": true,
         "type": "scatter",
         "x": {
          "bdata": "2gfbB9wH3QfeB98H4AfhB+IH4wfkB+UH5gfnB+gH",
          "dtype": "i2"
         },
         "xaxis": "x",
         "y": {
          "bdata": "FK5H4XpEVUCF61G4HqVRQClcj8L1CEhAcT0K16MQTUApXI/C9UhEQOxRuB6Fa0ZAXI/C9SgcT0C4HoXrUZhKQOxRuB6Fi09ASOF6FK6nS0AAAAAAAAD4f6RwPQrXo0ZArkfhehTOT0C4HoXrUahbQB+F61G4rlxA",
          "dtype": "f8"
         },
         "yaxis": "y"
        },
        {
         "hovertemplate": "produtos_agricolas=Batata de conservação<br>Ano=%{x}<br>Preco=%{y}<extra></extra>",
         "legendgroup": "Batata de conservação",
         "line": {
          "color": "#19d3f3",
          "dash": "solid"
         },
         "marker": {
          "symbol": "circle"
         },
         "mode": "lines+markers",
         "name": "Batata de conservação",
         "orientation": "v",
         "showlegend": true,
         "type": "scatter",
         "x": {
          "bdata": "2gfbB9wH3QfeB98H4AfhB+IH4wfkB+UH5gfnB+gH",
          "dtype": "i2"
         },
         "xaxis": "x",
         "y": {
          "bdata": "9ihcj8KVT0DD9Shcj+JFQOF6FK5HoURAMzMzMzOTRUA9CtejcP05QPYoXI/CtUNA9ihcj8L1SEAK16NwPYpEQIXrUbgexUdAexSuR+FaSEAUrkfhelRGQHE9CtejMEpAUrgeheuRT0CPwvUoXM9WQFyPwvUonFlA",
          "dtype": "f8"
         },
         "yaxis": "y"
        },
        {
         "hovertemplate": "produtos_agricolas=Maçãs<br>Ano=%{x}<br>Preco=%{y}<extra></extra>",
         "legendgroup": "Maçãs",
         "line": {
          "color": "#FF6692",
          "dash": "solid"
         },
         "marker": {
          "symbol": "circle"
         },
         "mode": "lines+markers",
         "name": "Maçãs",
         "orientation": "v",
         "showlegend": true,
         "type": "scatter",
         "x": {
          "bdata": "2gfbB9wH3QfeB98H4AfhB+IH4wfkB+UH5gfnB+gH",
          "dtype": "i2"
         },
         "xaxis": "x",
         "y": {
          "bdata": "zczMzMxMTUDNzMzMzIxOQM3MzMzMjE5AAAAAAABAX0AAAAAAAABOQDMzMzMzc11AAAAAAACgYUAAAAAAAGBkQM3MzMzMfGBAZmZmZmYmWkBmZmZmZsZmQGZmZmZmhmRAZmZmZmaGZEBmZmZmZoZkQJqZmZmZmWJA",
          "dtype": "f8"
         },
         "yaxis": "y"
        },
        {
         "hovertemplate": "produtos_agricolas=Cerejas<br>Ano=%{x}<br>Preco=%{y}<extra></extra>",
         "legendgroup": "Cerejas",
         "line": {
          "color": "#B6E880",
          "dash": "solid"
         },
         "marker": {
          "symbol": "circle"
         },
         "mode": "lines+markers",
         "name": "Cerejas",
         "orientation": "v",
         "showlegend": true,
         "type": "scatter",
         "x": {
          "bdata": "2gfbB9wH3QfeB98H4AfhB+IH4wfkB+UH5gfnB+gH",
          "dtype": "i2"
         },
         "xaxis": "x",
         "y": {
          "bdata": "AAAAAABAb0AAAAAAAGBlQAAAAAAAIGJAAAAAAAAgYkAAAAAAAMBhQAAAAAAAAGNAAAAAAACAY0AAAAAAAMBnQAAAAAAAAGlAAAAAAAAgaUCPwvUoXMN0QAAAAAAAEHBAhetRuB5ZckBI4XoUrr9sQEjhehSuv2xA",
          "dtype": "f8"
         },
         "yaxis": "y"
        },
        {
         "hovertemplate": "produtos_agricolas=Tangerinas<br>Ano=%{x}<br>Preco=%{y}<extra></extra>",
         "legendgroup": "Tangerinas",
         "line": {
          "color": "#FF97FF",
          "dash": "solid"
         },
         "marker": {
          "symbol": "circle"
         },
         "mode": "lines+markers",
         "name": "Tangerinas",
         "orientation": "v",
         "showlegend": true,
         "type": "scatter",
         "x": {
          "bdata": "2gfbB9wH3QfeB98H4AfhB+IH4wfkB+UH5gfnB+gH",
          "dtype": "i2"
         },
         "xaxis": "x",
         "y": {
          "bdata": "uB6F61EYYEAAAAAAADBmQAAAAAAA0GNAAAAAAACgbkAAAAAAACBqQAAAAAAAcGpAAAAAAADgakAAAAAAACBiQAAAAAAAsGRAAAAAAAAgZUAAAAAAACBlQAAAAAAAoGVAuB6F61FwZEAAAAAAAMBoQLgehetRoGpA",
          "dtype": "f8"
         },
         "yaxis": "y"
        },
        {
         "hovertemplate": "produtos_agricolas=Limões<br>Ano=%{x}<br>Preco=%{y}<extra></extra>",
         "legendgroup": "Limões",
         "line": {
          "color": "#FECB52",
          "dash": "solid"
         },
         "marker": {
          "symbol": "circle"
         },
         "mode": "lines+markers",
         "name": "Limões",
         "orientation": "v",
         "showlegend": true,
         "type": "scatter",
         "x": {
          "bdata": "2gfbB9wH3QfeB98H4AfhB+IH4wfkB+UH5gfnB+gH",
          "dtype": "i2"
         },
         "xaxis": "x",
         "y": {
          "bdata": "AAAAAABAU0ApXI/C9VhRQOF6FK5HwVJA16NwPQrXTkCuR+F6FC5RQK5H4XoUXlRAPQrXo3CNVECF61G4HnVYQMP1KFyPElhASOF6FK6HVkCuR+F6FD5WQOxRuB6F61JA4XoUrkfRVUAfhetRuI5RQD0K16Nw7VtA",
          "dtype": "f8"
         },
         "yaxis": "y"
        },
        {
         "hovertemplate": "produtos_agricolas=Banana<br>Ano=%{x}<br>Preco=%{y}<extra></extra>",
         "legendgroup": "Banana",
         "line": {
          "color": "#636efa",
          "dash": "solid"
         },
         "marker": {
          "symbol": "circle"
         },
         "mode": "lines+markers",
         "name": "Banana",
         "orientation": "v",
         "showlegend": true,
         "type": "scatter",
         "x": {
          "bdata": "2gfbB9wH3QfeB98H4AfhB+IH4wfkB+UH5gfnB+gH",
          "dtype": "i2"
         },
         "xaxis": "x",
         "y": {
          "bdata": "uB6F61G4K0A9CtejcL0sQPYoXI/CdStAZmZmZmbmLkBI4XoUrocwQK5H4XoULjFAFK5H4XqUOEAUrkfhepQ2QOxRuB6FqzhA7FG4HoWrOEBmZmZmZqY5QOxRuB6FqzhA7FG4HoWrOEBI4XoUrmdAQB+F61G4/kZA",
          "dtype": "f8"
         },
         "yaxis": "y"
        },
        {
         "hovertemplate": "produtos_agricolas=Abacate<br>Ano=%{x}<br>Preco=%{y}<extra></extra>",
         "legendgroup": "Abacate",
         "line": {
          "color": "#EF553B",
          "dash": "solid"
         },
         "marker": {
          "symbol": "circle"
         },
         "mode": "lines+markers",
         "name": "Abacate",
         "orientation": "v",
         "showlegend": true,
         "type": "scatter",
         "x": {
          "bdata": "2gfbB9wH3QfeB98H4AfhB+IH4wfkB+UH5gfnB+gH",
          "dtype": "i2"
         },
         "xaxis": "x",
         "y": {
          "bdata": "hetRuB51XEDhehSuR/FYQJqZmZmZeU9AmpmZmZn5UUAK16NwPVpWQK5H4XoUPlZApHA9CtfTW0Bcj8L1KFxfQPYoXI/CVWBAhetRuB5FZ0DsUbgehTNiQJqZmZmZ8WhA16NwPQpnaEA9CtejcLVmQB+F61G4TmdA",
          "dtype": "f8"
         },
         "yaxis": "y"
        },
        {
         "hovertemplate": "produtos_agricolas=Anona<br>Ano=%{x}<br>Preco=%{y}<extra></extra>",
         "legendgroup": "Anona",
         "line": {
          "color": "#00cc96",
          "dash": "solid"
         },
         "marker": {
          "symbol": "circle"
         },
         "mode": "lines+markers",
         "name": "Anona",
         "orientation": "v",
         "showlegend": true,
         "type": "scatter",
         "x": {
          "bdata": "2gfbB9wH3QfeB98H4AfhB+IH4wfkB+UH5gfnB+gH",
          "dtype": "i2"
         },
         "xaxis": "x",
         "y": {
          "bdata": "KVyPwvXoY0CPwvUoXIdiQIXrUbgedVxAH4XrUbiuXUC4HoXrUchdQEjhehSuZ1pAAAAAAAAgX0B7FK5H4TpbQDMzMzMze2FArkfhehSmaUDhehSuR3lmQNejcD0Kb2tAPQrXo3DNaEBxPQrXo6hnQHE9CtejGGxA",
          "dtype": "f8"
         },
         "yaxis": "y"
        },
        {
         "hovertemplate": "produtos_agricolas=Uvas<br>Ano=%{x}<br>Preco=%{y}<extra></extra>",
         "legendgroup": "Uvas",
         "line": {
          "color": "#ab63fa",
          "dash": "solid"
         },
         "marker": {
          "symbol": "circle"
         },
         "mode": "lines+markers",
         "name": "Uvas",
         "orientation": "v",
         "showlegend": true,
         "type": "scatter",
         "x": {
          "bdata": "2gfbB9wH3QfeB98H4AfhB+IH4wfkB+UH5gfnB+gH",
          "dtype": "i2"
         },
         "xaxis": "x",
         "y": {
          "bdata": "PQrXo3ANXEBSuB6F6yFpQKRwPQrXU2dA4XoUrke5Y0DsUbgehXtWQKRwPQrXw1lAMzMzMzMTW0BmZmZmZhZZQAAAAAAAgFlAKVyPwvUYW0B7FK5H4YpcQK5H4XoUPl9AuB6F61H4W0B7FK5H4VpeQEjhehSuf2BA",
          "dtype": "f8"
         },
         "yaxis": "y"
        },
        {
         "hovertemplate": "produtos_agricolas=Inhame<br>Ano=%{x}<br>Preco=%{y}<extra></extra>",
         "legendgroup": "Inhame",
         "line": {
          "color": "#FFA15A",
          "dash": "solid"
         },
         "marker": {
          "symbol": "circle"
         },
         "mode": "lines+markers",
         "name": "Inhame",
         "orientation": "v",
         "showlegend": true,
         "type": "scatter",
         "x": {
          "bdata": "2gfbB9wH3QfeB98H4AfhB+IH4wfkB+UH5gfnB+gH",
          "dtype": "i2"
         },
         "xaxis": "x",
         "y": {
          "bdata": "XI/C9Sg8WkC4HoXrUWhSQGZmZmZmJlRAzczMzMzMU0BmZmZmZiZTQDMzMzMzU1JAAAAAAABAV0AzMzMzM/NcQAAAAAAAkFFAzczMzMz8VEAAAAAAAEBbQDMzMzMzM1lAzczMzMxMWUDNzMzMzCxeQJqZmZmZyVxA",
          "dtype": "f8"
         },
         "yaxis": "y"
        },
        {
         "hovertemplate": "produtos_agricolas=Batata-doce<br>Ano=%{x}<br>Preco=%{y}<extra></extra>",
         "legendgroup": "Batata-doce",
         "line": {
          "color": "#19d3f3",
          "dash": "solid"
         },
         "marker": {
          "symbol": "circle"
         },
         "mode": "lines+markers",
         "name": "Batata-doce",
         "orientation": "v",
         "showlegend": true,
         "type": "scatter",
         "x": {
          "bdata": "2gfbB9wH3QfeB98H4AfhB+IH4wfkB+UH5gfnB+gH",
          "dtype": "i2"
         },
         "xaxis": "x",
         "y": {
          "bdata": "mpmZmZkBZ0BI4XoUrsdjQNejcD0Kr2NAUrgeheshV0CamZmZmYlYQIXrUbgeZVlAH4XrUbguYECF61G4HlVcQD0K16NwnVVAhetRuB7FVkDhehSuR5FTQM3MzMzMjFdAFK5H4XpsYEDXo3A9Cp9hQD0K16NwTVlA",
          "dtype": "f8"
         },
         "yaxis": "y"
        },
        {
         "hovertemplate": "produtos_agricolas=Leite de vaca a teor real<br>Ano=%{x}<br>Preco=%{y}<extra></extra>",
         "legendgroup": "Leite de vaca a teor real",
         "line": {
          "color": "#FF6692",
          "dash": "solid"
         },
         "marker": {
          "symbol": "circle"
         },
         "mode": "lines+markers",
         "name": "Leite de vaca a teor real",
         "orientation": "v",
         "showlegend": true,
         "type": "scatter",
         "x": {
          "bdata": "2gfbB9wH3QfeB98H4AfhB+IH4wfkB+UH5gfnB+gH",
          "dtype": "i2"
         },
         "xaxis": "x",
         "y": {
          "bdata": "AAAAAAAASUAAAAAAAABJQLgehetROElAAAAAAACASUDhehSuR2FJQAAAAAAAgElAAAAAAACASUAAAAAAAIBJQAAAAAAAgElAAAAAAACASUDhehSuR2FJQArXo3A9aklAAAAAAACASUAUrkfhenRJQAAAAAAAgElA",
          "dtype": "f8"
         },
         "yaxis": "y"
        },
        {
         "hovertemplate": "produtos_agricolas=Mel<br>Ano=%{x}<br>Preco=%{y}<extra></extra>",
         "legendgroup": "Mel",
         "line": {
          "color": "#B6E880",
          "dash": "solid"
         },
         "marker": {
          "symbol": "circle"
         },
         "mode": "lines+markers",
         "name": "Mel",
         "orientation": "v",
         "showlegend": true,
         "type": "scatter",
         "x": {
          "bdata": "2gfbB9wH3QfeB98H4AfhB+IH4wfkB+UH5gfnB+gH",
          "dtype": "i2"
         },
         "xaxis": "x",
         "y": {
          "bdata": "AAAAAAAAiUAAAAAAAECPQAAAAAAAQI9AAAAAAABAj0AAAAAAAECPQAAAAAAAQI9AAAAAAABAj0AAAAAAAECPQAAAAAAAQI9AAAAAAAAgjEAAAAAAAMCCQAAAAAAAwIJAAAAAAADAgkAAAAAAAMCCQAAAAAAAUIRA",
          "dtype": "f8"
         },
         "yaxis": "y"
        }
       ],
       "layout": {
        "legend": {
         "title": {
          "text": "Product"
         },
         "tracegroupgap": 0
        },
        "template": {
         "data": {
          "bar": [
           {
            "error_x": {
             "color": "#2a3f5f"
            },
            "error_y": {
             "color": "#2a3f5f"
            },
            "marker": {
             "line": {
              "color": "white",
              "width": 0.5
             },
             "pattern": {
              "fillmode": "overlay",
              "size": 10,
              "solidity": 0.2
             }
            },
            "type": "bar"
           }
          ],
          "barpolar": [
           {
            "marker": {
             "line": {
              "color": "white",
              "width": 0.5
             },
             "pattern": {
              "fillmode": "overlay",
              "size": 10,
              "solidity": 0.2
             }
            },
            "type": "barpolar"
           }
          ],
          "carpet": [
           {
            "aaxis": {
             "endlinecolor": "#2a3f5f",
             "gridcolor": "#C8D4E3",
             "linecolor": "#C8D4E3",
             "minorgridcolor": "#C8D4E3",
             "startlinecolor": "#2a3f5f"
            },
            "baxis": {
             "endlinecolor": "#2a3f5f",
             "gridcolor": "#C8D4E3",
             "linecolor": "#C8D4E3",
             "minorgridcolor": "#C8D4E3",
             "startlinecolor": "#2a3f5f"
            },
            "type": "carpet"
           }
          ],
          "choropleth": [
           {
            "colorbar": {
             "outlinewidth": 0,
             "ticks": ""
            },
            "type": "choropleth"
           }
          ],
          "contour": [
           {
            "colorbar": {
             "outlinewidth": 0,
             "ticks": ""
            },
            "colorscale": [
             [
              0,
              "#0d0887"
             ],
             [
              0.1111111111111111,
              "#46039f"
             ],
             [
              0.2222222222222222,
              "#7201a8"
             ],
             [
              0.3333333333333333,
              "#9c179e"
             ],
             [
              0.4444444444444444,
              "#bd3786"
             ],
             [
              0.5555555555555556,
              "#d8576b"
             ],
             [
              0.6666666666666666,
              "#ed7953"
             ],
             [
              0.7777777777777778,
              "#fb9f3a"
             ],
             [
              0.8888888888888888,
              "#fdca26"
             ],
             [
              1,
              "#f0f921"
             ]
            ],
            "type": "contour"
           }
          ],
          "contourcarpet": [
           {
            "colorbar": {
             "outlinewidth": 0,
             "ticks": ""
            },
            "type": "contourcarpet"
           }
          ],
          "heatmap": [
           {
            "colorbar": {
             "outlinewidth": 0,
             "ticks": ""
            },
            "colorscale": [
             [
              0,
              "#0d0887"
             ],
             [
              0.1111111111111111,
              "#46039f"
             ],
             [
              0.2222222222222222,
              "#7201a8"
             ],
             [
              0.3333333333333333,
              "#9c179e"
             ],
             [
              0.4444444444444444,
              "#bd3786"
             ],
             [
              0.5555555555555556,
              "#d8576b"
             ],
             [
              0.6666666666666666,
              "#ed7953"
             ],
             [
              0.7777777777777778,
              "#fb9f3a"
             ],
             [
              0.8888888888888888,
              "#fdca26"
             ],
             [
              1,
              "#f0f921"
             ]
            ],
            "type": "heatmap"
           }
          ],
          "histogram": [
           {
            "marker": {
             "pattern": {
              "fillmode": "overlay",
              "size": 10,
              "solidity": 0.2
             }
            },
            "type": "histogram"
           }
          ],
          "histogram2d": [
           {
            "colorbar": {
             "outlinewidth": 0,
             "ticks": ""
            },
            "colorscale": [
             [
              0,
              "#0d0887"
             ],
             [
              0.1111111111111111,
              "#46039f"
             ],
             [
              0.2222222222222222,
              "#7201a8"
             ],
             [
              0.3333333333333333,
              "#9c179e"
             ],
             [
              0.4444444444444444,
              "#bd3786"
             ],
             [
              0.5555555555555556,
              "#d8576b"
             ],
             [
              0.6666666666666666,
              "#ed7953"
             ],
             [
              0.7777777777777778,
              "#fb9f3a"
             ],
             [
              0.8888888888888888,
              "#fdca26"
             ],
             [
              1,
              "#f0f921"
             ]
            ],
            "type": "histogram2d"
           }
          ],
          "histogram2dcontour": [
           {
            "colorbar": {
             "outlinewidth": 0,
             "ticks": ""
            },
            "colorscale": [
             [
              0,
              "#0d0887"
             ],
             [
              0.1111111111111111,
              "#46039f"
             ],
             [
              0.2222222222222222,
              "#7201a8"
             ],
             [
              0.3333333333333333,
              "#9c179e"
             ],
             [
              0.4444444444444444,
              "#bd3786"
             ],
             [
              0.5555555555555556,
              "#d8576b"
             ],
             [
              0.6666666666666666,
              "#ed7953"
             ],
             [
              0.7777777777777778,
              "#fb9f3a"
             ],
             [
              0.8888888888888888,
              "#fdca26"
             ],
             [
              1,
              "#f0f921"
             ]
            ],
            "type": "histogram2dcontour"
           }
          ],
          "mesh3d": [
           {
            "colorbar": {
             "outlinewidth": 0,
             "ticks": ""
            },
            "type": "mesh3d"
           }
          ],
          "parcoords": [
           {
            "line": {
             "colorbar": {
              "outlinewidth": 0,
              "ticks": ""
             }
            },
            "type": "parcoords"
           }
          ],
          "pie": [
           {
            "automargin": true,
            "type": "pie"
           }
          ],
          "scatter": [
           {
            "fillpattern": {
             "fillmode": "overlay",
             "size": 10,
             "solidity": 0.2
            },
            "type": "scatter"
           }
          ],
          "scatter3d": [
           {
            "line": {
             "colorbar": {
              "outlinewidth": 0,
              "ticks": ""
             }
            },
            "marker": {
             "colorbar": {
              "outlinewidth": 0,
              "ticks": ""
             }
            },
            "type": "scatter3d"
           }
          ],
          "scattercarpet": [
           {
            "marker": {
             "colorbar": {
              "outlinewidth": 0,
              "ticks": ""
             }
            },
            "type": "scattercarpet"
           }
          ],
          "scattergeo": [
           {
            "marker": {
             "colorbar": {
              "outlinewidth": 0,
              "ticks": ""
             }
            },
            "type": "scattergeo"
           }
          ],
          "scattergl": [
           {
            "marker": {
             "colorbar": {
              "outlinewidth": 0,
              "ticks": ""
             }
            },
            "type": "scattergl"
           }
          ],
          "scattermap": [
           {
            "marker": {
             "colorbar": {
              "outlinewidth": 0,
              "ticks": ""
             }
            },
            "type": "scattermap"
           }
          ],
          "scattermapbox": [
           {
            "marker": {
             "colorbar": {
              "outlinewidth": 0,
              "ticks": ""
             }
            },
            "type": "scattermapbox"
           }
          ],
          "scatterpolar": [
           {
            "marker": {
             "colorbar": {
              "outlinewidth": 0,
              "ticks": ""
             }
            },
            "type": "scatterpolar"
           }
          ],
          "scatterpolargl": [
           {
            "marker": {
             "colorbar": {
              "outlinewidth": 0,
              "ticks": ""
             }
            },
            "type": "scatterpolargl"
           }
          ],
          "scatterternary": [
           {
            "marker": {
             "colorbar": {
              "outlinewidth": 0,
              "ticks": ""
             }
            },
            "type": "scatterternary"
           }
          ],
          "surface": [
           {
            "colorbar": {
             "outlinewidth": 0,
             "ticks": ""
            },
            "colorscale": [
             [
              0,
              "#0d0887"
             ],
             [
              0.1111111111111111,
              "#46039f"
             ],
             [
              0.2222222222222222,
              "#7201a8"
             ],
             [
              0.3333333333333333,
              "#9c179e"
             ],
             [
              0.4444444444444444,
              "#bd3786"
             ],
             [
              0.5555555555555556,
              "#d8576b"
             ],
             [
              0.6666666666666666,
              "#ed7953"
             ],
             [
              0.7777777777777778,
              "#fb9f3a"
             ],
             [
              0.8888888888888888,
              "#fdca26"
             ],
             [
              1,
              "#f0f921"
             ]
            ],
            "type": "surface"
           }
          ],
          "table": [
           {
            "cells": {
             "fill": {
              "color": "#EBF0F8"
             },
             "line": {
              "color": "white"
             }
            },
            "header": {
             "fill": {
              "color": "#C8D4E3"
             },
             "line": {
              "color": "white"
             }
            },
            "type": "table"
           }
          ]
         },
         "layout": {
          "annotationdefaults": {
           "arrowcolor": "#2a3f5f",
           "arrowhead": 0,
           "arrowwidth": 1
          },
          "autotypenumbers": "strict",
          "coloraxis": {
           "colorbar": {
            "outlinewidth": 0,
            "ticks": ""
           }
          },
          "colorscale": {
           "diverging": [
            [
             0,
             "#8e0152"
            ],
            [
             0.1,
             "#c51b7d"
            ],
            [
             0.2,
             "#de77ae"
            ],
            [
             0.3,
             "#f1b6da"
            ],
            [
             0.4,
             "#fde0ef"
            ],
            [
             0.5,
             "#f7f7f7"
            ],
            [
             0.6,
             "#e6f5d0"
            ],
            [
             0.7,
             "#b8e186"
            ],
            [
             0.8,
             "#7fbc41"
            ],
            [
             0.9,
             "#4d9221"
            ],
            [
             1,
             "#276419"
            ]
           ],
           "sequential": [
            [
             0,
             "#0d0887"
            ],
            [
             0.1111111111111111,
             "#46039f"
            ],
            [
             0.2222222222222222,
             "#7201a8"
            ],
            [
             0.3333333333333333,
             "#9c179e"
            ],
            [
             0.4444444444444444,
             "#bd3786"
            ],
            [
             0.5555555555555556,
             "#d8576b"
            ],
            [
             0.6666666666666666,
             "#ed7953"
            ],
            [
             0.7777777777777778,
             "#fb9f3a"
            ],
            [
             0.8888888888888888,
             "#fdca26"
            ],
            [
             1,
             "#f0f921"
            ]
           ],
           "sequentialminus": [
            [
             0,
             "#0d0887"
            ],
            [
             0.1111111111111111,
             "#46039f"
            ],
            [
             0.2222222222222222,
             "#7201a8"
            ],
            [
             0.3333333333333333,
             "#9c179e"
            ],
            [
             0.4444444444444444,
             "#bd3786"
            ],
            [
             0.5555555555555556,
             "#d8576b"
            ],
            [
             0.6666666666666666,
             "#ed7953"
            ],
            [
             0.7777777777777778,
             "#fb9f3a"
            ],
            [
             0.8888888888888888,
             "#fdca26"
            ],
            [
             1,
             "#f0f921"
            ]
           ]
          },
          "colorway": [
           "#636efa",
           "#EF553B",
           "#00cc96",
           "#ab63fa",
           "#FFA15A",
           "#19d3f3",
           "#FF6692",
           "#B6E880",
           "#FF97FF",
           "#FECB52"
          ],
          "font": {
           "color": "#2a3f5f"
          },
          "geo": {
           "bgcolor": "white",
           "lakecolor": "white",
           "landcolor": "white",
           "showlakes": true,
           "showland": true,
           "subunitcolor": "#C8D4E3"
          },
          "hoverlabel": {
           "align": "left"
          },
          "hovermode": "closest",
          "mapbox": {
           "style": "light"
          },
          "paper_bgcolor": "white",
          "plot_bgcolor": "white",
          "polar": {
           "angularaxis": {
            "gridcolor": "#EBF0F8",
            "linecolor": "#EBF0F8",
            "ticks": ""
           },
           "bgcolor": "white",
           "radialaxis": {
            "gridcolor": "#EBF0F8",
            "linecolor": "#EBF0F8",
            "ticks": ""
           }
          },
          "scene": {
           "xaxis": {
            "backgroundcolor": "white",
            "gridcolor": "#DFE8F3",
            "gridwidth": 2,
            "linecolor": "#EBF0F8",
            "showbackground": true,
            "ticks": "",
            "zerolinecolor": "#EBF0F8"
           },
           "yaxis": {
            "backgroundcolor": "white",
            "gridcolor": "#DFE8F3",
            "gridwidth": 2,
            "linecolor": "#EBF0F8",
            "showbackground": true,
            "ticks": "",
            "zerolinecolor": "#EBF0F8"
           },
           "zaxis": {
            "backgroundcolor": "white",
            "gridcolor": "#DFE8F3",
            "gridwidth": 2,
            "linecolor": "#EBF0F8",
            "showbackground": true,
            "ticks": "",
            "zerolinecolor": "#EBF0F8"
           }
          },
          "shapedefaults": {
           "line": {
            "color": "#2a3f5f"
           }
          },
          "ternary": {
           "aaxis": {
            "gridcolor": "#DFE8F3",
            "linecolor": "#A2B1C6",
            "ticks": ""
           },
           "baxis": {
            "gridcolor": "#DFE8F3",
            "linecolor": "#A2B1C6",
            "ticks": ""
           },
           "bgcolor": "white",
           "caxis": {
            "gridcolor": "#DFE8F3",
            "linecolor": "#A2B1C6",
            "ticks": ""
           }
          },
          "title": {
           "x": 0.05
          },
          "xaxis": {
           "automargin": true,
           "gridcolor": "#EBF0F8",
           "linecolor": "#EBF0F8",
           "ticks": "",
           "title": {
            "standoff": 15
           },
           "zerolinecolor": "#EBF0F8",
           "zerolinewidth": 2
          },
          "yaxis": {
           "automargin": true,
           "gridcolor": "#EBF0F8",
           "linecolor": "#EBF0F8",
           "ticks": "",
           "title": {
            "standoff": 15
           },
           "zerolinecolor": "#EBF0F8",
           "zerolinewidth": 2
          }
         }
        },
        "title": {
         "text": "Evolution of prices - Unit: Euro/100 kg"
        },
        "xaxis": {
         "anchor": "y",
         "domain": [
          0,
          1
         ],
         "title": {
          "text": "Year"
         }
        },
        "yaxis": {
         "anchor": "x",
         "domain": [
          0,
          1
         ],
         "title": {
          "text": "Price (Euro/100 kg)"
         }
        }
       }
      }
     },
     "metadata": {},
     "output_type": "display_data"
    },
    {
     "data": {
      "application/vnd.plotly.v1+json": {
       "config": {
        "plotlyServerURL": "https://plot.ly"
       },
       "data": [
        {
         "hovertemplate": "produtos_agricolas=Rosa<br>Ano=%{x}<br>Preco=%{y}<extra></extra>",
         "legendgroup": "Rosa",
         "line": {
          "color": "#636efa",
          "dash": "solid"
         },
         "marker": {
          "symbol": "circle"
         },
         "mode": "lines+markers",
         "name": "Rosa",
         "orientation": "v",
         "showlegend": true,
         "type": "scatter",
         "x": {
          "bdata": "2gfbB9wH3QfeB98H4AfhB+IH4wfkB+UH5gfnB+gH",
          "dtype": "i2"
         },
         "xaxis": "x",
         "y": {
          "bdata": "FK5H4XpUTkAzMzMzM9NHQNejcD0Kl0pAcT0K16MQSUBcj8L1KDxBQArXo3A9ikJArkfhehROQ0A9CtejcD1FQIXrUbgepUNAhetRuB6lRUCkcD0K16NFQDMzMzMzs0VAAAAAAAAARkCPwvUoXI9HQAAAAAAAgExA",
          "dtype": "f8"
         },
         "yaxis": "y"
        },
        {
         "hovertemplate": "produtos_agricolas=Cravo<br>Ano=%{x}<br>Preco=%{y}<extra></extra>",
         "legendgroup": "Cravo",
         "line": {
          "color": "#EF553B",
          "dash": "solid"
         },
         "marker": {
          "symbol": "circle"
         },
         "mode": "lines+markers",
         "name": "Cravo",
         "orientation": "v",
         "showlegend": true,
         "type": "scatter",
         "x": {
          "bdata": "2gfbB9wH3QfeB98H4AfhB+IH4wfkB+UH5gfnB+gH",
          "dtype": "i2"
         },
         "xaxis": "x",
         "y": {
          "bdata": "ZmZmZmbmMkC4HoXrUXgwQGZmZmZmJjJAexSuR+H6M0CamZmZmVk0QHE9Ctej8DBApHA9CtcjMECPwvUoXA8yQClcj8L1aDNAj8L1KFwPM0BSuB6F6xEyQAAAAAAAADJAAAAAAAAAMkAAAAAAAAAyQAAAAAAAADJA",
          "dtype": "f8"
         },
         "yaxis": "y"
        },
        {
         "hovertemplate": "produtos_agricolas=Gerbera<br>Ano=%{x}<br>Preco=%{y}<extra></extra>",
         "legendgroup": "Gerbera",
         "line": {
          "color": "#00cc96",
          "dash": "solid"
         },
         "marker": {
          "symbol": "circle"
         },
         "mode": "lines+markers",
         "name": "Gerbera",
         "orientation": "v",
         "showlegend": true,
         "type": "scatter",
         "x": {
          "bdata": "2gfbB9wH3QfeB98H4AfhB+IH4wfkB+UH5gfnB+gH",
          "dtype": "i2"
         },
         "xaxis": "x",
         "y": {
          "bdata": "w/UoXI9iRUAzMzMzM5NDQArXo3A9ij9AAAAAAACAP0AzMzMzM7M6QBSuR+F6FDpAUrgehevRPEBxPQrXozBAQIXrUbgeBUBASOF6FK5HPUCamZmZmVk5QJqZmZmZmThAAAAAAAAAOECPwvUoXM88QAAAAAAAAERA",
          "dtype": "f8"
         },
         "yaxis": "y"
        },
        {
         "hovertemplate": "produtos_agricolas=Estrelícia<br>Ano=%{x}<br>Preco=%{y}<extra></extra>",
         "legendgroup": "Estrelícia",
         "line": {
          "color": "#ab63fa",
          "dash": "solid"
         },
         "marker": {
          "symbol": "circle"
         },
         "mode": "lines+markers",
         "name": "Estrelícia",
         "orientation": "v",
         "showlegend": true,
         "type": "scatter",
         "x": {
          "bdata": "2gfbB9wH3QfeB98H4AfhB+IH4wfkB+UH5gfnB+gH",
          "dtype": "i2"
         },
         "xaxis": "x",
         "y": {
          "bdata": "CtejcD1KQUB7FK5H4fo/QB+F61G43j9ApHA9CteDQEC4HoXrUTg8QDMzMzMz8z1ACtejcD1KPUAAAAAAAAA+QAAAAAAAAD5ASOF6FK7HPkAAAAAAAAA+QKRwPQrXIzlAAAAAAAAAOUD2KFyPwvU9QAAAAAAAAERA",
          "dtype": "f8"
         },
         "yaxis": "y"
        },
        {
         "hovertemplate": "produtos_agricolas=Antúrio<br>Ano=%{x}<br>Preco=%{y}<extra></extra>",
         "legendgroup": "Antúrio",
         "line": {
          "color": "#FFA15A",
          "dash": "solid"
         },
         "marker": {
          "symbol": "circle"
         },
         "mode": "lines+markers",
         "name": "Antúrio",
         "orientation": "v",
         "showlegend": true,
         "type": "scatter",
         "x": {
          "bdata": "2gfbB9wH3QfeB98H4AfhB+IH4wfkB+UH5gfnB+gH",
          "dtype": "i2"
         },
         "xaxis": "x",
         "y": {
          "bdata": "16NwPQonUEAUrkfhelRMQOF6FK5HIUxAAAAAAADwUUBmZmZmZjZSQGZmZmZmNlJAAAAAAACwUkCamZmZmUlRQFyPwvUojFFAAAAAAADAUkAAAAAAAMBSQAAAAAAAQFBAAAAAAABAUEBmZmZmZiZRQAAAAAAAAFRA",
          "dtype": "f8"
         },
         "yaxis": "y"
        },
        {
         "hovertemplate": "produtos_agricolas=Orquídea<br>Ano=%{x}<br>Preco=%{y}<extra></extra>",
         "legendgroup": "Orquídea",
         "line": {
          "color": "#19d3f3",
          "dash": "solid"
         },
         "marker": {
          "symbol": "circle"
         },
         "mode": "lines+markers",
         "name": "Orquídea",
         "orientation": "v",
         "showlegend": true,
         "type": "scatter",
         "x": {
          "bdata": "2gfbB9wH3QfeB98H4AfhB+IH4wfkB+UH5gfnB+gH",
          "dtype": "i2"
         },
         "xaxis": "x",
         "y": {
          "bdata": "CtejcD02dUBxPQrXo/RyQK5H4XoUGnNApHA9CtfDdkBSuB6F6+FRQK5H4XoUrlZAAAAAAABQU0DsUbgehQtHQPYoXI/CBVFAFK5H4Xr0TUAAAAAAAKBNQAAAAAAAQEdAXI/C9ShcRkAzMzMzMzNJQMP1KFyPYkpA",
          "dtype": "f8"
         },
         "yaxis": "y"
        },
        {
         "hovertemplate": "produtos_agricolas=Protea<br>Ano=%{x}<br>Preco=%{y}<extra></extra>",
         "legendgroup": "Protea",
         "line": {
          "color": "#FF6692",
          "dash": "solid"
         },
         "marker": {
          "symbol": "circle"
         },
         "mode": "lines+markers",
         "name": "Protea",
         "orientation": "v",
         "showlegend": true,
         "type": "scatter",
         "x": {
          "bdata": "2gfbB9wH3QfeB98H4AfhB+IH4wfkB+UH5gfnB+gH",
          "dtype": "i2"
         },
         "xaxis": "x",
         "y": {
          "bdata": "MzMzMzMzXkDXo3A9CmdqQAAAAAAAoGNA7FG4HoWLZEDsUbgehctcQDMzMzMzi2FAMzMzMzNTW0CuR+F6FM5eQM3MzMzMvGpAMzMzMzNjaUAzMzMzMzNjQD0K16NwlWJAPQrXo3CVYkBSuB6F6xljQHsUrkfhqmZA",
          "dtype": "f8"
         },
         "yaxis": "y"
        },
        {
         "hovertemplate": "produtos_agricolas=Ovos<br>Ano=%{x}<br>Preco=%{y}<extra></extra>",
         "legendgroup": "Ovos",
         "line": {
          "color": "#B6E880",
          "dash": "solid"
         },
         "marker": {
          "symbol": "circle"
         },
         "mode": "lines+markers",
         "name": "Ovos",
         "orientation": "v",
         "showlegend": true,
         "type": "scatter",
         "x": {
          "bdata": "2gfbB9wH3QfeB98H4AfhB+IH4wfkB+UH5gfnB+gH",
          "dtype": "i2"
         },
         "xaxis": "x",
         "y": {
          "bdata": "MzMzMzMzJ0AUrkfhepQkQFK4HoXr0SZAw/UoXI9CJ0CF61G4HoUhQIXrUbgehSFAj8L1KFyPJECPwvUoXI8kQDMzMzMzsyhAUrgehevRJ0CuR+F6FK4nQJqZmZmZmSZACtejcD2KL0B7FK5H4bo0QHsUrkfhujRA",
          "dtype": "f8"
         },
         "yaxis": "y"
        }
       ],
       "layout": {
        "legend": {
         "title": {
          "text": "Product"
         },
         "tracegroupgap": 0
        },
        "template": {
         "data": {
          "bar": [
           {
            "error_x": {
             "color": "#2a3f5f"
            },
            "error_y": {
             "color": "#2a3f5f"
            },
            "marker": {
             "line": {
              "color": "white",
              "width": 0.5
             },
             "pattern": {
              "fillmode": "overlay",
              "size": 10,
              "solidity": 0.2
             }
            },
            "type": "bar"
           }
          ],
          "barpolar": [
           {
            "marker": {
             "line": {
              "color": "white",
              "width": 0.5
             },
             "pattern": {
              "fillmode": "overlay",
              "size": 10,
              "solidity": 0.2
             }
            },
            "type": "barpolar"
           }
          ],
          "carpet": [
           {
            "aaxis": {
             "endlinecolor": "#2a3f5f",
             "gridcolor": "#C8D4E3",
             "linecolor": "#C8D4E3",
             "minorgridcolor": "#C8D4E3",
             "startlinecolor": "#2a3f5f"
            },
            "baxis": {
             "endlinecolor": "#2a3f5f",
             "gridcolor": "#C8D4E3",
             "linecolor": "#C8D4E3",
             "minorgridcolor": "#C8D4E3",
             "startlinecolor": "#2a3f5f"
            },
            "type": "carpet"
           }
          ],
          "choropleth": [
           {
            "colorbar": {
             "outlinewidth": 0,
             "ticks": ""
            },
            "type": "choropleth"
           }
          ],
          "contour": [
           {
            "colorbar": {
             "outlinewidth": 0,
             "ticks": ""
            },
            "colorscale": [
             [
              0,
              "#0d0887"
             ],
             [
              0.1111111111111111,
              "#46039f"
             ],
             [
              0.2222222222222222,
              "#7201a8"
             ],
             [
              0.3333333333333333,
              "#9c179e"
             ],
             [
              0.4444444444444444,
              "#bd3786"
             ],
             [
              0.5555555555555556,
              "#d8576b"
             ],
             [
              0.6666666666666666,
              "#ed7953"
             ],
             [
              0.7777777777777778,
              "#fb9f3a"
             ],
             [
              0.8888888888888888,
              "#fdca26"
             ],
             [
              1,
              "#f0f921"
             ]
            ],
            "type": "contour"
           }
          ],
          "contourcarpet": [
           {
            "colorbar": {
             "outlinewidth": 0,
             "ticks": ""
            },
            "type": "contourcarpet"
           }
          ],
          "heatmap": [
           {
            "colorbar": {
             "outlinewidth": 0,
             "ticks": ""
            },
            "colorscale": [
             [
              0,
              "#0d0887"
             ],
             [
              0.1111111111111111,
              "#46039f"
             ],
             [
              0.2222222222222222,
              "#7201a8"
             ],
             [
              0.3333333333333333,
              "#9c179e"
             ],
             [
              0.4444444444444444,
              "#bd3786"
             ],
             [
              0.5555555555555556,
              "#d8576b"
             ],
             [
              0.6666666666666666,
              "#ed7953"
             ],
             [
              0.7777777777777778,
              "#fb9f3a"
             ],
             [
              0.8888888888888888,
              "#fdca26"
             ],
             [
              1,
              "#f0f921"
             ]
            ],
            "type": "heatmap"
           }
          ],
          "histogram": [
           {
            "marker": {
             "pattern": {
              "fillmode": "overlay",
              "size": 10,
              "solidity": 0.2
             }
            },
            "type": "histogram"
           }
          ],
          "histogram2d": [
           {
            "colorbar": {
             "outlinewidth": 0,
             "ticks": ""
            },
            "colorscale": [
             [
              0,
              "#0d0887"
             ],
             [
              0.1111111111111111,
              "#46039f"
             ],
             [
              0.2222222222222222,
              "#7201a8"
             ],
             [
              0.3333333333333333,
              "#9c179e"
             ],
             [
              0.4444444444444444,
              "#bd3786"
             ],
             [
              0.5555555555555556,
              "#d8576b"
             ],
             [
              0.6666666666666666,
              "#ed7953"
             ],
             [
              0.7777777777777778,
              "#fb9f3a"
             ],
             [
              0.8888888888888888,
              "#fdca26"
             ],
             [
              1,
              "#f0f921"
             ]
            ],
            "type": "histogram2d"
           }
          ],
          "histogram2dcontour": [
           {
            "colorbar": {
             "outlinewidth": 0,
             "ticks": ""
            },
            "colorscale": [
             [
              0,
              "#0d0887"
             ],
             [
              0.1111111111111111,
              "#46039f"
             ],
             [
              0.2222222222222222,
              "#7201a8"
             ],
             [
              0.3333333333333333,
              "#9c179e"
             ],
             [
              0.4444444444444444,
              "#bd3786"
             ],
             [
              0.5555555555555556,
              "#d8576b"
             ],
             [
              0.6666666666666666,
              "#ed7953"
             ],
             [
              0.7777777777777778,
              "#fb9f3a"
             ],
             [
              0.8888888888888888,
              "#fdca26"
             ],
             [
              1,
              "#f0f921"
             ]
            ],
            "type": "histogram2dcontour"
           }
          ],
          "mesh3d": [
           {
            "colorbar": {
             "outlinewidth": 0,
             "ticks": ""
            },
            "type": "mesh3d"
           }
          ],
          "parcoords": [
           {
            "line": {
             "colorbar": {
              "outlinewidth": 0,
              "ticks": ""
             }
            },
            "type": "parcoords"
           }
          ],
          "pie": [
           {
            "automargin": true,
            "type": "pie"
           }
          ],
          "scatter": [
           {
            "fillpattern": {
             "fillmode": "overlay",
             "size": 10,
             "solidity": 0.2
            },
            "type": "scatter"
           }
          ],
          "scatter3d": [
           {
            "line": {
             "colorbar": {
              "outlinewidth": 0,
              "ticks": ""
             }
            },
            "marker": {
             "colorbar": {
              "outlinewidth": 0,
              "ticks": ""
             }
            },
            "type": "scatter3d"
           }
          ],
          "scattercarpet": [
           {
            "marker": {
             "colorbar": {
              "outlinewidth": 0,
              "ticks": ""
             }
            },
            "type": "scattercarpet"
           }
          ],
          "scattergeo": [
           {
            "marker": {
             "colorbar": {
              "outlinewidth": 0,
              "ticks": ""
             }
            },
            "type": "scattergeo"
           }
          ],
          "scattergl": [
           {
            "marker": {
             "colorbar": {
              "outlinewidth": 0,
              "ticks": ""
             }
            },
            "type": "scattergl"
           }
          ],
          "scattermap": [
           {
            "marker": {
             "colorbar": {
              "outlinewidth": 0,
              "ticks": ""
             }
            },
            "type": "scattermap"
           }
          ],
          "scattermapbox": [
           {
            "marker": {
             "colorbar": {
              "outlinewidth": 0,
              "ticks": ""
             }
            },
            "type": "scattermapbox"
           }
          ],
          "scatterpolar": [
           {
            "marker": {
             "colorbar": {
              "outlinewidth": 0,
              "ticks": ""
             }
            },
            "type": "scatterpolar"
           }
          ],
          "scatterpolargl": [
           {
            "marker": {
             "colorbar": {
              "outlinewidth": 0,
              "ticks": ""
             }
            },
            "type": "scatterpolargl"
           }
          ],
          "scatterternary": [
           {
            "marker": {
             "colorbar": {
              "outlinewidth": 0,
              "ticks": ""
             }
            },
            "type": "scatterternary"
           }
          ],
          "surface": [
           {
            "colorbar": {
             "outlinewidth": 0,
             "ticks": ""
            },
            "colorscale": [
             [
              0,
              "#0d0887"
             ],
             [
              0.1111111111111111,
              "#46039f"
             ],
             [
              0.2222222222222222,
              "#7201a8"
             ],
             [
              0.3333333333333333,
              "#9c179e"
             ],
             [
              0.4444444444444444,
              "#bd3786"
             ],
             [
              0.5555555555555556,
              "#d8576b"
             ],
             [
              0.6666666666666666,
              "#ed7953"
             ],
             [
              0.7777777777777778,
              "#fb9f3a"
             ],
             [
              0.8888888888888888,
              "#fdca26"
             ],
             [
              1,
              "#f0f921"
             ]
            ],
            "type": "surface"
           }
          ],
          "table": [
           {
            "cells": {
             "fill": {
              "color": "#EBF0F8"
             },
             "line": {
              "color": "white"
             }
            },
            "header": {
             "fill": {
              "color": "#C8D4E3"
             },
             "line": {
              "color": "white"
             }
            },
            "type": "table"
           }
          ]
         },
         "layout": {
          "annotationdefaults": {
           "arrowcolor": "#2a3f5f",
           "arrowhead": 0,
           "arrowwidth": 1
          },
          "autotypenumbers": "strict",
          "coloraxis": {
           "colorbar": {
            "outlinewidth": 0,
            "ticks": ""
           }
          },
          "colorscale": {
           "diverging": [
            [
             0,
             "#8e0152"
            ],
            [
             0.1,
             "#c51b7d"
            ],
            [
             0.2,
             "#de77ae"
            ],
            [
             0.3,
             "#f1b6da"
            ],
            [
             0.4,
             "#fde0ef"
            ],
            [
             0.5,
             "#f7f7f7"
            ],
            [
             0.6,
             "#e6f5d0"
            ],
            [
             0.7,
             "#b8e186"
            ],
            [
             0.8,
             "#7fbc41"
            ],
            [
             0.9,
             "#4d9221"
            ],
            [
             1,
             "#276419"
            ]
           ],
           "sequential": [
            [
             0,
             "#0d0887"
            ],
            [
             0.1111111111111111,
             "#46039f"
            ],
            [
             0.2222222222222222,
             "#7201a8"
            ],
            [
             0.3333333333333333,
             "#9c179e"
            ],
            [
             0.4444444444444444,
             "#bd3786"
            ],
            [
             0.5555555555555556,
             "#d8576b"
            ],
            [
             0.6666666666666666,
             "#ed7953"
            ],
            [
             0.7777777777777778,
             "#fb9f3a"
            ],
            [
             0.8888888888888888,
             "#fdca26"
            ],
            [
             1,
             "#f0f921"
            ]
           ],
           "sequentialminus": [
            [
             0,
             "#0d0887"
            ],
            [
             0.1111111111111111,
             "#46039f"
            ],
            [
             0.2222222222222222,
             "#7201a8"
            ],
            [
             0.3333333333333333,
             "#9c179e"
            ],
            [
             0.4444444444444444,
             "#bd3786"
            ],
            [
             0.5555555555555556,
             "#d8576b"
            ],
            [
             0.6666666666666666,
             "#ed7953"
            ],
            [
             0.7777777777777778,
             "#fb9f3a"
            ],
            [
             0.8888888888888888,
             "#fdca26"
            ],
            [
             1,
             "#f0f921"
            ]
           ]
          },
          "colorway": [
           "#636efa",
           "#EF553B",
           "#00cc96",
           "#ab63fa",
           "#FFA15A",
           "#19d3f3",
           "#FF6692",
           "#B6E880",
           "#FF97FF",
           "#FECB52"
          ],
          "font": {
           "color": "#2a3f5f"
          },
          "geo": {
           "bgcolor": "white",
           "lakecolor": "white",
           "landcolor": "white",
           "showlakes": true,
           "showland": true,
           "subunitcolor": "#C8D4E3"
          },
          "hoverlabel": {
           "align": "left"
          },
          "hovermode": "closest",
          "mapbox": {
           "style": "light"
          },
          "paper_bgcolor": "white",
          "plot_bgcolor": "white",
          "polar": {
           "angularaxis": {
            "gridcolor": "#EBF0F8",
            "linecolor": "#EBF0F8",
            "ticks": ""
           },
           "bgcolor": "white",
           "radialaxis": {
            "gridcolor": "#EBF0F8",
            "linecolor": "#EBF0F8",
            "ticks": ""
           }
          },
          "scene": {
           "xaxis": {
            "backgroundcolor": "white",
            "gridcolor": "#DFE8F3",
            "gridwidth": 2,
            "linecolor": "#EBF0F8",
            "showbackground": true,
            "ticks": "",
            "zerolinecolor": "#EBF0F8"
           },
           "yaxis": {
            "backgroundcolor": "white",
            "gridcolor": "#DFE8F3",
            "gridwidth": 2,
            "linecolor": "#EBF0F8",
            "showbackground": true,
            "ticks": "",
            "zerolinecolor": "#EBF0F8"
           },
           "zaxis": {
            "backgroundcolor": "white",
            "gridcolor": "#DFE8F3",
            "gridwidth": 2,
            "linecolor": "#EBF0F8",
            "showbackground": true,
            "ticks": "",
            "zerolinecolor": "#EBF0F8"
           }
          },
          "shapedefaults": {
           "line": {
            "color": "#2a3f5f"
           }
          },
          "ternary": {
           "aaxis": {
            "gridcolor": "#DFE8F3",
            "linecolor": "#A2B1C6",
            "ticks": ""
           },
           "baxis": {
            "gridcolor": "#DFE8F3",
            "linecolor": "#A2B1C6",
            "ticks": ""
           },
           "bgcolor": "white",
           "caxis": {
            "gridcolor": "#DFE8F3",
            "linecolor": "#A2B1C6",
            "ticks": ""
           }
          },
          "title": {
           "x": 0.05
          },
          "xaxis": {
           "automargin": true,
           "gridcolor": "#EBF0F8",
           "linecolor": "#EBF0F8",
           "ticks": "",
           "title": {
            "standoff": 15
           },
           "zerolinecolor": "#EBF0F8",
           "zerolinewidth": 2
          },
          "yaxis": {
           "automargin": true,
           "gridcolor": "#EBF0F8",
           "linecolor": "#EBF0F8",
           "ticks": "",
           "title": {
            "standoff": 15
           },
           "zerolinecolor": "#EBF0F8",
           "zerolinewidth": 2
          }
         }
        },
        "title": {
         "text": "Evolution of prices - Unit: Euro/100 unid."
        },
        "xaxis": {
         "anchor": "y",
         "domain": [
          0,
          1
         ],
         "title": {
          "text": "Year"
         }
        },
        "yaxis": {
         "anchor": "x",
         "domain": [
          0,
          1
         ],
         "title": {
          "text": "Price (Euro/100 unid.)"
         }
        }
       }
      }
     },
     "metadata": {},
     "output_type": "display_data"
    },
    {
     "data": {
      "application/vnd.plotly.v1+json": {
       "config": {
        "plotlyServerURL": "https://plot.ly"
       },
       "data": [
        {
         "hovertemplate": "produtos_agricolas=Vinho de qualidade (DO)<br>Ano=%{x}<br>Preco=%{y}<extra></extra>",
         "legendgroup": "Vinho de qualidade (DO)",
         "line": {
          "color": "#636efa",
          "dash": "solid"
         },
         "marker": {
          "symbol": "circle"
         },
         "mode": "lines+markers",
         "name": "Vinho de qualidade (DO)",
         "orientation": "v",
         "showlegend": true,
         "type": "scatter",
         "x": {
          "bdata": "2gfbB9wH3QfeB98H4AfhB+IH4wfkB+UH5gfnB+gH",
          "dtype": "i2"
         },
         "xaxis": "x",
         "y": {
          "bdata": "AAAAAACYkkBmZmZmZrGSQGZmZmZmsZJAAAAAAABSkUAAAAAAAF6PQAAAAAAACpRAAAAAAADnkEAAAAAAAOeQQHE9CtejO5JACtejcD1qkUAAAAAAAFyQQAAAAAAAj5BAAAAAAAA2kUAAAAAAADGSQAAAAAAAsJNA",
          "dtype": "f8"
         },
         "yaxis": "y"
        }
       ],
       "layout": {
        "legend": {
         "title": {
          "text": "Product"
         },
         "tracegroupgap": 0
        },
        "template": {
         "data": {
          "bar": [
           {
            "error_x": {
             "color": "#2a3f5f"
            },
            "error_y": {
             "color": "#2a3f5f"
            },
            "marker": {
             "line": {
              "color": "white",
              "width": 0.5
             },
             "pattern": {
              "fillmode": "overlay",
              "size": 10,
              "solidity": 0.2
             }
            },
            "type": "bar"
           }
          ],
          "barpolar": [
           {
            "marker": {
             "line": {
              "color": "white",
              "width": 0.5
             },
             "pattern": {
              "fillmode": "overlay",
              "size": 10,
              "solidity": 0.2
             }
            },
            "type": "barpolar"
           }
          ],
          "carpet": [
           {
            "aaxis": {
             "endlinecolor": "#2a3f5f",
             "gridcolor": "#C8D4E3",
             "linecolor": "#C8D4E3",
             "minorgridcolor": "#C8D4E3",
             "startlinecolor": "#2a3f5f"
            },
            "baxis": {
             "endlinecolor": "#2a3f5f",
             "gridcolor": "#C8D4E3",
             "linecolor": "#C8D4E3",
             "minorgridcolor": "#C8D4E3",
             "startlinecolor": "#2a3f5f"
            },
            "type": "carpet"
           }
          ],
          "choropleth": [
           {
            "colorbar": {
             "outlinewidth": 0,
             "ticks": ""
            },
            "type": "choropleth"
           }
          ],
          "contour": [
           {
            "colorbar": {
             "outlinewidth": 0,
             "ticks": ""
            },
            "colorscale": [
             [
              0,
              "#0d0887"
             ],
             [
              0.1111111111111111,
              "#46039f"
             ],
             [
              0.2222222222222222,
              "#7201a8"
             ],
             [
              0.3333333333333333,
              "#9c179e"
             ],
             [
              0.4444444444444444,
              "#bd3786"
             ],
             [
              0.5555555555555556,
              "#d8576b"
             ],
             [
              0.6666666666666666,
              "#ed7953"
             ],
             [
              0.7777777777777778,
              "#fb9f3a"
             ],
             [
              0.8888888888888888,
              "#fdca26"
             ],
             [
              1,
              "#f0f921"
             ]
            ],
            "type": "contour"
           }
          ],
          "contourcarpet": [
           {
            "colorbar": {
             "outlinewidth": 0,
             "ticks": ""
            },
            "type": "contourcarpet"
           }
          ],
          "heatmap": [
           {
            "colorbar": {
             "outlinewidth": 0,
             "ticks": ""
            },
            "colorscale": [
             [
              0,
              "#0d0887"
             ],
             [
              0.1111111111111111,
              "#46039f"
             ],
             [
              0.2222222222222222,
              "#7201a8"
             ],
             [
              0.3333333333333333,
              "#9c179e"
             ],
             [
              0.4444444444444444,
              "#bd3786"
             ],
             [
              0.5555555555555556,
              "#d8576b"
             ],
             [
              0.6666666666666666,
              "#ed7953"
             ],
             [
              0.7777777777777778,
              "#fb9f3a"
             ],
             [
              0.8888888888888888,
              "#fdca26"
             ],
             [
              1,
              "#f0f921"
             ]
            ],
            "type": "heatmap"
           }
          ],
          "histogram": [
           {
            "marker": {
             "pattern": {
              "fillmode": "overlay",
              "size": 10,
              "solidity": 0.2
             }
            },
            "type": "histogram"
           }
          ],
          "histogram2d": [
           {
            "colorbar": {
             "outlinewidth": 0,
             "ticks": ""
            },
            "colorscale": [
             [
              0,
              "#0d0887"
             ],
             [
              0.1111111111111111,
              "#46039f"
             ],
             [
              0.2222222222222222,
              "#7201a8"
             ],
             [
              0.3333333333333333,
              "#9c179e"
             ],
             [
              0.4444444444444444,
              "#bd3786"
             ],
             [
              0.5555555555555556,
              "#d8576b"
             ],
             [
              0.6666666666666666,
              "#ed7953"
             ],
             [
              0.7777777777777778,
              "#fb9f3a"
             ],
             [
              0.8888888888888888,
              "#fdca26"
             ],
             [
              1,
              "#f0f921"
             ]
            ],
            "type": "histogram2d"
           }
          ],
          "histogram2dcontour": [
           {
            "colorbar": {
             "outlinewidth": 0,
             "ticks": ""
            },
            "colorscale": [
             [
              0,
              "#0d0887"
             ],
             [
              0.1111111111111111,
              "#46039f"
             ],
             [
              0.2222222222222222,
              "#7201a8"
             ],
             [
              0.3333333333333333,
              "#9c179e"
             ],
             [
              0.4444444444444444,
              "#bd3786"
             ],
             [
              0.5555555555555556,
              "#d8576b"
             ],
             [
              0.6666666666666666,
              "#ed7953"
             ],
             [
              0.7777777777777778,
              "#fb9f3a"
             ],
             [
              0.8888888888888888,
              "#fdca26"
             ],
             [
              1,
              "#f0f921"
             ]
            ],
            "type": "histogram2dcontour"
           }
          ],
          "mesh3d": [
           {
            "colorbar": {
             "outlinewidth": 0,
             "ticks": ""
            },
            "type": "mesh3d"
           }
          ],
          "parcoords": [
           {
            "line": {
             "colorbar": {
              "outlinewidth": 0,
              "ticks": ""
             }
            },
            "type": "parcoords"
           }
          ],
          "pie": [
           {
            "automargin": true,
            "type": "pie"
           }
          ],
          "scatter": [
           {
            "fillpattern": {
             "fillmode": "overlay",
             "size": 10,
             "solidity": 0.2
            },
            "type": "scatter"
           }
          ],
          "scatter3d": [
           {
            "line": {
             "colorbar": {
              "outlinewidth": 0,
              "ticks": ""
             }
            },
            "marker": {
             "colorbar": {
              "outlinewidth": 0,
              "ticks": ""
             }
            },
            "type": "scatter3d"
           }
          ],
          "scattercarpet": [
           {
            "marker": {
             "colorbar": {
              "outlinewidth": 0,
              "ticks": ""
             }
            },
            "type": "scattercarpet"
           }
          ],
          "scattergeo": [
           {
            "marker": {
             "colorbar": {
              "outlinewidth": 0,
              "ticks": ""
             }
            },
            "type": "scattergeo"
           }
          ],
          "scattergl": [
           {
            "marker": {
             "colorbar": {
              "outlinewidth": 0,
              "ticks": ""
             }
            },
            "type": "scattergl"
           }
          ],
          "scattermap": [
           {
            "marker": {
             "colorbar": {
              "outlinewidth": 0,
              "ticks": ""
             }
            },
            "type": "scattermap"
           }
          ],
          "scattermapbox": [
           {
            "marker": {
             "colorbar": {
              "outlinewidth": 0,
              "ticks": ""
             }
            },
            "type": "scattermapbox"
           }
          ],
          "scatterpolar": [
           {
            "marker": {
             "colorbar": {
              "outlinewidth": 0,
              "ticks": ""
             }
            },
            "type": "scatterpolar"
           }
          ],
          "scatterpolargl": [
           {
            "marker": {
             "colorbar": {
              "outlinewidth": 0,
              "ticks": ""
             }
            },
            "type": "scatterpolargl"
           }
          ],
          "scatterternary": [
           {
            "marker": {
             "colorbar": {
              "outlinewidth": 0,
              "ticks": ""
             }
            },
            "type": "scatterternary"
           }
          ],
          "surface": [
           {
            "colorbar": {
             "outlinewidth": 0,
             "ticks": ""
            },
            "colorscale": [
             [
              0,
              "#0d0887"
             ],
             [
              0.1111111111111111,
              "#46039f"
             ],
             [
              0.2222222222222222,
              "#7201a8"
             ],
             [
              0.3333333333333333,
              "#9c179e"
             ],
             [
              0.4444444444444444,
              "#bd3786"
             ],
             [
              0.5555555555555556,
              "#d8576b"
             ],
             [
              0.6666666666666666,
              "#ed7953"
             ],
             [
              0.7777777777777778,
              "#fb9f3a"
             ],
             [
              0.8888888888888888,
              "#fdca26"
             ],
             [
              1,
              "#f0f921"
             ]
            ],
            "type": "surface"
           }
          ],
          "table": [
           {
            "cells": {
             "fill": {
              "color": "#EBF0F8"
             },
             "line": {
              "color": "white"
             }
            },
            "header": {
             "fill": {
              "color": "#C8D4E3"
             },
             "line": {
              "color": "white"
             }
            },
            "type": "table"
           }
          ]
         },
         "layout": {
          "annotationdefaults": {
           "arrowcolor": "#2a3f5f",
           "arrowhead": 0,
           "arrowwidth": 1
          },
          "autotypenumbers": "strict",
          "coloraxis": {
           "colorbar": {
            "outlinewidth": 0,
            "ticks": ""
           }
          },
          "colorscale": {
           "diverging": [
            [
             0,
             "#8e0152"
            ],
            [
             0.1,
             "#c51b7d"
            ],
            [
             0.2,
             "#de77ae"
            ],
            [
             0.3,
             "#f1b6da"
            ],
            [
             0.4,
             "#fde0ef"
            ],
            [
             0.5,
             "#f7f7f7"
            ],
            [
             0.6,
             "#e6f5d0"
            ],
            [
             0.7,
             "#b8e186"
            ],
            [
             0.8,
             "#7fbc41"
            ],
            [
             0.9,
             "#4d9221"
            ],
            [
             1,
             "#276419"
            ]
           ],
           "sequential": [
            [
             0,
             "#0d0887"
            ],
            [
             0.1111111111111111,
             "#46039f"
            ],
            [
             0.2222222222222222,
             "#7201a8"
            ],
            [
             0.3333333333333333,
             "#9c179e"
            ],
            [
             0.4444444444444444,
             "#bd3786"
            ],
            [
             0.5555555555555556,
             "#d8576b"
            ],
            [
             0.6666666666666666,
             "#ed7953"
            ],
            [
             0.7777777777777778,
             "#fb9f3a"
            ],
            [
             0.8888888888888888,
             "#fdca26"
            ],
            [
             1,
             "#f0f921"
            ]
           ],
           "sequentialminus": [
            [
             0,
             "#0d0887"
            ],
            [
             0.1111111111111111,
             "#46039f"
            ],
            [
             0.2222222222222222,
             "#7201a8"
            ],
            [
             0.3333333333333333,
             "#9c179e"
            ],
            [
             0.4444444444444444,
             "#bd3786"
            ],
            [
             0.5555555555555556,
             "#d8576b"
            ],
            [
             0.6666666666666666,
             "#ed7953"
            ],
            [
             0.7777777777777778,
             "#fb9f3a"
            ],
            [
             0.8888888888888888,
             "#fdca26"
            ],
            [
             1,
             "#f0f921"
            ]
           ]
          },
          "colorway": [
           "#636efa",
           "#EF553B",
           "#00cc96",
           "#ab63fa",
           "#FFA15A",
           "#19d3f3",
           "#FF6692",
           "#B6E880",
           "#FF97FF",
           "#FECB52"
          ],
          "font": {
           "color": "#2a3f5f"
          },
          "geo": {
           "bgcolor": "white",
           "lakecolor": "white",
           "landcolor": "white",
           "showlakes": true,
           "showland": true,
           "subunitcolor": "#C8D4E3"
          },
          "hoverlabel": {
           "align": "left"
          },
          "hovermode": "closest",
          "mapbox": {
           "style": "light"
          },
          "paper_bgcolor": "white",
          "plot_bgcolor": "white",
          "polar": {
           "angularaxis": {
            "gridcolor": "#EBF0F8",
            "linecolor": "#EBF0F8",
            "ticks": ""
           },
           "bgcolor": "white",
           "radialaxis": {
            "gridcolor": "#EBF0F8",
            "linecolor": "#EBF0F8",
            "ticks": ""
           }
          },
          "scene": {
           "xaxis": {
            "backgroundcolor": "white",
            "gridcolor": "#DFE8F3",
            "gridwidth": 2,
            "linecolor": "#EBF0F8",
            "showbackground": true,
            "ticks": "",
            "zerolinecolor": "#EBF0F8"
           },
           "yaxis": {
            "backgroundcolor": "white",
            "gridcolor": "#DFE8F3",
            "gridwidth": 2,
            "linecolor": "#EBF0F8",
            "showbackground": true,
            "ticks": "",
            "zerolinecolor": "#EBF0F8"
           },
           "zaxis": {
            "backgroundcolor": "white",
            "gridcolor": "#DFE8F3",
            "gridwidth": 2,
            "linecolor": "#EBF0F8",
            "showbackground": true,
            "ticks": "",
            "zerolinecolor": "#EBF0F8"
           }
          },
          "shapedefaults": {
           "line": {
            "color": "#2a3f5f"
           }
          },
          "ternary": {
           "aaxis": {
            "gridcolor": "#DFE8F3",
            "linecolor": "#A2B1C6",
            "ticks": ""
           },
           "baxis": {
            "gridcolor": "#DFE8F3",
            "linecolor": "#A2B1C6",
            "ticks": ""
           },
           "bgcolor": "white",
           "caxis": {
            "gridcolor": "#DFE8F3",
            "linecolor": "#A2B1C6",
            "ticks": ""
           }
          },
          "title": {
           "x": 0.05
          },
          "xaxis": {
           "automargin": true,
           "gridcolor": "#EBF0F8",
           "linecolor": "#EBF0F8",
           "ticks": "",
           "title": {
            "standoff": 15
           },
           "zerolinecolor": "#EBF0F8",
           "zerolinewidth": 2
          },
          "yaxis": {
           "automargin": true,
           "gridcolor": "#EBF0F8",
           "linecolor": "#EBF0F8",
           "ticks": "",
           "title": {
            "standoff": 15
           },
           "zerolinecolor": "#EBF0F8",
           "zerolinewidth": 2
          }
         }
        },
        "title": {
         "text": "Evolution of prices - Unit: Euro/hl"
        },
        "xaxis": {
         "anchor": "y",
         "domain": [
          0,
          1
         ],
         "title": {
          "text": "Year"
         }
        },
        "yaxis": {
         "anchor": "x",
         "domain": [
          0,
          1
         ],
         "title": {
          "text": "Price (Euro/hl)"
         }
        }
       }
      }
     },
     "metadata": {},
     "output_type": "display_data"
    }
   ],
   "source": [
    "import plotly.express as px\n",
    "\n",
    "# valores únicos de unidade\n",
    "unidades = df_long_crops[\"unidade\"].unique()\n",
    "\n",
    "for unidade in unidades:\n",
    "    df_sub = df_long_crops[df_long_crops[\"unidade\"] == unidade]\n",
    "\n",
    "    fig = px.line(\n",
    "        df_sub,\n",
    "        x=\"Ano\",\n",
    "        y=\"Preco\",\n",
    "        color=\"produtos_agricolas\",\n",
    "        title=f\"Evolution of prices - Unit: {unidade}\",\n",
    "        markers=True\n",
    "    )\n",
    "\n",
    "    fig.update_layout(\n",
    "        xaxis_title=\"Year\",\n",
    "        yaxis_title=f\"Price ({unidade})\",\n",
    "        template=\"plotly_white\",\n",
    "        legend_title=\"Product\"\n",
    "    )\n",
    "\n",
    "    fig.show()\n"
   ]
  },
  {
   "cell_type": "markdown",
   "id": "6d627b87",
   "metadata": {},
   "source": [
    "Production (in M€)"
   ]
  },
  {
   "cell_type": "code",
   "execution_count": 28,
   "id": "49c4de0b",
   "metadata": {},
   "outputs": [],
   "source": [
    "df_values = pd.read_excel(r\"C:\\Users\\sofia\\Documents\\Data_Analytics_Ironhack\\Projects\\ironhack_final_project\\Datasets\\Prices_data\\producao_vegetal_por_tipo.xlsx\") \n",
    "\n",
    "df_values = df_values.sort_values(by=[\"Ano\"]).reset_index(drop=True)"
   ]
  },
  {
   "cell_type": "code",
   "execution_count": 29,
   "id": "4946c445",
   "metadata": {},
   "outputs": [
    {
     "data": {
      "text/html": [
       "<div>\n",
       "<style scoped>\n",
       "    .dataframe tbody tr th:only-of-type {\n",
       "        vertical-align: middle;\n",
       "    }\n",
       "\n",
       "    .dataframe tbody tr th {\n",
       "        vertical-align: top;\n",
       "    }\n",
       "\n",
       "    .dataframe thead th {\n",
       "        text-align: right;\n",
       "    }\n",
       "</style>\n",
       "<table border=\"1\" class=\"dataframe\">\n",
       "  <thead>\n",
       "    <tr style=\"text-align: right;\">\n",
       "      <th></th>\n",
       "      <th>Ano</th>\n",
       "      <th>Hortícolas frescos</th>\n",
       "      <th>Plantas e flores</th>\n",
       "      <th>Batatas (inclui sementes)</th>\n",
       "      <th>Frutos frescos</th>\n",
       "      <th>Citrinos</th>\n",
       "      <th>Frutos subtropicais</th>\n",
       "      <th>Uvas</th>\n",
       "      <th>Vinho</th>\n",
       "      <th>Outros produtos vegetais</th>\n",
       "    </tr>\n",
       "  </thead>\n",
       "  <tbody>\n",
       "    <tr>\n",
       "      <th>0</th>\n",
       "      <td>1995</td>\n",
       "      <td>13.01</td>\n",
       "      <td>3.44</td>\n",
       "      <td>9.96</td>\n",
       "      <td>0.86</td>\n",
       "      <td>0.24</td>\n",
       "      <td>11.40</td>\n",
       "      <td>1.00</td>\n",
       "      <td>7.12</td>\n",
       "      <td>11.22</td>\n",
       "    </tr>\n",
       "    <tr>\n",
       "      <th>1</th>\n",
       "      <td>1996</td>\n",
       "      <td>10.95</td>\n",
       "      <td>3.42</td>\n",
       "      <td>9.99</td>\n",
       "      <td>0.92</td>\n",
       "      <td>0.26</td>\n",
       "      <td>12.32</td>\n",
       "      <td>1.07</td>\n",
       "      <td>7.89</td>\n",
       "      <td>11.80</td>\n",
       "    </tr>\n",
       "    <tr>\n",
       "      <th>2</th>\n",
       "      <td>1997</td>\n",
       "      <td>12.01</td>\n",
       "      <td>3.46</td>\n",
       "      <td>10.00</td>\n",
       "      <td>0.99</td>\n",
       "      <td>0.24</td>\n",
       "      <td>10.12</td>\n",
       "      <td>1.41</td>\n",
       "      <td>7.18</td>\n",
       "      <td>11.01</td>\n",
       "    </tr>\n",
       "    <tr>\n",
       "      <th>3</th>\n",
       "      <td>1998</td>\n",
       "      <td>12.23</td>\n",
       "      <td>5.79</td>\n",
       "      <td>9.97</td>\n",
       "      <td>1.33</td>\n",
       "      <td>0.19</td>\n",
       "      <td>9.62</td>\n",
       "      <td>2.07</td>\n",
       "      <td>6.99</td>\n",
       "      <td>7.47</td>\n",
       "    </tr>\n",
       "    <tr>\n",
       "      <th>4</th>\n",
       "      <td>1999</td>\n",
       "      <td>10.57</td>\n",
       "      <td>5.86</td>\n",
       "      <td>21.44</td>\n",
       "      <td>2.48</td>\n",
       "      <td>0.49</td>\n",
       "      <td>5.89</td>\n",
       "      <td>1.94</td>\n",
       "      <td>10.85</td>\n",
       "      <td>4.81</td>\n",
       "    </tr>\n",
       "  </tbody>\n",
       "</table>\n",
       "</div>"
      ],
      "text/plain": [
       "    Ano  Hortícolas frescos  Plantas e flores  Batatas (inclui sementes)  \\\n",
       "0  1995               13.01              3.44                       9.96   \n",
       "1  1996               10.95              3.42                       9.99   \n",
       "2  1997               12.01              3.46                      10.00   \n",
       "3  1998               12.23              5.79                       9.97   \n",
       "4  1999               10.57              5.86                      21.44   \n",
       "\n",
       "   Frutos frescos  Citrinos  Frutos subtropicais  Uvas  Vinho  \\\n",
       "0            0.86      0.24                11.40  1.00   7.12   \n",
       "1            0.92      0.26                12.32  1.07   7.89   \n",
       "2            0.99      0.24                10.12  1.41   7.18   \n",
       "3            1.33      0.19                 9.62  2.07   6.99   \n",
       "4            2.48      0.49                 5.89  1.94  10.85   \n",
       "\n",
       "   Outros produtos vegetais  \n",
       "0                     11.22  \n",
       "1                     11.80  \n",
       "2                     11.01  \n",
       "3                      7.47  \n",
       "4                      4.81  "
      ]
     },
     "execution_count": 29,
     "metadata": {},
     "output_type": "execute_result"
    }
   ],
   "source": [
    "df_values.head()"
   ]
  },
  {
   "cell_type": "code",
   "execution_count": 30,
   "id": "20585597",
   "metadata": {},
   "outputs": [
    {
     "data": {
      "text/html": [
       "<div>\n",
       "<style scoped>\n",
       "    .dataframe tbody tr th:only-of-type {\n",
       "        vertical-align: middle;\n",
       "    }\n",
       "\n",
       "    .dataframe tbody tr th {\n",
       "        vertical-align: top;\n",
       "    }\n",
       "\n",
       "    .dataframe thead th {\n",
       "        text-align: right;\n",
       "    }\n",
       "</style>\n",
       "<table border=\"1\" class=\"dataframe\">\n",
       "  <thead>\n",
       "    <tr style=\"text-align: right;\">\n",
       "      <th></th>\n",
       "      <th>ano</th>\n",
       "      <th>hortícolas_frescos</th>\n",
       "      <th>plantas_e_flores</th>\n",
       "      <th>batatas_(inclui_sementes)</th>\n",
       "      <th>frutos_frescos</th>\n",
       "      <th>citrinos</th>\n",
       "      <th>frutos_subtropicais</th>\n",
       "      <th>uvas</th>\n",
       "      <th>vinho</th>\n",
       "      <th>outros_produtos_vegetais</th>\n",
       "    </tr>\n",
       "  </thead>\n",
       "  <tbody>\n",
       "    <tr>\n",
       "      <th>0</th>\n",
       "      <td>1995</td>\n",
       "      <td>13.01</td>\n",
       "      <td>3.44</td>\n",
       "      <td>9.96</td>\n",
       "      <td>0.86</td>\n",
       "      <td>0.24</td>\n",
       "      <td>11.40</td>\n",
       "      <td>1.00</td>\n",
       "      <td>7.12</td>\n",
       "      <td>11.22</td>\n",
       "    </tr>\n",
       "    <tr>\n",
       "      <th>1</th>\n",
       "      <td>1996</td>\n",
       "      <td>10.95</td>\n",
       "      <td>3.42</td>\n",
       "      <td>9.99</td>\n",
       "      <td>0.92</td>\n",
       "      <td>0.26</td>\n",
       "      <td>12.32</td>\n",
       "      <td>1.07</td>\n",
       "      <td>7.89</td>\n",
       "      <td>11.80</td>\n",
       "    </tr>\n",
       "    <tr>\n",
       "      <th>2</th>\n",
       "      <td>1997</td>\n",
       "      <td>12.01</td>\n",
       "      <td>3.46</td>\n",
       "      <td>10.00</td>\n",
       "      <td>0.99</td>\n",
       "      <td>0.24</td>\n",
       "      <td>10.12</td>\n",
       "      <td>1.41</td>\n",
       "      <td>7.18</td>\n",
       "      <td>11.01</td>\n",
       "    </tr>\n",
       "    <tr>\n",
       "      <th>3</th>\n",
       "      <td>1998</td>\n",
       "      <td>12.23</td>\n",
       "      <td>5.79</td>\n",
       "      <td>9.97</td>\n",
       "      <td>1.33</td>\n",
       "      <td>0.19</td>\n",
       "      <td>9.62</td>\n",
       "      <td>2.07</td>\n",
       "      <td>6.99</td>\n",
       "      <td>7.47</td>\n",
       "    </tr>\n",
       "    <tr>\n",
       "      <th>4</th>\n",
       "      <td>1999</td>\n",
       "      <td>10.57</td>\n",
       "      <td>5.86</td>\n",
       "      <td>21.44</td>\n",
       "      <td>2.48</td>\n",
       "      <td>0.49</td>\n",
       "      <td>5.89</td>\n",
       "      <td>1.94</td>\n",
       "      <td>10.85</td>\n",
       "      <td>4.81</td>\n",
       "    </tr>\n",
       "  </tbody>\n",
       "</table>\n",
       "</div>"
      ],
      "text/plain": [
       "    ano  hortícolas_frescos  plantas_e_flores  batatas_(inclui_sementes)  \\\n",
       "0  1995               13.01              3.44                       9.96   \n",
       "1  1996               10.95              3.42                       9.99   \n",
       "2  1997               12.01              3.46                      10.00   \n",
       "3  1998               12.23              5.79                       9.97   \n",
       "4  1999               10.57              5.86                      21.44   \n",
       "\n",
       "   frutos_frescos  citrinos  frutos_subtropicais  uvas  vinho  \\\n",
       "0            0.86      0.24                11.40  1.00   7.12   \n",
       "1            0.92      0.26                12.32  1.07   7.89   \n",
       "2            0.99      0.24                10.12  1.41   7.18   \n",
       "3            1.33      0.19                 9.62  2.07   6.99   \n",
       "4            2.48      0.49                 5.89  1.94  10.85   \n",
       "\n",
       "   outros_produtos_vegetais  \n",
       "0                     11.22  \n",
       "1                     11.80  \n",
       "2                     11.01  \n",
       "3                      7.47  \n",
       "4                      4.81  "
      ]
     },
     "execution_count": 30,
     "metadata": {},
     "output_type": "execute_result"
    }
   ],
   "source": [
    "# renomear colunas\n",
    "\n",
    "df_values.columns = df_values.columns.str.strip().str.replace(\" \", \"_\").str.replace(\"-\", \"_\").str.lower()\n",
    "\n",
    "df_values.head()"
   ]
  },
  {
   "cell_type": "code",
   "execution_count": 37,
   "id": "43713a62",
   "metadata": {},
   "outputs": [
    {
     "data": {
      "image/png": "[encoded data removed]",
      "text/plain": [
       "<Figure size 1200x700 with 1 Axes>"
      ]
     },
     "metadata": {},
     "output_type": "display_data"
    }
   ],
   "source": [
    "# gráfico de linhas para cada tipo de produção\n",
    "import matplotlib.pyplot as plt\n",
    "plt.figure(figsize=(12,7))\n",
    "for col in df_values.columns:\n",
    "    if col != \"ano\":\n",
    "        plt.plot(df_values[\"ano\"], df_values[col], marker=\"o\", label=col)\n",
    "plt.title(\"Evolution of the production by type in Madeira (1995–2024)\")\n",
    "plt.xlabel(\"Year\")\n",
    "plt.ylabel(\"Production (M€)\")\n",
    "plt.legend(bbox_to_anchor=(1.05, 1), loc=\"upper left\")\n",
    "\n",
    "plt.grid(True, linestyle=\"--\", alpha=0.6)\n",
    "plt.tight_layout()\n",
    "plt.show()"
   ]
  },
  {
   "cell_type": "code",
   "execution_count": 34,
   "id": "70708526",
   "metadata": {},
   "outputs": [],
   "source": [
    "df_values.to_csv(r\"C:\\Users\\sofia\\Documents\\Data_Analytics_Ironhack\\Projects\\ironhack_final_project\\worked_datasets\\producao_vegetal_por_tipo.csv\", index=False)"
   ]
  },
  {
   "cell_type": "code",
   "execution_count": 36,
   "id": "61428d01",
   "metadata": {},
   "outputs": [],
   "source": [
    "df_values_copy = df_values.copy()"
   ]
  }
 ],
 "metadata": {
  "kernelspec": {
   "display_name": "Sofia",
   "language": "python",
   "name": "python3"
  },
  "language_info": {
   "codemirror_mode": {
    "name": "ipython",
    "version": 3
   },
   "file_extension": ".py",
   "mimetype": "text/x-python",
   "name": "python",
   "nbconvert_exporter": "python",
   "pygments_lexer": "ipython3",
   "version": "3.12.9"
  }
 },
 "nbformat": 4,
 "nbformat_minor": 5
}
